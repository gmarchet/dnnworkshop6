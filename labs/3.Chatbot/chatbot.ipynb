{
 "cells": [
  {
   "cell_type": "markdown",
   "metadata": {},
   "source": [
    "# Creating a Chatbot with a Memory Network\n",
    "Adapted from https://towardsdatascience.com/deep-learning-for-nlp-creating-a-chatbot-with-keras-da5ca051e051"
   ]
  },
  {
   "cell_type": "code",
   "execution_count": 2,
   "metadata": {
    "scrolled": true
   },
   "outputs": [
    {
     "name": "stdout",
     "output_type": "stream",
     "text": [
      "2.0.0\n"
     ]
    }
   ],
   "source": [
    "#Library Imports\n",
    "import pickle\n",
    "import numpy as np\n",
    "np.random.seed(42)\n",
    "import tensorflow as tf\n",
    "print(tf.__version__)"
   ]
  },
  {
   "cell_type": "code",
   "execution_count": 3,
   "metadata": {
    "scrolled": true
   },
   "outputs": [],
   "source": [
    "#retrieve training data\n",
    "with open('train_qa.txt', 'rb') as f:\n",
    "    train_data = pickle.load(f)"
   ]
  },
  {
   "cell_type": "code",
   "execution_count": 4,
   "metadata": {
    "scrolled": true
   },
   "outputs": [],
   "source": [
    "#retrieve test data\n",
    "with open('test_qa.txt', 'rb') as f:\n",
    "    test_data = pickle.load(f)"
   ]
  },
  {
   "cell_type": "code",
   "execution_count": 5,
   "metadata": {
    "scrolled": true
   },
   "outputs": [
    {
     "data": {
      "text/plain": [
       "10000"
      ]
     },
     "execution_count": 5,
     "metadata": {},
     "output_type": "execute_result"
    }
   ],
   "source": [
    "#Number of training instances\n",
    "len(train_data)"
   ]
  },
  {
   "cell_type": "code",
   "execution_count": 6,
   "metadata": {
    "scrolled": true
   },
   "outputs": [
    {
     "data": {
      "text/plain": [
       "1000"
      ]
     },
     "execution_count": 6,
     "metadata": {},
     "output_type": "execute_result"
    }
   ],
   "source": [
    "#Number of test instances\n",
    "len(test_data)"
   ]
  },
  {
   "cell_type": "code",
   "execution_count": 7,
   "metadata": {
    "scrolled": true
   },
   "outputs": [
    {
     "data": {
      "text/plain": [
       "(['Sandra',\n",
       "  'went',\n",
       "  'back',\n",
       "  'to',\n",
       "  'the',\n",
       "  'hallway',\n",
       "  '.',\n",
       "  'Sandra',\n",
       "  'moved',\n",
       "  'to',\n",
       "  'the',\n",
       "  'office',\n",
       "  '.'],\n",
       " ['Is', 'Sandra', 'in', 'the', 'office', '?'],\n",
       " 'yes')"
      ]
     },
     "execution_count": 7,
     "metadata": {},
     "output_type": "execute_result"
    }
   ],
   "source": [
    "#Example of one of the instances\n",
    "train_data[10]"
   ]
  },
  {
   "cell_type": "code",
   "execution_count": 8,
   "metadata": {
    "scrolled": true
   },
   "outputs": [
    {
     "data": {
      "text/plain": [
       "'Sandra went back to the hallway . Sandra moved to the office .'"
      ]
     },
     "execution_count": 8,
     "metadata": {},
     "output_type": "execute_result"
    }
   ],
   "source": [
    "' '.join(train_data[10][0])"
   ]
  },
  {
   "cell_type": "code",
   "execution_count": 9,
   "metadata": {
    "scrolled": true
   },
   "outputs": [
    {
     "data": {
      "text/plain": [
       "'Is Sandra in the office ?'"
      ]
     },
     "execution_count": 9,
     "metadata": {},
     "output_type": "execute_result"
    }
   ],
   "source": [
    "' '.join(train_data[10][1])"
   ]
  },
  {
   "cell_type": "code",
   "execution_count": 10,
   "metadata": {
    "scrolled": true
   },
   "outputs": [
    {
     "data": {
      "text/plain": [
       "'yes'"
      ]
     },
     "execution_count": 10,
     "metadata": {},
     "output_type": "execute_result"
    }
   ],
   "source": [
    "train_data[10][2]"
   ]
  },
  {
   "cell_type": "code",
   "execution_count": 11,
   "metadata": {
    "scrolled": true
   },
   "outputs": [],
   "source": [
    "#First we need to create a vocabulary with our data\n",
    "#For this we will use the training data only to - On the video it uses both\n",
    "#train and test \n",
    "#Might have to use training and test later, as the dataset has very\n",
    "#few words"
   ]
  },
  {
   "cell_type": "code",
   "execution_count": 12,
   "metadata": {
    "scrolled": true
   },
   "outputs": [],
   "source": [
    "#First we will build a set of all the words in the dataset:\n",
    "vocab = set()\n",
    "for story, question, answer in train_data:\n",
    "    vocab = vocab.union(set(story)) #Set returns unique words in the sentence\n",
    "                                    #Union returns the unique common elements from a two sets\n",
    "    vocab = vocab.union(set(question))"
   ]
  },
  {
   "cell_type": "code",
   "execution_count": 13,
   "metadata": {
    "scrolled": true
   },
   "outputs": [],
   "source": [
    "vocab.add('no')\n",
    "vocab.add('yes')"
   ]
  },
  {
   "cell_type": "code",
   "execution_count": 14,
   "metadata": {
    "scrolled": false
   },
   "outputs": [
    {
     "data": {
      "text/plain": [
       "{'.',\n",
       " '?',\n",
       " 'Daniel',\n",
       " 'Is',\n",
       " 'John',\n",
       " 'Mary',\n",
       " 'Sandra',\n",
       " 'apple',\n",
       " 'back',\n",
       " 'bathroom',\n",
       " 'bedroom',\n",
       " 'discarded',\n",
       " 'down',\n",
       " 'dropped',\n",
       " 'football',\n",
       " 'garden',\n",
       " 'got',\n",
       " 'grabbed',\n",
       " 'hallway',\n",
       " 'in',\n",
       " 'journeyed',\n",
       " 'kitchen',\n",
       " 'left',\n",
       " 'milk',\n",
       " 'moved',\n",
       " 'no',\n",
       " 'office',\n",
       " 'picked',\n",
       " 'put',\n",
       " 'the',\n",
       " 'there',\n",
       " 'to',\n",
       " 'took',\n",
       " 'travelled',\n",
       " 'up',\n",
       " 'went',\n",
       " 'yes'}"
      ]
     },
     "execution_count": 14,
     "metadata": {},
     "output_type": "execute_result"
    }
   ],
   "source": [
    "vocab"
   ]
  },
  {
   "cell_type": "code",
   "execution_count": 15,
   "metadata": {
    "scrolled": true
   },
   "outputs": [],
   "source": [
    "#Calculate len and add 1 for Keras placeholder - Placeholders are used to feed in the data to the network. \n",
    "#They need a data type, and have optional shape arguements.\n",
    "#They will be empty at first, and then the data will get fed into the placeholder\n",
    "vocab_len = len(vocab) + 1"
   ]
  },
  {
   "cell_type": "code",
   "execution_count": 16,
   "metadata": {
    "scrolled": true
   },
   "outputs": [
    {
     "data": {
      "text/plain": [
       "38"
      ]
     },
     "execution_count": 16,
     "metadata": {},
     "output_type": "execute_result"
    }
   ],
   "source": [
    "vocab_len"
   ]
  },
  {
   "cell_type": "code",
   "execution_count": 17,
   "metadata": {
    "scrolled": true
   },
   "outputs": [],
   "source": [
    "#Now we are going to calculate the longest story and the longest question\n",
    "#We need this for the Keras pad sequences. \n",
    "#Keras training layers expect all of the input to have the same length, so \n",
    "#we need to pad \n",
    "all_data = test_data + train_data"
   ]
  },
  {
   "cell_type": "code",
   "execution_count": 18,
   "metadata": {
    "scrolled": true
   },
   "outputs": [],
   "source": [
    "all_story_lens = [len(data[0]) for data in all_data]"
   ]
  },
  {
   "cell_type": "code",
   "execution_count": 19,
   "metadata": {
    "scrolled": true
   },
   "outputs": [],
   "source": [
    "max_story_len = (max(all_story_lens))"
   ]
  },
  {
   "cell_type": "code",
   "execution_count": 20,
   "metadata": {
    "scrolled": true
   },
   "outputs": [],
   "source": [
    "max_question_len = max([len(data[1]) for data in all_data])"
   ]
  },
  {
   "cell_type": "markdown",
   "metadata": {},
   "source": [
    "## Vectorizing the data"
   ]
  },
  {
   "cell_type": "markdown",
   "metadata": {},
   "source": [
    "First, we will go through a manual process of how to vectorize the data, and then we will create a function that does this automatically for us. "
   ]
  },
  {
   "cell_type": "code",
   "execution_count": 21,
   "metadata": {
    "scrolled": true
   },
   "outputs": [],
   "source": [
    "from tensorflow.keras.preprocessing.sequence import pad_sequences\n",
    "from tensorflow.keras.preprocessing.text import Tokenizer"
   ]
  },
  {
   "cell_type": "code",
   "execution_count": 22,
   "metadata": {
    "scrolled": true
   },
   "outputs": [],
   "source": [
    "#Create an instance of the tokenizer object:\n",
    "tokenizer = Tokenizer(filters = [])\n",
    "tokenizer.fit_on_texts(vocab)"
   ]
  },
  {
   "cell_type": "code",
   "execution_count": 23,
   "metadata": {
    "scrolled": true
   },
   "outputs": [
    {
     "data": {
      "text/plain": [
       "{'kitchen': 1,\n",
       " 'up': 2,\n",
       " 'took': 3,\n",
       " 'moved': 4,\n",
       " 'apple': 5,\n",
       " 'bedroom': 6,\n",
       " 'hallway': 7,\n",
       " 'garden': 8,\n",
       " 'milk': 9,\n",
       " 'went': 10,\n",
       " 'there': 11,\n",
       " '?': 12,\n",
       " 'john': 13,\n",
       " 'down': 14,\n",
       " 'sandra': 15,\n",
       " 'got': 16,\n",
       " 'daniel': 17,\n",
       " 'back': 18,\n",
       " 'to': 19,\n",
       " 'dropped': 20,\n",
       " 'bathroom': 21,\n",
       " '.': 22,\n",
       " 'football': 23,\n",
       " 'picked': 24,\n",
       " 'travelled': 25,\n",
       " 'put': 26,\n",
       " 'discarded': 27,\n",
       " 'yes': 28,\n",
       " 'mary': 29,\n",
       " 'grabbed': 30,\n",
       " 'office': 31,\n",
       " 'no': 32,\n",
       " 'left': 33,\n",
       " 'is': 34,\n",
       " 'in': 35,\n",
       " 'journeyed': 36,\n",
       " 'the': 37}"
      ]
     },
     "execution_count": 23,
     "metadata": {},
     "output_type": "execute_result"
    }
   ],
   "source": [
    "#Dictionary that maps every word in our vocab to an index\n",
    "# It has been automatically lowercased\n",
    "#This tokenizer can give different indexes for different words depending on when we run it\n",
    "tokenizer.word_index"
   ]
  },
  {
   "cell_type": "code",
   "execution_count": 24,
   "metadata": {
    "scrolled": true
   },
   "outputs": [],
   "source": [
    "#Tokenize the stories, questions and answers:\n",
    "train_story_text = []\n",
    "train_question_text = []\n",
    "train_answers = []"
   ]
  },
  {
   "cell_type": "code",
   "execution_count": 25,
   "metadata": {
    "scrolled": true
   },
   "outputs": [],
   "source": [
    "#Separating each of the elements\n",
    "for story,question,answer in train_data:\n",
    "    train_story_text.append(story)\n",
    "    train_question_text.append(question) \n",
    "    train_answers.append(answer)\n",
    "    "
   ]
  },
  {
   "cell_type": "code",
   "execution_count": 26,
   "metadata": {
    "scrolled": true
   },
   "outputs": [],
   "source": [
    "#Coverting the text into the indexes \n",
    "train_story_seq = tokenizer.texts_to_sequences(train_story_text)"
   ]
  },
  {
   "cell_type": "code",
   "execution_count": 27,
   "metadata": {
    "scrolled": true
   },
   "outputs": [],
   "source": [
    "#Create a function for vectorizing the stories, questions and answers:\n",
    "def vectorize_stories(data,word_index = tokenizer.word_index, max_story_len = max_story_len, max_question_len = max_question_len):\n",
    "    #vectorized stories:\n",
    "    X = []\n",
    "    #vectorized questions:\n",
    "    Xq = []\n",
    "    #vectorized answers:\n",
    "    Y = []\n",
    "    \n",
    "    for story, question, answer in data:\n",
    "        #Getting indexes for each word in the story\n",
    "        x = [word_index[word.lower()] for word in story]\n",
    "        #Getting indexes for each word in the story\n",
    "        xq = [word_index[word.lower()] for word in question]\n",
    "        #For the answers\n",
    "        y = np.zeros(len(word_index) + 1) #Index 0 Reserved when padding the sequences\n",
    "        y[word_index[answer]] = 1\n",
    "        \n",
    "        X.append(x)\n",
    "        Xq.append(xq)\n",
    "        Y.append(y)\n",
    "        \n",
    "    #Now we have to pad these sequences:\n",
    "    return(pad_sequences(X,maxlen=max_story_len), pad_sequences(Xq, maxlen=max_question_len), np.array(Y))\n",
    "        "
   ]
  },
  {
   "cell_type": "code",
   "execution_count": 28,
   "metadata": {
    "scrolled": true
   },
   "outputs": [],
   "source": [
    "inputs_train, questions_train, answers_train = vectorize_stories(train_data)"
   ]
  },
  {
   "cell_type": "code",
   "execution_count": 29,
   "metadata": {
    "scrolled": true
   },
   "outputs": [],
   "source": [
    "inputs_test, questions_test, answers_test = vectorize_stories(test_data)"
   ]
  },
  {
   "cell_type": "code",
   "execution_count": 30,
   "metadata": {
    "scrolled": true
   },
   "outputs": [
    {
     "data": {
      "text/plain": [
       "array([ 0,  0,  0,  0,  0,  0,  0,  0,  0,  0,  0,  0,  0,  0,  0,  0,  0,\n",
       "        0,  0,  0,  0,  0,  0,  0,  0,  0,  0,  0,  0,  0,  0,  0,  0,  0,\n",
       "        0,  0,  0,  0,  0,  0,  0,  0,  0,  0,  0,  0,  0,  0,  0,  0,  0,\n",
       "        0,  0,  0,  0,  0,  0,  0,  0,  0,  0,  0,  0,  0,  0,  0,  0,  0,\n",
       "        0,  0,  0,  0,  0,  0,  0,  0,  0,  0,  0,  0,  0,  0,  0,  0,  0,\n",
       "        0,  0,  0,  0,  0,  0,  0,  0,  0,  0,  0,  0,  0,  0,  0,  0,  0,\n",
       "        0,  0,  0,  0,  0,  0,  0,  0,  0,  0,  0,  0,  0,  0,  0,  0,  0,\n",
       "        0,  0,  0,  0,  0,  0,  0,  0,  0,  0,  0,  0,  0,  0,  0,  0,  0,\n",
       "        0,  0,  0,  0,  0,  0,  0,  0, 29,  4, 19, 37, 21, 22, 15, 36, 19,\n",
       "       37,  6, 22], dtype=int32)"
      ]
     },
     "execution_count": 30,
     "metadata": {},
     "output_type": "execute_result"
    }
   ],
   "source": [
    "inputs_train[0]"
   ]
  },
  {
   "cell_type": "code",
   "execution_count": 31,
   "metadata": {
    "scrolled": true
   },
   "outputs": [
    {
     "data": {
      "text/plain": [
       "['Mary',\n",
       " 'moved',\n",
       " 'to',\n",
       " 'the',\n",
       " 'bathroom',\n",
       " '.',\n",
       " 'Sandra',\n",
       " 'journeyed',\n",
       " 'to',\n",
       " 'the',\n",
       " 'bedroom',\n",
       " '.']"
      ]
     },
     "execution_count": 31,
     "metadata": {},
     "output_type": "execute_result"
    }
   ],
   "source": [
    "train_story_text[0]"
   ]
  },
  {
   "cell_type": "code",
   "execution_count": 32,
   "metadata": {
    "scrolled": true
   },
   "outputs": [
    {
     "data": {
      "text/plain": [
       "[29, 4, 19, 37, 21, 22, 15, 36, 19, 37, 6, 22]"
      ]
     },
     "execution_count": 32,
     "metadata": {},
     "output_type": "execute_result"
    }
   ],
   "source": [
    "train_story_seq[0]"
   ]
  },
  {
   "cell_type": "markdown",
   "metadata": {},
   "source": [
    "## Building the Network"
   ]
  },
  {
   "cell_type": "code",
   "execution_count": 53,
   "metadata": {
    "scrolled": true
   },
   "outputs": [],
   "source": [
    "#Imports\n",
    "from tensorflow.keras.models import Sequential, Model\n",
    "from tensorflow.keras.layers import Embedding\n",
    "from tensorflow.keras.layers import Input, Activation, Dense, Permute, Dropout, add, dot, concatenate, LSTM"
   ]
  },
  {
   "cell_type": "code",
   "execution_count": 54,
   "metadata": {
    "scrolled": true
   },
   "outputs": [],
   "source": [
    "# We need to create the placeholders \n",
    "#The Input function is used to create a keras tensor\n",
    "#PLACEHOLDER shape = (max_story_len,batch_size)\n",
    "#These are our placeholder for the inputs, ready to recieve batches of the stories and the questions\n",
    "input_sequence = Input((max_story_len,)) #As we dont know batch size yet\n",
    "question = Input((max_question_len,))"
   ]
  },
  {
   "cell_type": "code",
   "execution_count": 55,
   "metadata": {
    "scrolled": true
   },
   "outputs": [],
   "source": [
    "#Create input encoder M:\n",
    "input_encoder_m = Sequential()\n",
    "input_encoder_m.add(Embedding(input_dim=vocab_len,output_dim = 64)) #From paper\n",
    "input_encoder_m.add(Dropout(0.3))\n",
    "\n",
    "#Outputs: (Samples, story_maxlen,embedding_dim) -- Gives a list of the lenght of the samples where each item has the\n",
    "#lenght of the max story lenght and every word is embedded in the embbeding dimension"
   ]
  },
  {
   "cell_type": "code",
   "execution_count": 56,
   "metadata": {
    "scrolled": true
   },
   "outputs": [],
   "source": [
    "#Create input encoder C:\n",
    "input_encoder_c = Sequential()\n",
    "input_encoder_c.add(Embedding(input_dim=vocab_len,output_dim = max_question_len)) #From paper\n",
    "input_encoder_c.add(Dropout(0.3))\n",
    "\n",
    "#Outputs: (samples, story_maxlen, max_question_len)"
   ]
  },
  {
   "cell_type": "code",
   "execution_count": 57,
   "metadata": {
    "scrolled": true
   },
   "outputs": [],
   "source": [
    "#Create question encoder:\n",
    "question_encoder = Sequential()\n",
    "question_encoder.add(Embedding(input_dim=vocab_len,output_dim = 64,input_length=max_question_len)) #From paper\n",
    "question_encoder.add(Dropout(0.3))\n",
    "\n",
    "#Outputs: (samples, question_maxlen, embedding_dim)"
   ]
  },
  {
   "cell_type": "code",
   "execution_count": 58,
   "metadata": {
    "scrolled": true
   },
   "outputs": [],
   "source": [
    "#Now lets encode the sequences, passing the placeholders into our encoders:\n",
    "input_encoded_m = input_encoder_m(input_sequence)\n",
    "input_encoded_c = input_encoder_c(input_sequence)\n",
    "question_encoded = question_encoder(question)"
   ]
  },
  {
   "cell_type": "code",
   "execution_count": 59,
   "metadata": {
    "scrolled": true
   },
   "outputs": [],
   "source": [
    "#Use dot product to compute similarity between input encoded m and question \n",
    "#Like in the paper:\n",
    "match = dot([input_encoded_m,question_encoded], axes = (2,2))\n",
    "match = Activation('softmax')(match)"
   ]
  },
  {
   "cell_type": "code",
   "execution_count": 60,
   "metadata": {
    "scrolled": true
   },
   "outputs": [],
   "source": [
    "#For the response we want to add this match with the ouput of input_encoded_c\n",
    "response = add([match,input_encoded_c])\n",
    "response = Permute((2,1))(response) #Permute Layer: permutes dimensions of input"
   ]
  },
  {
   "cell_type": "code",
   "execution_count": 61,
   "metadata": {
    "scrolled": true
   },
   "outputs": [],
   "source": [
    "#Once we have the response we can concatenate it with the question encoded:\n",
    "answer = concatenate([response, question_encoded])"
   ]
  },
  {
   "cell_type": "code",
   "execution_count": 62,
   "metadata": {
    "scrolled": true
   },
   "outputs": [
    {
     "data": {
      "text/plain": [
       "<tf.Tensor 'concatenate_1/Identity:0' shape=(None, 6, 220) dtype=float32>"
      ]
     },
     "execution_count": 62,
     "metadata": {},
     "output_type": "execute_result"
    }
   ],
   "source": [
    "answer"
   ]
  },
  {
   "cell_type": "code",
   "execution_count": 63,
   "metadata": {
    "scrolled": true
   },
   "outputs": [],
   "source": [
    "# Reduce the answer tensor with a RNN (LSTM)\n",
    "answer = LSTM(32)(answer)"
   ]
  },
  {
   "cell_type": "code",
   "execution_count": 64,
   "metadata": {
    "scrolled": true
   },
   "outputs": [],
   "source": [
    "#Regularization with dropout:\n",
    "answer = Dropout(0.5)(answer)\n",
    "#Output layer:\n",
    "answer = Dense(vocab_len)(answer) #Output shape: (Samples, Vocab_size) #Yes or no and all 0s"
   ]
  },
  {
   "cell_type": "code",
   "execution_count": 65,
   "metadata": {
    "scrolled": true
   },
   "outputs": [],
   "source": [
    "#Now we need to output a probability distribution for the vocab, using softmax:\n",
    "answer = Activation('softmax')(answer)"
   ]
  },
  {
   "cell_type": "code",
   "execution_count": 66,
   "metadata": {
    "scrolled": true
   },
   "outputs": [],
   "source": [
    "#Now we build the final model:\n",
    "model = Model([input_sequence,question], answer)"
   ]
  },
  {
   "cell_type": "code",
   "execution_count": 67,
   "metadata": {
    "scrolled": true
   },
   "outputs": [],
   "source": [
    "model.compile(optimizer='rmsprop', loss = 'categorical_crossentropy', metrics = ['accuracy'])\n",
    "#Categorical instead of binary cross entropy as because of the way we are training\n",
    "#we could actually see any of the words from the vocab as output\n",
    "#however, we should only see yes or no"
   ]
  },
  {
   "cell_type": "code",
   "execution_count": 68,
   "metadata": {
    "scrolled": true
   },
   "outputs": [
    {
     "name": "stdout",
     "output_type": "stream",
     "text": [
      "Model: \"model_1\"\n",
      "__________________________________________________________________________________________________\n",
      "Layer (type)                    Output Shape         Param #     Connected to                     \n",
      "==================================================================================================\n",
      "input_3 (InputLayer)            [(None, 156)]        0                                            \n",
      "__________________________________________________________________________________________________\n",
      "input_4 (InputLayer)            [(None, 6)]          0                                            \n",
      "__________________________________________________________________________________________________\n",
      "sequential_3 (Sequential)       multiple             2432        input_3[0][0]                    \n",
      "__________________________________________________________________________________________________\n",
      "sequential_5 (Sequential)       (None, 6, 64)        2432        input_4[0][0]                    \n",
      "__________________________________________________________________________________________________\n",
      "dot_1 (Dot)                     (None, 156, 6)       0           sequential_3[1][0]               \n",
      "                                                                 sequential_5[1][0]               \n",
      "__________________________________________________________________________________________________\n",
      "activation_2 (Activation)       (None, 156, 6)       0           dot_1[0][0]                      \n",
      "__________________________________________________________________________________________________\n",
      "sequential_4 (Sequential)       multiple             228         input_3[0][0]                    \n",
      "__________________________________________________________________________________________________\n",
      "add_1 (Add)                     (None, 156, 6)       0           activation_2[0][0]               \n",
      "                                                                 sequential_4[1][0]               \n",
      "__________________________________________________________________________________________________\n",
      "permute_1 (Permute)             (None, 6, 156)       0           add_1[0][0]                      \n",
      "__________________________________________________________________________________________________\n",
      "concatenate_1 (Concatenate)     (None, 6, 220)       0           permute_1[0][0]                  \n",
      "                                                                 sequential_5[1][0]               \n",
      "__________________________________________________________________________________________________\n",
      "lstm_1 (LSTM)                   (None, 32)           32384       concatenate_1[0][0]              \n",
      "__________________________________________________________________________________________________\n",
      "dropout_7 (Dropout)             (None, 32)           0           lstm_1[0][0]                     \n",
      "__________________________________________________________________________________________________\n",
      "dense_1 (Dense)                 (None, 38)           1254        dropout_7[0][0]                  \n",
      "__________________________________________________________________________________________________\n",
      "activation_3 (Activation)       (None, 38)           0           dense_1[0][0]                    \n",
      "==================================================================================================\n",
      "Total params: 38,730\n",
      "Trainable params: 38,730\n",
      "Non-trainable params: 0\n",
      "__________________________________________________________________________________________________\n"
     ]
    }
   ],
   "source": [
    "model.summary()"
   ]
  },
  {
   "cell_type": "markdown",
   "metadata": {},
   "source": [
    "## Training and testing the model"
   ]
  },
  {
   "cell_type": "code",
   "execution_count": 69,
   "metadata": {
    "scrolled": true
   },
   "outputs": [
    {
     "name": "stdout",
     "output_type": "stream",
     "text": [
      "Train on 10000 samples, validate on 1000 samples\n",
      "Epoch 1/100\n",
      "10000/10000 [==============================] - 5s 514us/sample - loss: 0.9270 - accuracy: 0.4989 - val_loss: 0.6951 - val_accuracy: 0.5030\n",
      "Epoch 2/100\n",
      "10000/10000 [==============================] - 2s 231us/sample - loss: 0.7074 - accuracy: 0.4939 - val_loss: 0.6932 - val_accuracy: 0.4970\n",
      "Epoch 3/100\n",
      "10000/10000 [==============================] - 2s 236us/sample - loss: 0.6966 - accuracy: 0.4998 - val_loss: 0.6937 - val_accuracy: 0.4970\n",
      "Epoch 4/100\n",
      "10000/10000 [==============================] - 2s 234us/sample - loss: 0.6949 - accuracy: 0.5045 - val_loss: 0.6935 - val_accuracy: 0.4970\n",
      "Epoch 5/100\n",
      "10000/10000 [==============================] - 2s 234us/sample - loss: 0.6948 - accuracy: 0.5010 - val_loss: 0.6936 - val_accuracy: 0.5030\n",
      "Epoch 6/100\n",
      "10000/10000 [==============================] - 2s 238us/sample - loss: 0.6948 - accuracy: 0.5047 - val_loss: 0.6946 - val_accuracy: 0.4970\n",
      "Epoch 7/100\n",
      "10000/10000 [==============================] - 2s 235us/sample - loss: 0.6944 - accuracy: 0.4987 - val_loss: 0.6932 - val_accuracy: 0.5030\n",
      "Epoch 8/100\n",
      "10000/10000 [==============================] - 2s 234us/sample - loss: 0.6947 - accuracy: 0.4992 - val_loss: 0.6957 - val_accuracy: 0.4970\n",
      "Epoch 9/100\n",
      "10000/10000 [==============================] - 2s 247us/sample - loss: 0.6944 - accuracy: 0.5078 - val_loss: 0.6934 - val_accuracy: 0.4970\n",
      "Epoch 10/100\n",
      "10000/10000 [==============================] - 2s 242us/sample - loss: 0.6940 - accuracy: 0.5024 - val_loss: 0.6934 - val_accuracy: 0.5030\n",
      "Epoch 11/100\n",
      "10000/10000 [==============================] - 2s 239us/sample - loss: 0.6946 - accuracy: 0.4984 - val_loss: 0.6940 - val_accuracy: 0.5020\n",
      "Epoch 12/100\n",
      "10000/10000 [==============================] - 2s 233us/sample - loss: 0.6933 - accuracy: 0.5142 - val_loss: 0.6938 - val_accuracy: 0.4910\n",
      "Epoch 13/100\n",
      "10000/10000 [==============================] - 2s 236us/sample - loss: 0.6925 - accuracy: 0.5179 - val_loss: 0.6923 - val_accuracy: 0.5140\n",
      "Epoch 14/100\n",
      "10000/10000 [==============================] - 2s 237us/sample - loss: 0.6755 - accuracy: 0.5750 - val_loss: 0.6576 - val_accuracy: 0.6600\n",
      "Epoch 15/100\n",
      "10000/10000 [==============================] - 2s 239us/sample - loss: 0.6432 - accuracy: 0.6374 - val_loss: 0.6290 - val_accuracy: 0.6570\n",
      "Epoch 16/100\n",
      "10000/10000 [==============================] - 2s 236us/sample - loss: 0.6282 - accuracy: 0.6618 - val_loss: 0.6231 - val_accuracy: 0.6630\n",
      "Epoch 17/100\n",
      "10000/10000 [==============================] - 2s 232us/sample - loss: 0.6169 - accuracy: 0.6665 - val_loss: 0.6151 - val_accuracy: 0.6710\n",
      "Epoch 18/100\n",
      "10000/10000 [==============================] - 2s 245us/sample - loss: 0.6073 - accuracy: 0.6779 - val_loss: 0.6067 - val_accuracy: 0.6670\n",
      "Epoch 19/100\n",
      "10000/10000 [==============================] - 2s 234us/sample - loss: 0.5945 - accuracy: 0.6905 - val_loss: 0.5750 - val_accuracy: 0.7000\n",
      "Epoch 20/100\n",
      "10000/10000 [==============================] - 2s 239us/sample - loss: 0.5595 - accuracy: 0.7145 - val_loss: 0.5422 - val_accuracy: 0.7360\n",
      "Epoch 21/100\n",
      "10000/10000 [==============================] - 2s 236us/sample - loss: 0.5402 - accuracy: 0.7323 - val_loss: 0.5132 - val_accuracy: 0.7510\n",
      "Epoch 22/100\n",
      "10000/10000 [==============================] - 2s 235us/sample - loss: 0.5153 - accuracy: 0.7530 - val_loss: 0.4909 - val_accuracy: 0.7550\n",
      "Epoch 23/100\n",
      "10000/10000 [==============================] - 2s 232us/sample - loss: 0.4973 - accuracy: 0.7616 - val_loss: 0.4852 - val_accuracy: 0.7630\n",
      "Epoch 24/100\n",
      "10000/10000 [==============================] - 2s 234us/sample - loss: 0.4818 - accuracy: 0.7754 - val_loss: 0.4654 - val_accuracy: 0.7830\n",
      "Epoch 25/100\n",
      "10000/10000 [==============================] - 2s 239us/sample - loss: 0.4598 - accuracy: 0.7884 - val_loss: 0.4409 - val_accuracy: 0.7990\n",
      "Epoch 26/100\n",
      "10000/10000 [==============================] - 2s 232us/sample - loss: 0.4500 - accuracy: 0.8010 - val_loss: 0.4318 - val_accuracy: 0.8020\n",
      "Epoch 27/100\n",
      "10000/10000 [==============================] - 2s 236us/sample - loss: 0.4365 - accuracy: 0.8091 - val_loss: 0.4504 - val_accuracy: 0.8020\n",
      "Epoch 28/100\n",
      "10000/10000 [==============================] - 2s 244us/sample - loss: 0.4321 - accuracy: 0.8112 - val_loss: 0.4118 - val_accuracy: 0.8240\n",
      "Epoch 29/100\n",
      "10000/10000 [==============================] - 2s 237us/sample - loss: 0.4203 - accuracy: 0.8153 - val_loss: 0.4047 - val_accuracy: 0.8220\n",
      "Epoch 30/100\n",
      "10000/10000 [==============================] - 2s 236us/sample - loss: 0.4137 - accuracy: 0.8133 - val_loss: 0.3897 - val_accuracy: 0.8280\n",
      "Epoch 31/100\n",
      "10000/10000 [==============================] - 2s 236us/sample - loss: 0.4075 - accuracy: 0.8201 - val_loss: 0.4198 - val_accuracy: 0.8290\n",
      "Epoch 32/100\n",
      "10000/10000 [==============================] - 2s 234us/sample - loss: 0.3955 - accuracy: 0.8304 - val_loss: 0.4067 - val_accuracy: 0.8190\n",
      "Epoch 33/100\n",
      "10000/10000 [==============================] - 2s 233us/sample - loss: 0.3959 - accuracy: 0.8277 - val_loss: 0.3834 - val_accuracy: 0.8340\n",
      "Epoch 34/100\n",
      "10000/10000 [==============================] - 2s 234us/sample - loss: 0.3906 - accuracy: 0.8325 - val_loss: 0.3808 - val_accuracy: 0.8310\n",
      "Epoch 35/100\n",
      "10000/10000 [==============================] - 2s 231us/sample - loss: 0.3855 - accuracy: 0.8368 - val_loss: 0.3774 - val_accuracy: 0.8370\n",
      "Epoch 36/100\n",
      "10000/10000 [==============================] - 2s 237us/sample - loss: 0.3727 - accuracy: 0.8425 - val_loss: 0.3851 - val_accuracy: 0.8260\n",
      "Epoch 37/100\n",
      "10000/10000 [==============================] - 2s 235us/sample - loss: 0.3732 - accuracy: 0.8422 - val_loss: 0.3884 - val_accuracy: 0.8280\n",
      "Epoch 38/100\n",
      "10000/10000 [==============================] - 2s 245us/sample - loss: 0.3678 - accuracy: 0.8436 - val_loss: 0.3754 - val_accuracy: 0.8380\n",
      "Epoch 39/100\n",
      "10000/10000 [==============================] - 2s 234us/sample - loss: 0.3619 - accuracy: 0.8482 - val_loss: 0.3773 - val_accuracy: 0.8160\n",
      "Epoch 40/100\n",
      "10000/10000 [==============================] - 2s 247us/sample - loss: 0.3621 - accuracy: 0.8459 - val_loss: 0.3752 - val_accuracy: 0.8290\n",
      "Epoch 41/100\n",
      "10000/10000 [==============================] - 2s 235us/sample - loss: 0.3540 - accuracy: 0.8505 - val_loss: 0.3979 - val_accuracy: 0.8320\n",
      "Epoch 42/100\n",
      "10000/10000 [==============================] - 2s 233us/sample - loss: 0.3556 - accuracy: 0.8459 - val_loss: 0.3670 - val_accuracy: 0.8260\n",
      "Epoch 43/100\n",
      "10000/10000 [==============================] - 2s 237us/sample - loss: 0.3518 - accuracy: 0.8498 - val_loss: 0.3762 - val_accuracy: 0.8310\n",
      "Epoch 44/100\n",
      "10000/10000 [==============================] - 2s 234us/sample - loss: 0.3431 - accuracy: 0.8546 - val_loss: 0.3679 - val_accuracy: 0.8340\n",
      "Epoch 45/100\n",
      "10000/10000 [==============================] - 2s 235us/sample - loss: 0.3449 - accuracy: 0.8503 - val_loss: 0.3745 - val_accuracy: 0.8340\n",
      "Epoch 46/100\n",
      "10000/10000 [==============================] - 2s 232us/sample - loss: 0.3433 - accuracy: 0.8549 - val_loss: 0.3660 - val_accuracy: 0.8310\n",
      "Epoch 47/100\n",
      "10000/10000 [==============================] - 2s 236us/sample - loss: 0.3411 - accuracy: 0.8561 - val_loss: 0.3686 - val_accuracy: 0.8360\n",
      "Epoch 48/100\n",
      "10000/10000 [==============================] - 2s 244us/sample - loss: 0.3403 - accuracy: 0.8560 - val_loss: 0.3849 - val_accuracy: 0.8300\n",
      "Epoch 49/100\n",
      "10000/10000 [==============================] - 2s 241us/sample - loss: 0.3341 - accuracy: 0.8576 - val_loss: 0.3787 - val_accuracy: 0.8340\n",
      "Epoch 50/100\n",
      "10000/10000 [==============================] - 2s 235us/sample - loss: 0.3342 - accuracy: 0.8617 - val_loss: 0.3635 - val_accuracy: 0.8310\n",
      "Epoch 51/100\n",
      "10000/10000 [==============================] - 2s 235us/sample - loss: 0.3287 - accuracy: 0.8570 - val_loss: 0.3703 - val_accuracy: 0.8350\n",
      "Epoch 52/100\n",
      "10000/10000 [==============================] - 2s 233us/sample - loss: 0.3269 - accuracy: 0.8635 - val_loss: 0.3937 - val_accuracy: 0.8340\n",
      "Epoch 53/100\n",
      "10000/10000 [==============================] - 2s 239us/sample - loss: 0.3293 - accuracy: 0.8614 - val_loss: 0.3859 - val_accuracy: 0.8330\n",
      "Epoch 54/100\n"
     ]
    },
    {
     "name": "stdout",
     "output_type": "stream",
     "text": [
      "10000/10000 [==============================] - 2s 240us/sample - loss: 0.3247 - accuracy: 0.8611 - val_loss: 0.3895 - val_accuracy: 0.8320\n",
      "Epoch 55/100\n",
      "10000/10000 [==============================] - 2s 237us/sample - loss: 0.3201 - accuracy: 0.8654 - val_loss: 0.3677 - val_accuracy: 0.8350\n",
      "Epoch 56/100\n",
      "10000/10000 [==============================] - 2s 239us/sample - loss: 0.3240 - accuracy: 0.8627 - val_loss: 0.3807 - val_accuracy: 0.8300\n",
      "Epoch 57/100\n",
      "10000/10000 [==============================] - 2s 246us/sample - loss: 0.3197 - accuracy: 0.8645 - val_loss: 0.3683 - val_accuracy: 0.8340\n",
      "Epoch 58/100\n",
      "10000/10000 [==============================] - 2s 233us/sample - loss: 0.3160 - accuracy: 0.8657 - val_loss: 0.3810 - val_accuracy: 0.8370\n",
      "Epoch 59/100\n",
      "10000/10000 [==============================] - 2s 234us/sample - loss: 0.3203 - accuracy: 0.8652 - val_loss: 0.3865 - val_accuracy: 0.8340\n",
      "Epoch 60/100\n",
      "10000/10000 [==============================] - 2s 233us/sample - loss: 0.3144 - accuracy: 0.8664 - val_loss: 0.3731 - val_accuracy: 0.8430\n",
      "Epoch 61/100\n",
      "10000/10000 [==============================] - 2s 235us/sample - loss: 0.3102 - accuracy: 0.8697 - val_loss: 0.3656 - val_accuracy: 0.8370\n",
      "Epoch 62/100\n",
      "10000/10000 [==============================] - 2s 240us/sample - loss: 0.3071 - accuracy: 0.8702 - val_loss: 0.3927 - val_accuracy: 0.8420\n",
      "Epoch 63/100\n",
      "10000/10000 [==============================] - 2s 234us/sample - loss: 0.3095 - accuracy: 0.8667 - val_loss: 0.3947 - val_accuracy: 0.8360\n",
      "Epoch 64/100\n",
      "10000/10000 [==============================] - 2s 237us/sample - loss: 0.3054 - accuracy: 0.8701 - val_loss: 0.3764 - val_accuracy: 0.8370\n",
      "Epoch 65/100\n",
      "10000/10000 [==============================] - 2s 235us/sample - loss: 0.3083 - accuracy: 0.8699 - val_loss: 0.3773 - val_accuracy: 0.8370\n",
      "Epoch 66/100\n",
      "10000/10000 [==============================] - 2s 235us/sample - loss: 0.3052 - accuracy: 0.8734 - val_loss: 0.3892 - val_accuracy: 0.8280\n",
      "Epoch 67/100\n",
      "10000/10000 [==============================] - 2s 246us/sample - loss: 0.3016 - accuracy: 0.8718 - val_loss: 0.3985 - val_accuracy: 0.8240\n",
      "Epoch 68/100\n",
      "10000/10000 [==============================] - 2s 231us/sample - loss: 0.2973 - accuracy: 0.8742 - val_loss: 0.3838 - val_accuracy: 0.8350\n",
      "Epoch 69/100\n",
      "10000/10000 [==============================] - 2s 233us/sample - loss: 0.3002 - accuracy: 0.8756 - val_loss: 0.3811 - val_accuracy: 0.8350\n",
      "Epoch 70/100\n",
      "10000/10000 [==============================] - 2s 233us/sample - loss: 0.2994 - accuracy: 0.8715 - val_loss: 0.3744 - val_accuracy: 0.8380\n",
      "Epoch 71/100\n",
      "10000/10000 [==============================] - 2s 232us/sample - loss: 0.2977 - accuracy: 0.8724 - val_loss: 0.4055 - val_accuracy: 0.8320\n",
      "Epoch 72/100\n",
      "10000/10000 [==============================] - 2s 233us/sample - loss: 0.2895 - accuracy: 0.8790 - val_loss: 0.3843 - val_accuracy: 0.8350\n",
      "Epoch 73/100\n",
      "10000/10000 [==============================] - 2s 230us/sample - loss: 0.2884 - accuracy: 0.8803 - val_loss: 0.3951 - val_accuracy: 0.8250\n",
      "Epoch 74/100\n",
      "10000/10000 [==============================] - 2s 231us/sample - loss: 0.2869 - accuracy: 0.8796 - val_loss: 0.3942 - val_accuracy: 0.8320\n",
      "Epoch 75/100\n",
      "10000/10000 [==============================] - 2s 237us/sample - loss: 0.2880 - accuracy: 0.8787 - val_loss: 0.3894 - val_accuracy: 0.8330\n",
      "Epoch 76/100\n",
      "10000/10000 [==============================] - 2s 231us/sample - loss: 0.2886 - accuracy: 0.8759 - val_loss: 0.4455 - val_accuracy: 0.8270\n",
      "Epoch 77/100\n",
      "10000/10000 [==============================] - 2s 235us/sample - loss: 0.2911 - accuracy: 0.8782 - val_loss: 0.3969 - val_accuracy: 0.8330\n",
      "Epoch 78/100\n",
      "10000/10000 [==============================] - 2s 243us/sample - loss: 0.2834 - accuracy: 0.8808 - val_loss: 0.3957 - val_accuracy: 0.8300\n",
      "Epoch 79/100\n",
      "10000/10000 [==============================] - 2s 231us/sample - loss: 0.2803 - accuracy: 0.8817 - val_loss: 0.4196 - val_accuracy: 0.8320\n",
      "Epoch 80/100\n",
      "10000/10000 [==============================] - 2s 238us/sample - loss: 0.2806 - accuracy: 0.8815 - val_loss: 0.4109 - val_accuracy: 0.8320\n",
      "Epoch 81/100\n",
      "10000/10000 [==============================] - 2s 233us/sample - loss: 0.2793 - accuracy: 0.8819 - val_loss: 0.3874 - val_accuracy: 0.8350\n",
      "Epoch 82/100\n",
      "10000/10000 [==============================] - 2s 237us/sample - loss: 0.2752 - accuracy: 0.8832 - val_loss: 0.4381 - val_accuracy: 0.8250\n",
      "Epoch 83/100\n",
      "10000/10000 [==============================] - 2s 237us/sample - loss: 0.2724 - accuracy: 0.8874 - val_loss: 0.4011 - val_accuracy: 0.8240\n",
      "Epoch 84/100\n",
      "10000/10000 [==============================] - 2s 240us/sample - loss: 0.2719 - accuracy: 0.8838 - val_loss: 0.4017 - val_accuracy: 0.8380\n",
      "Epoch 85/100\n",
      "10000/10000 [==============================] - 2s 234us/sample - loss: 0.2672 - accuracy: 0.8880 - val_loss: 0.4219 - val_accuracy: 0.8260\n",
      "Epoch 86/100\n",
      "10000/10000 [==============================] - 2s 234us/sample - loss: 0.2654 - accuracy: 0.8883 - val_loss: 0.4264 - val_accuracy: 0.8300\n",
      "Epoch 87/100\n",
      "10000/10000 [==============================] - 2s 233us/sample - loss: 0.2648 - accuracy: 0.8877 - val_loss: 0.4193 - val_accuracy: 0.8250\n",
      "Epoch 88/100\n",
      "10000/10000 [==============================] - 2s 249us/sample - loss: 0.2603 - accuracy: 0.8916 - val_loss: 0.4235 - val_accuracy: 0.8230\n",
      "Epoch 89/100\n",
      "10000/10000 [==============================] - 2s 231us/sample - loss: 0.2654 - accuracy: 0.8910 - val_loss: 0.4517 - val_accuracy: 0.8340\n",
      "Epoch 90/100\n",
      "10000/10000 [==============================] - 2s 234us/sample - loss: 0.2651 - accuracy: 0.8903 - val_loss: 0.4377 - val_accuracy: 0.8270\n",
      "Epoch 91/100\n",
      "10000/10000 [==============================] - 2s 237us/sample - loss: 0.2652 - accuracy: 0.8893 - val_loss: 0.4401 - val_accuracy: 0.8280\n",
      "Epoch 92/100\n",
      "10000/10000 [==============================] - 2s 233us/sample - loss: 0.2648 - accuracy: 0.8902 - val_loss: 0.4241 - val_accuracy: 0.8280\n",
      "Epoch 93/100\n",
      "10000/10000 [==============================] - 2s 233us/sample - loss: 0.2595 - accuracy: 0.8890 - val_loss: 0.4326 - val_accuracy: 0.8310\n",
      "Epoch 94/100\n",
      "10000/10000 [==============================] - 2s 232us/sample - loss: 0.2538 - accuracy: 0.8951 - val_loss: 0.4572 - val_accuracy: 0.8330\n",
      "Epoch 95/100\n",
      "10000/10000 [==============================] - 2s 234us/sample - loss: 0.2615 - accuracy: 0.8892 - val_loss: 0.4234 - val_accuracy: 0.8360\n",
      "Epoch 96/100\n",
      "10000/10000 [==============================] - 2s 231us/sample - loss: 0.2547 - accuracy: 0.8930 - val_loss: 0.4765 - val_accuracy: 0.8300\n",
      "Epoch 97/100\n",
      "10000/10000 [==============================] - 2s 239us/sample - loss: 0.2607 - accuracy: 0.8925 - val_loss: 0.4298 - val_accuracy: 0.8330\n",
      "Epoch 98/100\n",
      "10000/10000 [==============================] - 2s 243us/sample - loss: 0.2548 - accuracy: 0.8956 - val_loss: 0.4723 - val_accuracy: 0.8280\n",
      "Epoch 99/100\n",
      "10000/10000 [==============================] - 2s 233us/sample - loss: 0.2488 - accuracy: 0.8958 - val_loss: 0.4601 - val_accuracy: 0.8230\n",
      "Epoch 100/100\n",
      "10000/10000 [==============================] - 2s 233us/sample - loss: 0.2504 - accuracy: 0.8947 - val_loss: 0.4566 - val_accuracy: 0.8330\n"
     ]
    }
   ],
   "source": [
    "history = model.fit([inputs_train,questions_train],answers_train, batch_size = 32, epochs = 100, validation_data = ([inputs_test,questions_test],answers_test))"
   ]
  },
  {
   "cell_type": "code",
   "execution_count": 70,
   "metadata": {
    "scrolled": true
   },
   "outputs": [],
   "source": [
    "filename = 'Z_chatbot_100_epochs.h5'\n",
    "model.save(filename)"
   ]
  },
  {
   "cell_type": "code",
   "execution_count": 72,
   "metadata": {
    "scrolled": true
   },
   "outputs": [
    {
     "name": "stdout",
     "output_type": "stream",
     "text": [
      "dict_keys(['loss', 'accuracy', 'val_loss', 'val_accuracy'])\n"
     ]
    },
    {
     "data": {
      "image/png": "[encoded data removed]",
      "text/plain": [
       "<Figure size 864x864 with 1 Axes>"
      ]
     },
     "metadata": {
      "needs_background": "light"
     },
     "output_type": "display_data"
    }
   ],
   "source": [
    "#Lets plot the increase of accuracy as we increase the number of training epochs\n",
    "#We can see that without any training the acc is about 50%, random guessing\n",
    "import matplotlib.pyplot as plt\n",
    "%matplotlib inline\n",
    "print(history.history.keys())\n",
    "# summarize history for accuracy\n",
    "plt.figure(figsize=(12,12))\n",
    "plt.plot(history.history['accuracy'])\n",
    "plt.plot(history.history['val_accuracy'])\n",
    "plt.title('model accuracy')\n",
    "plt.ylabel('accuracy')\n",
    "plt.xlabel('epoch')\n",
    "plt.legend(['train', 'test'], loc='upper left')\n",
    "plt.show()"
   ]
  },
  {
   "cell_type": "code",
   "execution_count": 73,
   "metadata": {
    "scrolled": true
   },
   "outputs": [],
   "source": [
    "#To load a model that we have already trained and saved:\n",
    "model.load_weights('Z_chatbot_100_epochs.h5')"
   ]
  },
  {
   "cell_type": "code",
   "execution_count": 74,
   "metadata": {
    "scrolled": true
   },
   "outputs": [],
   "source": [
    "#Lets check out the predictions on the test set:\n",
    "#These are just probabilities for every single word on the vocab\n",
    "pred_results = model.predict(([inputs_test,questions_test]))"
   ]
  },
  {
   "cell_type": "code",
   "execution_count": 75,
   "metadata": {
    "scrolled": true
   },
   "outputs": [
    {
     "data": {
      "text/plain": [
       "(['Mary',\n",
       "  'got',\n",
       "  'the',\n",
       "  'milk',\n",
       "  'there',\n",
       "  '.',\n",
       "  'John',\n",
       "  'moved',\n",
       "  'to',\n",
       "  'the',\n",
       "  'bedroom',\n",
       "  '.'],\n",
       " ['Is', 'John', 'in', 'the', 'kitchen', '?'],\n",
       " 'no')"
      ]
     },
     "execution_count": 75,
     "metadata": {},
     "output_type": "execute_result"
    }
   ],
   "source": [
    "#First test data point\n",
    "test_data[0]"
   ]
  },
  {
   "cell_type": "code",
   "execution_count": 76,
   "metadata": {
    "scrolled": true
   },
   "outputs": [
    {
     "data": {
      "text/plain": [
       "array([4.0062235e-13, 3.7299401e-13, 4.0318809e-13, 3.0094642e-13,\n",
       "       3.9974306e-13, 4.3683758e-13, 3.7827353e-13, 3.2904804e-13,\n",
       "       3.2701402e-13, 3.4962303e-13, 3.8850764e-13, 3.4136447e-13,\n",
       "       3.4316690e-13, 3.4788291e-13, 3.5534154e-13, 3.3994349e-13,\n",
       "       3.7805574e-13, 3.8293256e-13, 4.1706951e-13, 3.4525006e-13,\n",
       "       3.9725612e-13, 3.3337219e-13, 3.6962645e-13, 3.6520800e-13,\n",
       "       3.8138072e-13, 3.7904201e-13, 3.8633737e-13, 3.1797373e-13,\n",
       "       2.0386036e-03, 3.0231506e-13, 4.0642243e-13, 3.8434777e-13,\n",
       "       9.9796140e-01, 3.2745399e-13, 3.3923615e-13, 3.8762610e-13,\n",
       "       3.0727799e-13, 3.9643484e-13], dtype=float32)"
      ]
     },
     "execution_count": 76,
     "metadata": {},
     "output_type": "execute_result"
    }
   ],
   "source": [
    "#These are the probabilities for the vocab words using the 1st sentence\n",
    "pred_results[0]"
   ]
  },
  {
   "cell_type": "code",
   "execution_count": 77,
   "metadata": {
    "scrolled": true
   },
   "outputs": [],
   "source": [
    "val_max = np.argmax(pred_results[0])"
   ]
  },
  {
   "cell_type": "code",
   "execution_count": 78,
   "metadata": {
    "scrolled": true
   },
   "outputs": [
    {
     "name": "stdout",
     "output_type": "stream",
     "text": [
      "no\n"
     ]
    }
   ],
   "source": [
    "for key,val in tokenizer.word_index.items():\n",
    "    if val == val_max:\n",
    "        k = key\n",
    "print(k)"
   ]
  },
  {
   "cell_type": "code",
   "execution_count": 79,
   "metadata": {
    "scrolled": true
   },
   "outputs": [
    {
     "data": {
      "text/plain": [
       "0.9979614"
      ]
     },
     "execution_count": 79,
     "metadata": {},
     "output_type": "execute_result"
    }
   ],
   "source": [
    "#See probability:\n",
    "pred_results[0][val_max]"
   ]
  },
  {
   "cell_type": "code",
   "execution_count": 80,
   "metadata": {
    "scrolled": true
   },
   "outputs": [
    {
     "data": {
      "text/plain": [
       "{'.',\n",
       " '?',\n",
       " 'Daniel',\n",
       " 'Is',\n",
       " 'John',\n",
       " 'Mary',\n",
       " 'Sandra',\n",
       " 'apple',\n",
       " 'back',\n",
       " 'bathroom',\n",
       " 'bedroom',\n",
       " 'discarded',\n",
       " 'down',\n",
       " 'dropped',\n",
       " 'football',\n",
       " 'garden',\n",
       " 'got',\n",
       " 'grabbed',\n",
       " 'hallway',\n",
       " 'in',\n",
       " 'journeyed',\n",
       " 'kitchen',\n",
       " 'left',\n",
       " 'milk',\n",
       " 'moved',\n",
       " 'no',\n",
       " 'office',\n",
       " 'picked',\n",
       " 'put',\n",
       " 'the',\n",
       " 'there',\n",
       " 'to',\n",
       " 'took',\n",
       " 'travelled',\n",
       " 'up',\n",
       " 'went',\n",
       " 'yes'}"
      ]
     },
     "execution_count": 80,
     "metadata": {},
     "output_type": "execute_result"
    }
   ],
   "source": [
    "#Now, we can make our own questions using the vocabulary we have\n",
    "vocab"
   ]
  },
  {
   "cell_type": "code",
   "execution_count": 94,
   "metadata": {
    "scrolled": true
   },
   "outputs": [],
   "source": [
    "my_story = 'Sandra picked up the milk . Mary travelled left . '"
   ]
  },
  {
   "cell_type": "code",
   "execution_count": 95,
   "metadata": {
    "scrolled": true
   },
   "outputs": [
    {
     "data": {
      "text/plain": [
       "['Sandra',\n",
       " 'picked',\n",
       " 'up',\n",
       " 'the',\n",
       " 'milk',\n",
       " '.',\n",
       " 'Mary',\n",
       " 'travelled',\n",
       " 'left',\n",
       " '.']"
      ]
     },
     "execution_count": 95,
     "metadata": {},
     "output_type": "execute_result"
    }
   ],
   "source": [
    "my_story.split()"
   ]
  },
  {
   "cell_type": "code",
   "execution_count": 96,
   "metadata": {
    "scrolled": true
   },
   "outputs": [],
   "source": [
    "my_question = 'Mary got the milk ?'"
   ]
  },
  {
   "cell_type": "code",
   "execution_count": 97,
   "metadata": {
    "scrolled": true
   },
   "outputs": [
    {
     "data": {
      "text/plain": [
       "['Mary', 'got', 'the', 'milk', '?']"
      ]
     },
     "execution_count": 97,
     "metadata": {},
     "output_type": "execute_result"
    }
   ],
   "source": [
    "my_question.split()"
   ]
  },
  {
   "cell_type": "code",
   "execution_count": 98,
   "metadata": {
    "scrolled": true
   },
   "outputs": [],
   "source": [
    "#Put the data in the same format as before\n",
    "my_data = [(my_story.split(), my_question.split(),'yes')]"
   ]
  },
  {
   "cell_type": "code",
   "execution_count": 99,
   "metadata": {
    "scrolled": true
   },
   "outputs": [],
   "source": [
    "#Vectorize this data\n",
    "my_story, my_ques, my_ans = vectorize_stories(my_data)"
   ]
  },
  {
   "cell_type": "code",
   "execution_count": 100,
   "metadata": {
    "scrolled": true
   },
   "outputs": [],
   "source": [
    "#Make the prediction\n",
    "pred_results = model.predict(([my_story,my_ques]))"
   ]
  },
  {
   "cell_type": "code",
   "execution_count": 101,
   "metadata": {
    "scrolled": true
   },
   "outputs": [],
   "source": [
    "val_max = np.argmax(pred_results[0])"
   ]
  },
  {
   "cell_type": "code",
   "execution_count": 102,
   "metadata": {
    "scrolled": true
   },
   "outputs": [
    {
     "name": "stdout",
     "output_type": "stream",
     "text": [
      "no\n"
     ]
    }
   ],
   "source": [
    "#Correct prediction!\n",
    "for key,val in tokenizer.word_index.items():\n",
    "    if val == val_max:\n",
    "        k = key\n",
    "print(k)"
   ]
  },
  {
   "cell_type": "code",
   "execution_count": 103,
   "metadata": {
    "scrolled": true
   },
   "outputs": [
    {
     "data": {
      "text/plain": [
       "0.9909112"
      ]
     },
     "execution_count": 103,
     "metadata": {},
     "output_type": "execute_result"
    }
   ],
   "source": [
    "#Confidence\n",
    "pred_results[0][val_max]"
   ]
  },
  {
   "cell_type": "code",
   "execution_count": null,
   "metadata": {
    "scrolled": true
   },
   "outputs": [],
   "source": []
  }
 ],
 "metadata": {
  "kernelspec": {
   "display_name": "Python 3",
   "language": "python",
   "name": "python3"
  },
  "language_info": {
   "codemirror_mode": {
    "name": "ipython",
    "version": 3
   },
   "file_extension": ".py",
   "mimetype": "text/x-python",
   "name": "python",
   "nbconvert_exporter": "python",
   "pygments_lexer": "ipython3",
   "version": "3.6.9"
  }
 },
 "nbformat": 4,
 "nbformat_minor": 4
}
