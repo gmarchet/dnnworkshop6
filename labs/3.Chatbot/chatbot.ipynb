{
 "cells": [
  {
   "cell_type": "markdown",
   "metadata": {},
   "source": [
    "# Deep Learning for NLP - Creating a chatbot"
   ]
  },
  {
   "cell_type": "code",
   "execution_count": 21,
   "metadata": {},
   "outputs": [],
   "source": [
    "#Library Imports\n",
    "import pickle\n",
    "import numpy as np\n",
    "import tensorflow as tf"
   ]
  },
  {
   "cell_type": "code",
   "execution_count": 2,
   "metadata": {},
   "outputs": [],
   "source": [
    "#retrieve training data\n",
    "with open('train_qa.txt', 'rb') as f:\n",
    "    train_data = pickle.load(f)"
   ]
  },
  {
   "cell_type": "code",
   "execution_count": 3,
   "metadata": {},
   "outputs": [],
   "source": [
    "#retrieve test data\n",
    "with open('test_qa.txt', 'rb') as f:\n",
    "    test_data = pickle.load(f)"
   ]
  },
  {
   "cell_type": "code",
   "execution_count": 4,
   "metadata": {},
   "outputs": [
    {
     "data": {
      "text/plain": [
       "10000"
      ]
     },
     "execution_count": 4,
     "metadata": {},
     "output_type": "execute_result"
    }
   ],
   "source": [
    "#Number of training instances\n",
    "len(train_data)"
   ]
  },
  {
   "cell_type": "code",
   "execution_count": 5,
   "metadata": {},
   "outputs": [
    {
     "data": {
      "text/plain": [
       "1000"
      ]
     },
     "execution_count": 5,
     "metadata": {},
     "output_type": "execute_result"
    }
   ],
   "source": [
    "#Number of test instances\n",
    "len(test_data)"
   ]
  },
  {
   "cell_type": "code",
   "execution_count": 6,
   "metadata": {},
   "outputs": [
    {
     "data": {
      "text/plain": [
       "(['Sandra',\n",
       "  'went',\n",
       "  'back',\n",
       "  'to',\n",
       "  'the',\n",
       "  'hallway',\n",
       "  '.',\n",
       "  'Sandra',\n",
       "  'moved',\n",
       "  'to',\n",
       "  'the',\n",
       "  'office',\n",
       "  '.'],\n",
       " ['Is', 'Sandra', 'in', 'the', 'office', '?'],\n",
       " 'yes')"
      ]
     },
     "execution_count": 6,
     "metadata": {},
     "output_type": "execute_result"
    }
   ],
   "source": [
    "#Example of one of the instances\n",
    "train_data[10]"
   ]
  },
  {
   "cell_type": "code",
   "execution_count": 7,
   "metadata": {},
   "outputs": [
    {
     "data": {
      "text/plain": [
       "'Sandra went back to the hallway . Sandra moved to the office .'"
      ]
     },
     "execution_count": 7,
     "metadata": {},
     "output_type": "execute_result"
    }
   ],
   "source": [
    "' '.join(train_data[10][0])"
   ]
  },
  {
   "cell_type": "code",
   "execution_count": 8,
   "metadata": {},
   "outputs": [
    {
     "data": {
      "text/plain": [
       "'Is Sandra in the office ?'"
      ]
     },
     "execution_count": 8,
     "metadata": {},
     "output_type": "execute_result"
    }
   ],
   "source": [
    "' '.join(train_data[10][1])"
   ]
  },
  {
   "cell_type": "code",
   "execution_count": 9,
   "metadata": {},
   "outputs": [
    {
     "data": {
      "text/plain": [
       "'yes'"
      ]
     },
     "execution_count": 9,
     "metadata": {},
     "output_type": "execute_result"
    }
   ],
   "source": [
    "train_data[10][2]"
   ]
  },
  {
   "cell_type": "code",
   "execution_count": 10,
   "metadata": {},
   "outputs": [],
   "source": [
    "#First we need to create a vocabulary with our data\n",
    "#For this we will use the training data only to - On the video it uses both\n",
    "#train and test \n",
    "#Might have to use training and test later, as the dataset has very\n",
    "#few words"
   ]
  },
  {
   "cell_type": "code",
   "execution_count": 11,
   "metadata": {},
   "outputs": [],
   "source": [
    "#First we will build a set of all the words in the dataset:\n",
    "vocab = set()\n",
    "for story, question, answer in train_data:\n",
    "    vocab = vocab.union(set(story)) #Set returns unique words in the sentence\n",
    "                                    #Union returns the unique common elements from a two sets\n",
    "    vocab = vocab.union(set(question))"
   ]
  },
  {
   "cell_type": "code",
   "execution_count": 12,
   "metadata": {},
   "outputs": [],
   "source": [
    "vocab.add('no')\n",
    "vocab.add('yes')"
   ]
  },
  {
   "cell_type": "code",
   "execution_count": 13,
   "metadata": {
    "scrolled": true
   },
   "outputs": [
    {
     "data": {
      "text/plain": [
       "{'.',\n",
       " '?',\n",
       " 'Daniel',\n",
       " 'Is',\n",
       " 'John',\n",
       " 'Mary',\n",
       " 'Sandra',\n",
       " 'apple',\n",
       " 'back',\n",
       " 'bathroom',\n",
       " 'bedroom',\n",
       " 'discarded',\n",
       " 'down',\n",
       " 'dropped',\n",
       " 'football',\n",
       " 'garden',\n",
       " 'got',\n",
       " 'grabbed',\n",
       " 'hallway',\n",
       " 'in',\n",
       " 'journeyed',\n",
       " 'kitchen',\n",
       " 'left',\n",
       " 'milk',\n",
       " 'moved',\n",
       " 'no',\n",
       " 'office',\n",
       " 'picked',\n",
       " 'put',\n",
       " 'the',\n",
       " 'there',\n",
       " 'to',\n",
       " 'took',\n",
       " 'travelled',\n",
       " 'up',\n",
       " 'went',\n",
       " 'yes'}"
      ]
     },
     "execution_count": 13,
     "metadata": {},
     "output_type": "execute_result"
    }
   ],
   "source": [
    "vocab"
   ]
  },
  {
   "cell_type": "code",
   "execution_count": 14,
   "metadata": {},
   "outputs": [],
   "source": [
    "#Calculate len and add 1 for Keras placeholder - Placeholders are used to feed in the data to the network. \n",
    "#They need a data type, and have optional shape arguements.\n",
    "#They will be empty at first, and then the data will get fed into the placeholder\n",
    "vocab_len = len(vocab) + 1"
   ]
  },
  {
   "cell_type": "code",
   "execution_count": 15,
   "metadata": {},
   "outputs": [
    {
     "data": {
      "text/plain": [
       "38"
      ]
     },
     "execution_count": 15,
     "metadata": {},
     "output_type": "execute_result"
    }
   ],
   "source": [
    "vocab_len"
   ]
  },
  {
   "cell_type": "code",
   "execution_count": 16,
   "metadata": {},
   "outputs": [],
   "source": [
    "#Now we are going to calculate the longest story and the longest question\n",
    "#We need this for the Keras pad sequences. \n",
    "#Keras training layers expect all of the input to have the same length, so \n",
    "#we need to pad \n",
    "all_data = test_data + train_data"
   ]
  },
  {
   "cell_type": "code",
   "execution_count": 17,
   "metadata": {},
   "outputs": [],
   "source": [
    "all_story_lens = [len(data[0]) for data in all_data]"
   ]
  },
  {
   "cell_type": "code",
   "execution_count": 18,
   "metadata": {},
   "outputs": [],
   "source": [
    "max_story_len = (max(all_story_lens))"
   ]
  },
  {
   "cell_type": "code",
   "execution_count": 19,
   "metadata": {},
   "outputs": [],
   "source": [
    "max_question_len = max([len(data[1]) for data in all_data])"
   ]
  },
  {
   "cell_type": "markdown",
   "metadata": {},
   "source": [
    "## Vectorizing the data"
   ]
  },
  {
   "cell_type": "markdown",
   "metadata": {},
   "source": [
    "First, we will go through a manual process of how to vectorize the data, and then we will create a function that does this automatically for us. "
   ]
  },
  {
   "cell_type": "code",
   "execution_count": 24,
   "metadata": {},
   "outputs": [],
   "source": [
    "from tensorflow.keras.preprocessing.sequence import pad_sequences\n",
    "from tensorflow.keras.preprocessing.text import Tokenizer"
   ]
  },
  {
   "cell_type": "code",
   "execution_count": 25,
   "metadata": {},
   "outputs": [],
   "source": [
    "#Create an instance of the tokenizer object:\n",
    "tokenizer = Tokenizer(filters = [])\n",
    "tokenizer.fit_on_texts(vocab)"
   ]
  },
  {
   "cell_type": "code",
   "execution_count": 26,
   "metadata": {},
   "outputs": [
    {
     "data": {
      "text/plain": [
       "{'sandra': 1,\n",
       " 'discarded': 2,\n",
       " 'hallway': 3,\n",
       " 'went': 4,\n",
       " 'office': 5,\n",
       " 'milk': 6,\n",
       " 'back': 7,\n",
       " 'left': 8,\n",
       " 'got': 9,\n",
       " 'travelled': 10,\n",
       " 'there': 11,\n",
       " 'yes': 12,\n",
       " 'dropped': 13,\n",
       " 'moved': 14,\n",
       " 'picked': 15,\n",
       " 'the': 16,\n",
       " 'to': 17,\n",
       " '.': 18,\n",
       " 'journeyed': 19,\n",
       " 'up': 20,\n",
       " 'john': 21,\n",
       " 'is': 22,\n",
       " '?': 23,\n",
       " 'grabbed': 24,\n",
       " 'in': 25,\n",
       " 'garden': 26,\n",
       " 'bathroom': 27,\n",
       " 'kitchen': 28,\n",
       " 'put': 29,\n",
       " 'bedroom': 30,\n",
       " 'mary': 31,\n",
       " 'football': 32,\n",
       " 'no': 33,\n",
       " 'daniel': 34,\n",
       " 'down': 35,\n",
       " 'took': 36,\n",
       " 'apple': 37}"
      ]
     },
     "execution_count": 26,
     "metadata": {},
     "output_type": "execute_result"
    }
   ],
   "source": [
    "#Dictionary that maps every word in our vocab to an index\n",
    "# It has been automatically lowercased\n",
    "#This tokenizer can give different indexes for different words depending on when we run it\n",
    "tokenizer.word_index"
   ]
  },
  {
   "cell_type": "code",
   "execution_count": 27,
   "metadata": {},
   "outputs": [],
   "source": [
    "#Tokenize the stories, questions and answers:\n",
    "train_story_text = []\n",
    "train_question_text = []\n",
    "train_answers = []"
   ]
  },
  {
   "cell_type": "code",
   "execution_count": 28,
   "metadata": {},
   "outputs": [],
   "source": [
    "#Separating each of the elements\n",
    "for story,question,answer in train_data:\n",
    "    train_story_text.append(story)\n",
    "    train_question_text.append(question) \n",
    "    train_answers.append(answer)\n",
    "    "
   ]
  },
  {
   "cell_type": "code",
   "execution_count": 29,
   "metadata": {},
   "outputs": [],
   "source": [
    "#Coverting the text into the indexes \n",
    "train_story_seq = tokenizer.texts_to_sequences(train_story_text)"
   ]
  },
  {
   "cell_type": "code",
   "execution_count": 30,
   "metadata": {},
   "outputs": [],
   "source": [
    "#Create a function for vectorizing the stories, questions and answers:\n",
    "def vectorize_stories(data,word_index = tokenizer.word_index, max_story_len = max_story_len, max_question_len = max_question_len):\n",
    "    #vectorized stories:\n",
    "    X = []\n",
    "    #vectorized questions:\n",
    "    Xq = []\n",
    "    #vectorized answers:\n",
    "    Y = []\n",
    "    \n",
    "    for story, question, answer in data:\n",
    "        #Getting indexes for each word in the story\n",
    "        x = [word_index[word.lower()] for word in story]\n",
    "        #Getting indexes for each word in the story\n",
    "        xq = [word_index[word.lower()] for word in question]\n",
    "        #For the answers\n",
    "        y = np.zeros(len(word_index) + 1) #Index 0 Reserved when padding the sequences\n",
    "        y[word_index[answer]] = 1\n",
    "        \n",
    "        X.append(x)\n",
    "        Xq.append(xq)\n",
    "        Y.append(y)\n",
    "        \n",
    "    #Now we have to pad these sequences:\n",
    "    return(pad_sequences(X,maxlen=max_story_len), pad_sequences(Xq, maxlen=max_question_len), np.array(Y))\n",
    "        "
   ]
  },
  {
   "cell_type": "code",
   "execution_count": 31,
   "metadata": {},
   "outputs": [],
   "source": [
    "inputs_train, questions_train, answers_train = vectorize_stories(train_data)"
   ]
  },
  {
   "cell_type": "code",
   "execution_count": 32,
   "metadata": {},
   "outputs": [],
   "source": [
    "inputs_test, questions_test, answers_test = vectorize_stories(test_data)"
   ]
  },
  {
   "cell_type": "code",
   "execution_count": 33,
   "metadata": {},
   "outputs": [
    {
     "data": {
      "text/plain": [
       "array([ 0,  0,  0,  0,  0,  0,  0,  0,  0,  0,  0,  0,  0,  0,  0,  0,  0,\n",
       "        0,  0,  0,  0,  0,  0,  0,  0,  0,  0,  0,  0,  0,  0,  0,  0,  0,\n",
       "        0,  0,  0,  0,  0,  0,  0,  0,  0,  0,  0,  0,  0,  0,  0,  0,  0,\n",
       "        0,  0,  0,  0,  0,  0,  0,  0,  0,  0,  0,  0,  0,  0,  0,  0,  0,\n",
       "        0,  0,  0,  0,  0,  0,  0,  0,  0,  0,  0,  0,  0,  0,  0,  0,  0,\n",
       "        0,  0,  0,  0,  0,  0,  0,  0,  0,  0,  0,  0,  0,  0,  0,  0,  0,\n",
       "        0,  0,  0,  0,  0,  0,  0,  0,  0,  0,  0,  0,  0,  0,  0,  0,  0,\n",
       "        0,  0,  0,  0,  0,  0,  0,  0,  0,  0,  0,  0,  0,  0,  0,  0,  0,\n",
       "        0,  0,  0,  0,  0,  0,  0,  0, 31, 14, 17, 16, 27, 18,  1, 19, 17,\n",
       "       16, 30, 18], dtype=int32)"
      ]
     },
     "execution_count": 33,
     "metadata": {},
     "output_type": "execute_result"
    }
   ],
   "source": [
    "inputs_train[0]"
   ]
  },
  {
   "cell_type": "code",
   "execution_count": 34,
   "metadata": {},
   "outputs": [
    {
     "data": {
      "text/plain": [
       "['Mary',\n",
       " 'moved',\n",
       " 'to',\n",
       " 'the',\n",
       " 'bathroom',\n",
       " '.',\n",
       " 'Sandra',\n",
       " 'journeyed',\n",
       " 'to',\n",
       " 'the',\n",
       " 'bedroom',\n",
       " '.']"
      ]
     },
     "execution_count": 34,
     "metadata": {},
     "output_type": "execute_result"
    }
   ],
   "source": [
    "train_story_text[0]"
   ]
  },
  {
   "cell_type": "code",
   "execution_count": 35,
   "metadata": {},
   "outputs": [
    {
     "data": {
      "text/plain": [
       "[31, 14, 17, 16, 27, 18, 1, 19, 17, 16, 30, 18]"
      ]
     },
     "execution_count": 35,
     "metadata": {},
     "output_type": "execute_result"
    }
   ],
   "source": [
    "train_story_seq[0]"
   ]
  },
  {
   "cell_type": "markdown",
   "metadata": {},
   "source": [
    "## Building the Network"
   ]
  },
  {
   "cell_type": "code",
   "execution_count": 37,
   "metadata": {},
   "outputs": [],
   "source": [
    "#Imports\n",
    "from tensorflow.keras.models import Sequential, Model\n",
    "from tensorflow.keras.layers import Embedding\n",
    "from tensorflow.keras.layers import Input, Activation, Dense, Permute, Dropout, add, dot, concatenate, LSTM"
   ]
  },
  {
   "cell_type": "code",
   "execution_count": 38,
   "metadata": {},
   "outputs": [],
   "source": [
    "# We need to create the placeholders \n",
    "#The Input function is used to create a keras tensor\n",
    "#PLACEHOLDER shape = (max_story_len,batch_size)\n",
    "#These are our placeholder for the inputs, ready to recieve batches of the stories and the questions\n",
    "input_sequence = Input((max_story_len,)) #As we dont know batch size yet\n",
    "question = Input((max_question_len,))"
   ]
  },
  {
   "cell_type": "code",
   "execution_count": 39,
   "metadata": {},
   "outputs": [],
   "source": [
    "#Create input encoder M:\n",
    "input_encoder_m = Sequential()\n",
    "input_encoder_m.add(Embedding(input_dim=vocab_len,output_dim = 64)) #From paper\n",
    "input_encoder_m.add(Dropout(0.3))\n",
    "\n",
    "#Outputs: (Samples, story_maxlen,embedding_dim) -- Gives a list of the lenght of the samples where each item has the\n",
    "#lenght of the max story lenght and every word is embedded in the embbeding dimension"
   ]
  },
  {
   "cell_type": "code",
   "execution_count": 40,
   "metadata": {},
   "outputs": [],
   "source": [
    "#Create input encoder C:\n",
    "input_encoder_c = Sequential()\n",
    "input_encoder_c.add(Embedding(input_dim=vocab_len,output_dim = max_question_len)) #From paper\n",
    "input_encoder_c.add(Dropout(0.3))\n",
    "\n",
    "#Outputs: (samples, story_maxlen, max_question_len)"
   ]
  },
  {
   "cell_type": "code",
   "execution_count": 41,
   "metadata": {},
   "outputs": [],
   "source": [
    "#Create question encoder:\n",
    "question_encoder = Sequential()\n",
    "question_encoder.add(Embedding(input_dim=vocab_len,output_dim = 64,input_length=max_question_len)) #From paper\n",
    "question_encoder.add(Dropout(0.3))\n",
    "\n",
    "#Outputs: (samples, question_maxlen, embedding_dim)"
   ]
  },
  {
   "cell_type": "code",
   "execution_count": 42,
   "metadata": {},
   "outputs": [],
   "source": [
    "#Now lets encode the sequences, passing the placeholders into our encoders:\n",
    "input_encoded_m = input_encoder_m(input_sequence)\n",
    "input_encoded_c = input_encoder_c(input_sequence)\n",
    "question_encoded = question_encoder(question)"
   ]
  },
  {
   "cell_type": "code",
   "execution_count": 43,
   "metadata": {},
   "outputs": [],
   "source": [
    "#Use dot product to compute similarity between input encoded m and question \n",
    "#Like in the paper:\n",
    "match = dot([input_encoded_m,question_encoded], axes = (2,2))\n",
    "match = Activation('softmax')(match)"
   ]
  },
  {
   "cell_type": "code",
   "execution_count": 44,
   "metadata": {},
   "outputs": [],
   "source": [
    "#For the response we want to add this match with the ouput of input_encoded_c\n",
    "response = add([match,input_encoded_c])\n",
    "response = Permute((2,1))(response) #Permute Layer: permutes dimensions of input"
   ]
  },
  {
   "cell_type": "code",
   "execution_count": 45,
   "metadata": {},
   "outputs": [],
   "source": [
    "#Once we have the response we can concatenate it with the question encoded:\n",
    "answer = concatenate([response, question_encoded])"
   ]
  },
  {
   "cell_type": "code",
   "execution_count": 46,
   "metadata": {},
   "outputs": [
    {
     "data": {
      "text/plain": [
       "<tf.Tensor 'concatenate/Identity:0' shape=(None, 6, 220) dtype=float32>"
      ]
     },
     "execution_count": 46,
     "metadata": {},
     "output_type": "execute_result"
    }
   ],
   "source": [
    "answer"
   ]
  },
  {
   "cell_type": "code",
   "execution_count": 47,
   "metadata": {},
   "outputs": [],
   "source": [
    "# Reduce the answer tensor with a RNN (LSTM)\n",
    "answer = LSTM(32)(answer)"
   ]
  },
  {
   "cell_type": "code",
   "execution_count": 48,
   "metadata": {},
   "outputs": [],
   "source": [
    "#Regularization with dropout:\n",
    "answer = Dropout(0.5)(answer)\n",
    "#Output layer:\n",
    "answer = Dense(vocab_len)(answer) #Output shape: (Samples, Vocab_size) #Yes or no and all 0s"
   ]
  },
  {
   "cell_type": "code",
   "execution_count": 49,
   "metadata": {},
   "outputs": [],
   "source": [
    "#Now we need to output a probability distribution for the vocab, using softmax:\n",
    "answer = Activation('softmax')(answer)"
   ]
  },
  {
   "cell_type": "code",
   "execution_count": 50,
   "metadata": {},
   "outputs": [],
   "source": [
    "#Now we build the final model:\n",
    "model = Model([input_sequence,question], answer)"
   ]
  },
  {
   "cell_type": "code",
   "execution_count": 51,
   "metadata": {},
   "outputs": [],
   "source": [
    "model.compile(optimizer='rmsprop', loss = 'categorical_crossentropy', metrics = ['accuracy'])\n",
    "#Categorical instead of binary cross entropy as because of the way we are training\n",
    "#we could actually see any of the words from the vocab as output\n",
    "#however, we should only see yes or no"
   ]
  },
  {
   "cell_type": "code",
   "execution_count": 52,
   "metadata": {},
   "outputs": [
    {
     "name": "stdout",
     "output_type": "stream",
     "text": [
      "Model: \"model\"\n",
      "__________________________________________________________________________________________________\n",
      "Layer (type)                    Output Shape         Param #     Connected to                     \n",
      "==================================================================================================\n",
      "input_1 (InputLayer)            [(None, 156)]        0                                            \n",
      "__________________________________________________________________________________________________\n",
      "input_2 (InputLayer)            [(None, 6)]          0                                            \n",
      "__________________________________________________________________________________________________\n",
      "sequential (Sequential)         multiple             2432        input_1[0][0]                    \n",
      "__________________________________________________________________________________________________\n",
      "sequential_2 (Sequential)       (None, 6, 64)        2432        input_2[0][0]                    \n",
      "__________________________________________________________________________________________________\n",
      "dot (Dot)                       (None, 156, 6)       0           sequential[1][0]                 \n",
      "                                                                 sequential_2[1][0]               \n",
      "__________________________________________________________________________________________________\n",
      "activation (Activation)         (None, 156, 6)       0           dot[0][0]                        \n",
      "__________________________________________________________________________________________________\n",
      "sequential_1 (Sequential)       multiple             228         input_1[0][0]                    \n",
      "__________________________________________________________________________________________________\n",
      "add (Add)                       (None, 156, 6)       0           activation[0][0]                 \n",
      "                                                                 sequential_1[1][0]               \n",
      "__________________________________________________________________________________________________\n",
      "permute (Permute)               (None, 6, 156)       0           add[0][0]                        \n",
      "__________________________________________________________________________________________________\n",
      "concatenate (Concatenate)       (None, 6, 220)       0           permute[0][0]                    \n",
      "                                                                 sequential_2[1][0]               \n",
      "__________________________________________________________________________________________________\n",
      "lstm (LSTM)                     (None, 32)           32384       concatenate[0][0]                \n",
      "__________________________________________________________________________________________________\n",
      "dropout_3 (Dropout)             (None, 32)           0           lstm[0][0]                       \n",
      "__________________________________________________________________________________________________\n",
      "dense (Dense)                   (None, 38)           1254        dropout_3[0][0]                  \n",
      "__________________________________________________________________________________________________\n",
      "activation_1 (Activation)       (None, 38)           0           dense[0][0]                      \n",
      "==================================================================================================\n",
      "Total params: 38,730\n",
      "Trainable params: 38,730\n",
      "Non-trainable params: 0\n",
      "__________________________________________________________________________________________________\n"
     ]
    }
   ],
   "source": [
    "model.summary()"
   ]
  },
  {
   "cell_type": "markdown",
   "metadata": {},
   "source": [
    "## Training and testing the model"
   ]
  },
  {
   "cell_type": "code",
   "execution_count": 53,
   "metadata": {},
   "outputs": [
    {
     "name": "stdout",
     "output_type": "stream",
     "text": [
      "Train on 10000 samples, validate on 1000 samples\n",
      "Epoch 1/1000\n",
      "10000/10000 [==============================] - 6s 621us/sample - loss: 0.9415 - accuracy: 0.5065 - val_loss: 0.6950 - val_accuracy: 0.4950\n",
      "Epoch 2/1000\n",
      "10000/10000 [==============================] - 3s 287us/sample - loss: 0.7109 - accuracy: 0.5076 - val_loss: 0.6937 - val_accuracy: 0.4970\n",
      "Epoch 3/1000\n",
      "10000/10000 [==============================] - 3s 271us/sample - loss: 0.6970 - accuracy: 0.5023 - val_loss: 0.6933 - val_accuracy: 0.5030\n",
      "Epoch 4/1000\n",
      "10000/10000 [==============================] - 3s 269us/sample - loss: 0.6958 - accuracy: 0.5016 - val_loss: 0.6958 - val_accuracy: 0.4970\n",
      "Epoch 5/1000\n",
      "10000/10000 [==============================] - 3s 292us/sample - loss: 0.6948 - accuracy: 0.5001 - val_loss: 0.6935 - val_accuracy: 0.4970\n",
      "Epoch 6/1000\n",
      "10000/10000 [==============================] - 3s 320us/sample - loss: 0.6947 - accuracy: 0.4977 - val_loss: 0.6956 - val_accuracy: 0.4970\n",
      "Epoch 7/1000\n",
      "10000/10000 [==============================] - 3s 291us/sample - loss: 0.6944 - accuracy: 0.5026 - val_loss: 0.6932 - val_accuracy: 0.5030\n",
      "Epoch 8/1000\n",
      "10000/10000 [==============================] - 3s 293us/sample - loss: 0.6946 - accuracy: 0.5014 - val_loss: 0.6935 - val_accuracy: 0.4970\n",
      "Epoch 9/1000\n",
      "10000/10000 [==============================] - 3s 298us/sample - loss: 0.6946 - accuracy: 0.4959 - val_loss: 0.6937 - val_accuracy: 0.4820\n",
      "Epoch 10/1000\n",
      "10000/10000 [==============================] - 3s 295us/sample - loss: 0.6945 - accuracy: 0.4951 - val_loss: 0.6949 - val_accuracy: 0.5030\n",
      "Epoch 11/1000\n",
      "10000/10000 [==============================] - 4s 447us/sample - loss: 0.6944 - accuracy: 0.5026 - val_loss: 0.6964 - val_accuracy: 0.4760\n",
      "Epoch 12/1000\n",
      "10000/10000 [==============================] - 3s 300us/sample - loss: 0.6933 - accuracy: 0.5126 - val_loss: 0.6935 - val_accuracy: 0.4980\n",
      "Epoch 13/1000\n",
      "10000/10000 [==============================] - 3s 299us/sample - loss: 0.6889 - accuracy: 0.5244 - val_loss: 0.6829 - val_accuracy: 0.5270\n",
      "Epoch 14/1000\n",
      "10000/10000 [==============================] - 3s 321us/sample - loss: 0.6561 - accuracy: 0.5820 - val_loss: 0.6216 - val_accuracy: 0.6340\n",
      "Epoch 15/1000\n",
      "10000/10000 [==============================] - 3s 324us/sample - loss: 0.5918 - accuracy: 0.6782 - val_loss: 0.5287 - val_accuracy: 0.7590\n",
      "Epoch 16/1000\n",
      "10000/10000 [==============================] - 3s 294us/sample - loss: 0.5129 - accuracy: 0.7612 - val_loss: 0.4562 - val_accuracy: 0.8120\n",
      "Epoch 17/1000\n",
      "10000/10000 [==============================] - 3s 300us/sample - loss: 0.4547 - accuracy: 0.8083 - val_loss: 0.4429 - val_accuracy: 0.7920\n",
      "Epoch 18/1000\n",
      "10000/10000 [==============================] - 3s 296us/sample - loss: 0.4210 - accuracy: 0.8251 - val_loss: 0.4104 - val_accuracy: 0.8160\n",
      "Epoch 19/1000\n",
      "10000/10000 [==============================] - 3s 296us/sample - loss: 0.4040 - accuracy: 0.8347 - val_loss: 0.4042 - val_accuracy: 0.8300\n",
      "Epoch 20/1000\n",
      "10000/10000 [==============================] - 3s 318us/sample - loss: 0.3878 - accuracy: 0.8475 - val_loss: 0.4004 - val_accuracy: 0.8390\n",
      "Epoch 21/1000\n",
      "10000/10000 [==============================] - 3s 295us/sample - loss: 0.3750 - accuracy: 0.8452 - val_loss: 0.3999 - val_accuracy: 0.8460\n",
      "Epoch 22/1000\n",
      "10000/10000 [==============================] - 3s 330us/sample - loss: 0.3646 - accuracy: 0.8512 - val_loss: 0.3944 - val_accuracy: 0.8370\n",
      "Epoch 23/1000\n",
      "10000/10000 [==============================] - 3s 269us/sample - loss: 0.3523 - accuracy: 0.8577 - val_loss: 0.3799 - val_accuracy: 0.8410\n",
      "Epoch 24/1000\n",
      "10000/10000 [==============================] - 2s 250us/sample - loss: 0.3480 - accuracy: 0.8599 - val_loss: 0.3819 - val_accuracy: 0.8400\n",
      "Epoch 25/1000\n",
      "10000/10000 [==============================] - 2s 250us/sample - loss: 0.3423 - accuracy: 0.8606 - val_loss: 0.4054 - val_accuracy: 0.8430\n",
      "Epoch 26/1000\n",
      "10000/10000 [==============================] - 3s 269us/sample - loss: 0.3369 - accuracy: 0.8620 - val_loss: 0.3656 - val_accuracy: 0.8400\n",
      "Epoch 27/1000\n",
      "10000/10000 [==============================] - 2s 231us/sample - loss: 0.3327 - accuracy: 0.8626 - val_loss: 0.3713 - val_accuracy: 0.8320\n",
      "Epoch 28/1000\n",
      "10000/10000 [==============================] - 2s 224us/sample - loss: 0.3253 - accuracy: 0.8628 - val_loss: 0.3735 - val_accuracy: 0.8330\n",
      "Epoch 29/1000\n",
      "10000/10000 [==============================] - 2s 226us/sample - loss: 0.3264 - accuracy: 0.8650 - val_loss: 0.3710 - val_accuracy: 0.8340\n",
      "Epoch 30/1000\n",
      "10000/10000 [==============================] - 2s 227us/sample - loss: 0.3237 - accuracy: 0.8611 - val_loss: 0.3615 - val_accuracy: 0.8350\n",
      "Epoch 31/1000\n",
      "10000/10000 [==============================] - 2s 226us/sample - loss: 0.3161 - accuracy: 0.8663 - val_loss: 0.3479 - val_accuracy: 0.8410\n",
      "Epoch 32/1000\n",
      "10000/10000 [==============================] - 3s 275us/sample - loss: 0.3126 - accuracy: 0.8682 - val_loss: 0.3778 - val_accuracy: 0.8320\n",
      "Epoch 33/1000\n",
      "10000/10000 [==============================] - 3s 328us/sample - loss: 0.3079 - accuracy: 0.8671 - val_loss: 0.3449 - val_accuracy: 0.8460\n",
      "Epoch 34/1000\n",
      "10000/10000 [==============================] - 3s 299us/sample - loss: 0.3098 - accuracy: 0.8695 - val_loss: 0.3647 - val_accuracy: 0.8350\n",
      "Epoch 35/1000\n",
      "10000/10000 [==============================] - 3s 296us/sample - loss: 0.3075 - accuracy: 0.8678 - val_loss: 0.3526 - val_accuracy: 0.8420\n",
      "Epoch 36/1000\n",
      "10000/10000 [==============================] - 3s 296us/sample - loss: 0.3048 - accuracy: 0.8710 - val_loss: 0.3527 - val_accuracy: 0.8400\n",
      "Epoch 37/1000\n",
      "10000/10000 [==============================] - 3s 325us/sample - loss: 0.3042 - accuracy: 0.8687 - val_loss: 0.3388 - val_accuracy: 0.8470\n",
      "Epoch 38/1000\n",
      "10000/10000 [==============================] - 3s 295us/sample - loss: 0.2985 - accuracy: 0.8681 - val_loss: 0.3505 - val_accuracy: 0.8520\n",
      "Epoch 39/1000\n",
      "10000/10000 [==============================] - 3s 297us/sample - loss: 0.2970 - accuracy: 0.8723 - val_loss: 0.3503 - val_accuracy: 0.8420\n",
      "Epoch 40/1000\n",
      "10000/10000 [==============================] - 3s 306us/sample - loss: 0.2986 - accuracy: 0.8703 - val_loss: 0.3428 - val_accuracy: 0.8430\n",
      "Epoch 41/1000\n",
      "10000/10000 [==============================] - 3s 309us/sample - loss: 0.2987 - accuracy: 0.8718 - val_loss: 0.3408 - val_accuracy: 0.8410\n",
      "Epoch 42/1000\n",
      "10000/10000 [==============================] - 3s 326us/sample - loss: 0.3000 - accuracy: 0.8714 - val_loss: 0.3540 - val_accuracy: 0.8410\n",
      "Epoch 43/1000\n",
      "10000/10000 [==============================] - 3s 303us/sample - loss: 0.2933 - accuracy: 0.8715 - val_loss: 0.3495 - val_accuracy: 0.8400\n",
      "Epoch 44/1000\n",
      "10000/10000 [==============================] - 3s 299us/sample - loss: 0.2928 - accuracy: 0.8737 - val_loss: 0.3553 - val_accuracy: 0.8360\n",
      "Epoch 45/1000\n",
      "10000/10000 [==============================] - 3s 297us/sample - loss: 0.2882 - accuracy: 0.8768 - val_loss: 0.3398 - val_accuracy: 0.8380\n",
      "Epoch 46/1000\n",
      "10000/10000 [==============================] - 3s 299us/sample - loss: 0.2944 - accuracy: 0.8710 - val_loss: 0.3511 - val_accuracy: 0.8360\n",
      "Epoch 47/1000\n",
      "10000/10000 [==============================] - 3s 336us/sample - loss: 0.2923 - accuracy: 0.8739 - val_loss: 0.3547 - val_accuracy: 0.8380\n",
      "Epoch 48/1000\n",
      "10000/10000 [==============================] - 3s 304us/sample - loss: 0.2922 - accuracy: 0.8749 - val_loss: 0.3569 - val_accuracy: 0.8340\n",
      "Epoch 49/1000\n",
      "10000/10000 [==============================] - 3s 305us/sample - loss: 0.2881 - accuracy: 0.8742 - val_loss: 0.3533 - val_accuracy: 0.8420\n",
      "Epoch 50/1000\n",
      "10000/10000 [==============================] - 3s 328us/sample - loss: 0.2889 - accuracy: 0.8756 - val_loss: 0.3436 - val_accuracy: 0.8370\n",
      "Epoch 51/1000\n",
      "10000/10000 [==============================] - 3s 323us/sample - loss: 0.2847 - accuracy: 0.8786 - val_loss: 0.3842 - val_accuracy: 0.8330\n",
      "Epoch 52/1000\n",
      "10000/10000 [==============================] - 3s 308us/sample - loss: 0.2886 - accuracy: 0.8735 - val_loss: 0.3537 - val_accuracy: 0.8380\n",
      "Epoch 53/1000\n",
      "10000/10000 [==============================] - 3s 303us/sample - loss: 0.2869 - accuracy: 0.8754 - val_loss: 0.3466 - val_accuracy: 0.8390\n",
      "Epoch 54/1000\n",
      "10000/10000 [==============================] - 3s 259us/sample - loss: 0.2837 - accuracy: 0.8780 - val_loss: 0.3435 - val_accuracy: 0.8390\n",
      "Epoch 55/1000\n",
      "10000/10000 [==============================] - 3s 268us/sample - loss: 0.2878 - accuracy: 0.8756 - val_loss: 0.3636 - val_accuracy: 0.8320\n",
      "Epoch 56/1000\n",
      "10000/10000 [==============================] - 3s 310us/sample - loss: 0.2853 - accuracy: 0.8767 - val_loss: 0.3665 - val_accuracy: 0.8330\n",
      "Epoch 57/1000\n",
      "10000/10000 [==============================] - 3s 322us/sample - loss: 0.2842 - accuracy: 0.8764 - val_loss: 0.3575 - val_accuracy: 0.8270\n",
      "Epoch 58/1000\n",
      "10000/10000 [==============================] - 3s 306us/sample - loss: 0.2831 - accuracy: 0.8786 - val_loss: 0.3532 - val_accuracy: 0.8340\n",
      "Epoch 59/1000\n",
      "10000/10000 [==============================] - 3s 299us/sample - loss: 0.2825 - accuracy: 0.8779 - val_loss: 0.3536 - val_accuracy: 0.8410\n",
      "Epoch 60/1000\n",
      "10000/10000 [==============================] - 3s 301us/sample - loss: 0.2831 - accuracy: 0.8800 - val_loss: 0.3572 - val_accuracy: 0.8320\n",
      "Epoch 61/1000\n",
      "10000/10000 [==============================] - 3s 337us/sample - loss: 0.2779 - accuracy: 0.8783 - val_loss: 0.3707 - val_accuracy: 0.8370\n",
      "Epoch 62/1000\n",
      "10000/10000 [==============================] - 3s 302us/sample - loss: 0.2747 - accuracy: 0.8815 - val_loss: 0.3538 - val_accuracy: 0.8350\n",
      "Epoch 63/1000\n",
      "10000/10000 [==============================] - 3s 302us/sample - loss: 0.2774 - accuracy: 0.8797 - val_loss: 0.3671 - val_accuracy: 0.8300\n",
      "Epoch 64/1000\n",
      "10000/10000 [==============================] - 3s 307us/sample - loss: 0.2747 - accuracy: 0.8801 - val_loss: 0.4498 - val_accuracy: 0.8230\n",
      "Epoch 65/1000\n",
      "10000/10000 [==============================] - 3s 307us/sample - loss: 0.2780 - accuracy: 0.8820 - val_loss: 0.3639 - val_accuracy: 0.8380\n",
      "Epoch 66/1000\n",
      "10000/10000 [==============================] - 3s 332us/sample - loss: 0.2733 - accuracy: 0.8830 - val_loss: 0.3643 - val_accuracy: 0.8320\n",
      "Epoch 67/1000\n",
      "10000/10000 [==============================] - 3s 303us/sample - loss: 0.2727 - accuracy: 0.8807 - val_loss: 0.3596 - val_accuracy: 0.8290\n",
      "Epoch 68/1000\n",
      "10000/10000 [==============================] - 3s 305us/sample - loss: 0.2722 - accuracy: 0.8850 - val_loss: 0.3858 - val_accuracy: 0.8350\n",
      "Epoch 69/1000\n",
      "10000/10000 [==============================] - 3s 300us/sample - loss: 0.2735 - accuracy: 0.8811 - val_loss: 0.3994 - val_accuracy: 0.8260\n",
      "Epoch 70/1000\n",
      "10000/10000 [==============================] - 3s 300us/sample - loss: 0.2697 - accuracy: 0.8853 - val_loss: 0.3855 - val_accuracy: 0.8290\n",
      "Epoch 71/1000\n",
      "10000/10000 [==============================] - 3s 338us/sample - loss: 0.2722 - accuracy: 0.8847 - val_loss: 0.3911 - val_accuracy: 0.8330\n",
      "Epoch 72/1000\n",
      "10000/10000 [==============================] - 3s 299us/sample - loss: 0.2656 - accuracy: 0.8853 - val_loss: 0.3784 - val_accuracy: 0.8380\n",
      "Epoch 73/1000\n",
      "10000/10000 [==============================] - 3s 302us/sample - loss: 0.2653 - accuracy: 0.8858 - val_loss: 0.3844 - val_accuracy: 0.8410\n",
      "Epoch 74/1000\n",
      "10000/10000 [==============================] - 3s 311us/sample - loss: 0.2613 - accuracy: 0.8896 - val_loss: 0.3543 - val_accuracy: 0.8360\n",
      "Epoch 75/1000\n",
      "10000/10000 [==============================] - 3s 306us/sample - loss: 0.2679 - accuracy: 0.8855 - val_loss: 0.3726 - val_accuracy: 0.8370\n",
      "Epoch 76/1000\n",
      "10000/10000 [==============================] - 3s 335us/sample - loss: 0.2633 - accuracy: 0.8885 - val_loss: 0.3785 - val_accuracy: 0.8310\n",
      "Epoch 77/1000\n",
      "10000/10000 [==============================] - 3s 304us/sample - loss: 0.2592 - accuracy: 0.8901 - val_loss: 0.3797 - val_accuracy: 0.8310\n",
      "Epoch 78/1000\n",
      "10000/10000 [==============================] - 3s 300us/sample - loss: 0.2587 - accuracy: 0.8869 - val_loss: 0.3835 - val_accuracy: 0.8350\n",
      "Epoch 79/1000\n",
      "10000/10000 [==============================] - 3s 302us/sample - loss: 0.2614 - accuracy: 0.8886 - val_loss: 0.3701 - val_accuracy: 0.8410\n",
      "Epoch 80/1000\n",
      "10000/10000 [==============================] - 3s 303us/sample - loss: 0.2660 - accuracy: 0.8885 - val_loss: 0.3877 - val_accuracy: 0.8300\n",
      "Epoch 81/1000\n",
      "10000/10000 [==============================] - 3s 334us/sample - loss: 0.2560 - accuracy: 0.8928 - val_loss: 0.3737 - val_accuracy: 0.8370\n",
      "Epoch 82/1000\n",
      "10000/10000 [==============================] - 3s 302us/sample - loss: 0.2598 - accuracy: 0.8910 - val_loss: 0.4097 - val_accuracy: 0.8350\n",
      "Epoch 83/1000\n",
      "10000/10000 [==============================] - 3s 305us/sample - loss: 0.2572 - accuracy: 0.8937 - val_loss: 0.3891 - val_accuracy: 0.8290\n",
      "Epoch 84/1000\n",
      "10000/10000 [==============================] - 3s 316us/sample - loss: 0.2554 - accuracy: 0.8912 - val_loss: 0.4113 - val_accuracy: 0.8300\n",
      "Epoch 85/1000\n",
      "10000/10000 [==============================] - 3s 309us/sample - loss: 0.2489 - accuracy: 0.8943 - val_loss: 0.4214 - val_accuracy: 0.8310\n",
      "Epoch 86/1000\n",
      "10000/10000 [==============================] - 3s 326us/sample - loss: 0.2529 - accuracy: 0.8928 - val_loss: 0.4078 - val_accuracy: 0.8290\n",
      "Epoch 87/1000\n",
      "10000/10000 [==============================] - 3s 306us/sample - loss: 0.2457 - accuracy: 0.8933 - val_loss: 0.4054 - val_accuracy: 0.8270\n",
      "Epoch 88/1000\n",
      "10000/10000 [==============================] - 3s 311us/sample - loss: 0.2464 - accuracy: 0.8958 - val_loss: 0.3975 - val_accuracy: 0.8330\n",
      "Epoch 89/1000\n",
      "10000/10000 [==============================] - 4s 395us/sample - loss: 0.2435 - accuracy: 0.8971 - val_loss: 0.4520 - val_accuracy: 0.8300\n",
      "Epoch 90/1000\n",
      "10000/10000 [==============================] - 3s 341us/sample - loss: 0.2434 - accuracy: 0.8952 - val_loss: 0.4196 - val_accuracy: 0.8320\n",
      "Epoch 91/1000\n",
      "10000/10000 [==============================] - 3s 306us/sample - loss: 0.2417 - accuracy: 0.8988 - val_loss: 0.4225 - val_accuracy: 0.8370\n",
      "Epoch 92/1000\n",
      "10000/10000 [==============================] - 3s 302us/sample - loss: 0.2431 - accuracy: 0.8978 - val_loss: 0.4261 - val_accuracy: 0.8280\n",
      "Epoch 93/1000\n",
      "10000/10000 [==============================] - 3s 308us/sample - loss: 0.2406 - accuracy: 0.8975 - val_loss: 0.4190 - val_accuracy: 0.8280\n",
      "Epoch 94/1000\n",
      "10000/10000 [==============================] - 3s 306us/sample - loss: 0.2405 - accuracy: 0.8989 - val_loss: 0.4192 - val_accuracy: 0.8270\n",
      "Epoch 95/1000\n",
      "10000/10000 [==============================] - 3s 339us/sample - loss: 0.2318 - accuracy: 0.9018 - val_loss: 0.4304 - val_accuracy: 0.8310\n",
      "Epoch 96/1000\n",
      "10000/10000 [==============================] - 3s 330us/sample - loss: 0.2301 - accuracy: 0.9031 - val_loss: 0.4399 - val_accuracy: 0.8290\n",
      "Epoch 97/1000\n",
      "10000/10000 [==============================] - 3s 324us/sample - loss: 0.2358 - accuracy: 0.9036 - val_loss: 0.4102 - val_accuracy: 0.8270\n",
      "Epoch 98/1000\n",
      "10000/10000 [==============================] - 3s 321us/sample - loss: 0.2266 - accuracy: 0.9017 - val_loss: 0.4425 - val_accuracy: 0.8310\n",
      "Epoch 99/1000\n",
      "10000/10000 [==============================] - 3s 308us/sample - loss: 0.2284 - accuracy: 0.9053 - val_loss: 0.4409 - val_accuracy: 0.8380\n",
      "Epoch 100/1000\n",
      "10000/10000 [==============================] - 3s 325us/sample - loss: 0.2338 - accuracy: 0.9047 - val_loss: 0.4579 - val_accuracy: 0.8370\n",
      "Epoch 101/1000\n",
      "10000/10000 [==============================] - 3s 306us/sample - loss: 0.2299 - accuracy: 0.9062 - val_loss: 0.4640 - val_accuracy: 0.8300\n",
      "Epoch 102/1000\n",
      "10000/10000 [==============================] - 3s 309us/sample - loss: 0.2282 - accuracy: 0.9069 - val_loss: 0.4282 - val_accuracy: 0.8390\n",
      "Epoch 103/1000\n",
      "10000/10000 [==============================] - 3s 312us/sample - loss: 0.2280 - accuracy: 0.9039 - val_loss: 0.4481 - val_accuracy: 0.8380\n",
      "Epoch 104/1000\n",
      "10000/10000 [==============================] - 3s 336us/sample - loss: 0.2214 - accuracy: 0.9092 - val_loss: 0.4576 - val_accuracy: 0.8380\n",
      "Epoch 105/1000\n",
      "10000/10000 [==============================] - 3s 309us/sample - loss: 0.2185 - accuracy: 0.9092 - val_loss: 0.4569 - val_accuracy: 0.8300\n",
      "Epoch 106/1000\n",
      "10000/10000 [==============================] - 3s 304us/sample - loss: 0.2213 - accuracy: 0.9080 - val_loss: 0.5473 - val_accuracy: 0.8320\n",
      "Epoch 107/1000\n",
      "10000/10000 [==============================] - 3s 303us/sample - loss: 0.2122 - accuracy: 0.9090 - val_loss: 0.4845 - val_accuracy: 0.8320\n",
      "Epoch 108/1000\n",
      "10000/10000 [==============================] - 3s 304us/sample - loss: 0.2154 - accuracy: 0.9108 - val_loss: 0.5170 - val_accuracy: 0.8300\n",
      "Epoch 109/1000\n",
      "10000/10000 [==============================] - 3s 337us/sample - loss: 0.2147 - accuracy: 0.9139 - val_loss: 0.4670 - val_accuracy: 0.8360\n",
      "Epoch 110/1000\n",
      "10000/10000 [==============================] - 3s 302us/sample - loss: 0.2100 - accuracy: 0.9130 - val_loss: 0.4816 - val_accuracy: 0.8360\n",
      "Epoch 111/1000\n",
      "10000/10000 [==============================] - 3s 313us/sample - loss: 0.2133 - accuracy: 0.9091 - val_loss: 0.5047 - val_accuracy: 0.8330\n",
      "Epoch 112/1000\n",
      "10000/10000 [==============================] - 3s 308us/sample - loss: 0.2102 - accuracy: 0.9141 - val_loss: 0.5146 - val_accuracy: 0.8340\n",
      "Epoch 113/1000\n",
      "10000/10000 [==============================] - 3s 309us/sample - loss: 0.2076 - accuracy: 0.9140 - val_loss: 0.6351 - val_accuracy: 0.8100\n",
      "Epoch 114/1000\n",
      "10000/10000 [==============================] - 3s 344us/sample - loss: 0.2133 - accuracy: 0.9132 - val_loss: 0.4674 - val_accuracy: 0.8290\n",
      "Epoch 115/1000\n",
      "10000/10000 [==============================] - 3s 304us/sample - loss: 0.2103 - accuracy: 0.9139 - val_loss: 0.4508 - val_accuracy: 0.8410\n",
      "Epoch 116/1000\n",
      "10000/10000 [==============================] - 3s 306us/sample - loss: 0.2032 - accuracy: 0.9156 - val_loss: 0.5025 - val_accuracy: 0.8300\n",
      "Epoch 117/1000\n",
      "10000/10000 [==============================] - 3s 328us/sample - loss: 0.2007 - accuracy: 0.9166 - val_loss: 0.5423 - val_accuracy: 0.8320\n",
      "Epoch 118/1000\n",
      "10000/10000 [==============================] - 3s 348us/sample - loss: 0.2048 - accuracy: 0.9183 - val_loss: 0.5325 - val_accuracy: 0.8320\n",
      "Epoch 119/1000\n",
      "10000/10000 [==============================] - 3s 327us/sample - loss: 0.1995 - accuracy: 0.9190 - val_loss: 0.5127 - val_accuracy: 0.8350\n",
      "Epoch 120/1000\n",
      "10000/10000 [==============================] - 3s 334us/sample - loss: 0.2057 - accuracy: 0.9154 - val_loss: 0.4989 - val_accuracy: 0.8340\n",
      "Epoch 121/1000\n",
      "10000/10000 [==============================] - 3s 325us/sample - loss: 0.1988 - accuracy: 0.9159 - val_loss: 0.6282 - val_accuracy: 0.8170\n",
      "Epoch 122/1000\n",
      "10000/10000 [==============================] - 3s 306us/sample - loss: 0.1981 - accuracy: 0.9181 - val_loss: 0.5575 - val_accuracy: 0.8320\n",
      "Epoch 123/1000\n",
      "10000/10000 [==============================] - 3s 342us/sample - loss: 0.1953 - accuracy: 0.9200 - val_loss: 0.5275 - val_accuracy: 0.8270\n",
      "Epoch 124/1000\n",
      "10000/10000 [==============================] - 3s 307us/sample - loss: 0.1926 - accuracy: 0.9206 - val_loss: 0.5358 - val_accuracy: 0.8260\n",
      "Epoch 125/1000\n",
      "10000/10000 [==============================] - 3s 305us/sample - loss: 0.1981 - accuracy: 0.9184 - val_loss: 0.4946 - val_accuracy: 0.8380\n",
      "Epoch 126/1000\n",
      "10000/10000 [==============================] - 3s 302us/sample - loss: 0.1942 - accuracy: 0.9194 - val_loss: 0.5764 - val_accuracy: 0.8270\n",
      "Epoch 127/1000\n",
      "10000/10000 [==============================] - 3s 305us/sample - loss: 0.1927 - accuracy: 0.9195 - val_loss: 0.4647 - val_accuracy: 0.8430\n",
      "Epoch 128/1000\n",
      "10000/10000 [==============================] - 3s 339us/sample - loss: 0.1864 - accuracy: 0.9237 - val_loss: 0.5786 - val_accuracy: 0.8350\n",
      "Epoch 129/1000\n",
      "10000/10000 [==============================] - 3s 314us/sample - loss: 0.1975 - accuracy: 0.9164 - val_loss: 0.5527 - val_accuracy: 0.8320\n",
      "Epoch 130/1000\n",
      "10000/10000 [==============================] - 3s 323us/sample - loss: 0.1956 - accuracy: 0.9209 - val_loss: 0.5951 - val_accuracy: 0.8310\n",
      "Epoch 131/1000\n",
      "10000/10000 [==============================] - 3s 318us/sample - loss: 0.1853 - accuracy: 0.9255 - val_loss: 0.5820 - val_accuracy: 0.8320\n",
      "Epoch 132/1000\n",
      "10000/10000 [==============================] - 4s 376us/sample - loss: 0.1840 - accuracy: 0.9257 - val_loss: 0.5464 - val_accuracy: 0.8350\n",
      "Epoch 133/1000\n",
      "10000/10000 [==============================] - 3s 320us/sample - loss: 0.1868 - accuracy: 0.9218 - val_loss: 0.5797 - val_accuracy: 0.8340\n",
      "Epoch 134/1000\n",
      "10000/10000 [==============================] - 3s 320us/sample - loss: 0.1783 - accuracy: 0.9265 - val_loss: 0.5768 - val_accuracy: 0.8260\n",
      "Epoch 135/1000\n",
      "10000/10000 [==============================] - 3s 325us/sample - loss: 0.1835 - accuracy: 0.9278 - val_loss: 0.5957 - val_accuracy: 0.8310\n",
      "Epoch 136/1000\n",
      "10000/10000 [==============================] - 3s 322us/sample - loss: 0.1828 - accuracy: 0.9278 - val_loss: 0.6637 - val_accuracy: 0.8240\n",
      "Epoch 137/1000\n",
      "10000/10000 [==============================] - 4s 357us/sample - loss: 0.1836 - accuracy: 0.9287 - val_loss: 0.5389 - val_accuracy: 0.8330\n",
      "Epoch 138/1000\n",
      "10000/10000 [==============================] - 3s 341us/sample - loss: 0.1777 - accuracy: 0.9289 - val_loss: 0.6724 - val_accuracy: 0.8190\n",
      "Epoch 139/1000\n",
      "10000/10000 [==============================] - 3s 333us/sample - loss: 0.1742 - accuracy: 0.9303 - val_loss: 0.6509 - val_accuracy: 0.8250\n",
      "Epoch 140/1000\n",
      "10000/10000 [==============================] - 3s 323us/sample - loss: 0.1840 - accuracy: 0.9281 - val_loss: 0.5653 - val_accuracy: 0.8240\n",
      "Epoch 141/1000\n",
      "10000/10000 [==============================] - 3s 299us/sample - loss: 0.1720 - accuracy: 0.9295 - val_loss: 0.6592 - val_accuracy: 0.8230\n",
      "Epoch 142/1000\n",
      "10000/10000 [==============================] - 4s 354us/sample - loss: 0.1707 - accuracy: 0.9324 - val_loss: 0.5704 - val_accuracy: 0.8350\n",
      "Epoch 143/1000\n",
      "10000/10000 [==============================] - 3s 329us/sample - loss: 0.1733 - accuracy: 0.9322 - val_loss: 0.6324 - val_accuracy: 0.8240\n",
      "Epoch 144/1000\n",
      "10000/10000 [==============================] - 3s 330us/sample - loss: 0.1689 - accuracy: 0.9336 - val_loss: 0.6003 - val_accuracy: 0.8290\n",
      "Epoch 145/1000\n",
      "10000/10000 [==============================] - 3s 333us/sample - loss: 0.1715 - accuracy: 0.9294 - val_loss: 0.6210 - val_accuracy: 0.8310\n",
      "Epoch 146/1000\n",
      "10000/10000 [==============================] - 3s 338us/sample - loss: 0.1778 - accuracy: 0.9291 - val_loss: 0.6521 - val_accuracy: 0.8210\n",
      "Epoch 147/1000\n",
      "10000/10000 [==============================] - 3s 311us/sample - loss: 0.1617 - accuracy: 0.9357 - val_loss: 0.6984 - val_accuracy: 0.8250\n",
      "Epoch 148/1000\n",
      "10000/10000 [==============================] - 3s 329us/sample - loss: 0.1692 - accuracy: 0.9336 - val_loss: 0.6866 - val_accuracy: 0.8210\n",
      "Epoch 149/1000\n",
      "10000/10000 [==============================] - 3s 332us/sample - loss: 0.1700 - accuracy: 0.9346 - val_loss: 0.6573 - val_accuracy: 0.8190\n",
      "Epoch 150/1000\n",
      "10000/10000 [==============================] - 3s 327us/sample - loss: 0.1591 - accuracy: 0.9382 - val_loss: 0.7210 - val_accuracy: 0.8260\n",
      "Epoch 151/1000\n",
      "10000/10000 [==============================] - 3s 350us/sample - loss: 0.1580 - accuracy: 0.9357 - val_loss: 0.7152 - val_accuracy: 0.8360\n",
      "Epoch 152/1000\n",
      "10000/10000 [==============================] - 3s 322us/sample - loss: 0.1676 - accuracy: 0.9324 - val_loss: 0.6614 - val_accuracy: 0.8290\n",
      "Epoch 153/1000\n",
      "10000/10000 [==============================] - 3s 326us/sample - loss: 0.1604 - accuracy: 0.9368 - val_loss: 0.6080 - val_accuracy: 0.8290\n",
      "Epoch 154/1000\n",
      "10000/10000 [==============================] - 3s 338us/sample - loss: 0.1627 - accuracy: 0.9360 - val_loss: 0.7008 - val_accuracy: 0.8210\n",
      "Epoch 155/1000\n",
      "10000/10000 [==============================] - 4s 353us/sample - loss: 0.1638 - accuracy: 0.9358 - val_loss: 0.7085 - val_accuracy: 0.8310\n",
      "Epoch 156/1000\n",
      "10000/10000 [==============================] - 3s 330us/sample - loss: 0.1576 - accuracy: 0.9398 - val_loss: 0.6876 - val_accuracy: 0.8190\n",
      "Epoch 157/1000\n",
      "10000/10000 [==============================] - 3s 320us/sample - loss: 0.1570 - accuracy: 0.9384 - val_loss: 0.6766 - val_accuracy: 0.8270\n",
      "Epoch 158/1000\n",
      "10000/10000 [==============================] - 3s 334us/sample - loss: 0.1579 - accuracy: 0.9377 - val_loss: 0.6925 - val_accuracy: 0.8170\n",
      "Epoch 159/1000\n",
      "10000/10000 [==============================] - 3s 298us/sample - loss: 0.1537 - accuracy: 0.9436 - val_loss: 0.6936 - val_accuracy: 0.8250\n",
      "Epoch 160/1000\n",
      "10000/10000 [==============================] - 3s 345us/sample - loss: 0.1516 - accuracy: 0.9426 - val_loss: 0.7703 - val_accuracy: 0.8260\n",
      "Epoch 161/1000\n",
      "10000/10000 [==============================] - 3s 314us/sample - loss: 0.1538 - accuracy: 0.9413 - val_loss: 0.6468 - val_accuracy: 0.8300\n",
      "Epoch 162/1000\n",
      "10000/10000 [==============================] - 3s 304us/sample - loss: 0.1510 - accuracy: 0.9422 - val_loss: 0.7208 - val_accuracy: 0.8170\n",
      "Epoch 163/1000\n",
      "10000/10000 [==============================] - 3s 307us/sample - loss: 0.1486 - accuracy: 0.9427 - val_loss: 0.6869 - val_accuracy: 0.8220\n",
      "Epoch 164/1000\n",
      "10000/10000 [==============================] - 3s 328us/sample - loss: 0.1476 - accuracy: 0.9450 - val_loss: 0.8119 - val_accuracy: 0.8210\n",
      "Epoch 165/1000\n",
      "10000/10000 [==============================] - 3s 305us/sample - loss: 0.1479 - accuracy: 0.9420 - val_loss: 0.7442 - val_accuracy: 0.8200\n",
      "Epoch 166/1000\n",
      "10000/10000 [==============================] - 3s 304us/sample - loss: 0.1478 - accuracy: 0.9425 - val_loss: 0.7508 - val_accuracy: 0.8250\n",
      "Epoch 167/1000\n",
      "10000/10000 [==============================] - 3s 305us/sample - loss: 0.1416 - accuracy: 0.9451 - val_loss: 0.7227 - val_accuracy: 0.8250\n",
      "Epoch 168/1000\n",
      "10000/10000 [==============================] - 3s 309us/sample - loss: 0.1427 - accuracy: 0.9445 - val_loss: 0.7048 - val_accuracy: 0.8220\n",
      "Epoch 169/1000\n",
      "10000/10000 [==============================] - 3s 345us/sample - loss: 0.1443 - accuracy: 0.9443 - val_loss: 0.7356 - val_accuracy: 0.8230\n",
      "Epoch 170/1000\n",
      "10000/10000 [==============================] - 3s 309us/sample - loss: 0.1451 - accuracy: 0.9435 - val_loss: 0.7335 - val_accuracy: 0.8200\n",
      "Epoch 171/1000\n",
      "10000/10000 [==============================] - 3s 307us/sample - loss: 0.1346 - accuracy: 0.9466 - val_loss: 0.7445 - val_accuracy: 0.8260\n",
      "Epoch 172/1000\n",
      "10000/10000 [==============================] - 3s 319us/sample - loss: 0.1392 - accuracy: 0.9438 - val_loss: 0.6805 - val_accuracy: 0.8290\n",
      "Epoch 173/1000\n",
      "10000/10000 [==============================] - 3s 318us/sample - loss: 0.1324 - accuracy: 0.9495 - val_loss: 0.7676 - val_accuracy: 0.8300\n",
      "Epoch 174/1000\n",
      "10000/10000 [==============================] - 4s 353us/sample - loss: 0.1450 - accuracy: 0.9459 - val_loss: 0.7893 - val_accuracy: 0.8220\n",
      "Epoch 175/1000\n",
      "10000/10000 [==============================] - 3s 311us/sample - loss: 0.1392 - accuracy: 0.9458 - val_loss: 0.6934 - val_accuracy: 0.8200\n",
      "Epoch 176/1000\n",
      "10000/10000 [==============================] - 3s 320us/sample - loss: 0.1286 - accuracy: 0.9495 - val_loss: 0.8077 - val_accuracy: 0.8200\n",
      "Epoch 177/1000\n",
      "10000/10000 [==============================] - 3s 325us/sample - loss: 0.1395 - accuracy: 0.9478 - val_loss: 0.8408 - val_accuracy: 0.8100\n",
      "Epoch 178/1000\n",
      "10000/10000 [==============================] - 4s 387us/sample - loss: 0.1264 - accuracy: 0.9518 - val_loss: 0.7854 - val_accuracy: 0.8180\n",
      "Epoch 179/1000\n",
      "10000/10000 [==============================] - 3s 326us/sample - loss: 0.1355 - accuracy: 0.9478 - val_loss: 0.7410 - val_accuracy: 0.8310\n",
      "Epoch 180/1000\n",
      "10000/10000 [==============================] - 3s 312us/sample - loss: 0.1310 - accuracy: 0.9502 - val_loss: 0.7493 - val_accuracy: 0.8240\n",
      "Epoch 181/1000\n",
      "10000/10000 [==============================] - 3s 315us/sample - loss: 0.1305 - accuracy: 0.9513 - val_loss: 0.7801 - val_accuracy: 0.8280\n",
      "Epoch 182/1000\n",
      "10000/10000 [==============================] - 3s 310us/sample - loss: 0.1320 - accuracy: 0.9490 - val_loss: 0.7563 - val_accuracy: 0.8280\n",
      "Epoch 183/1000\n",
      "10000/10000 [==============================] - 3s 336us/sample - loss: 0.1206 - accuracy: 0.9537 - val_loss: 0.8303 - val_accuracy: 0.8220\n",
      "Epoch 184/1000\n",
      "10000/10000 [==============================] - 3s 307us/sample - loss: 0.1278 - accuracy: 0.9521 - val_loss: 0.8762 - val_accuracy: 0.8230\n",
      "Epoch 185/1000\n",
      "10000/10000 [==============================] - 3s 304us/sample - loss: 0.1265 - accuracy: 0.9500 - val_loss: 0.8012 - val_accuracy: 0.8220\n",
      "Epoch 186/1000\n",
      "10000/10000 [==============================] - 3s 316us/sample - loss: 0.1261 - accuracy: 0.9504 - val_loss: 0.8414 - val_accuracy: 0.8230\n",
      "Epoch 187/1000\n",
      "10000/10000 [==============================] - 3s 308us/sample - loss: 0.1257 - accuracy: 0.9531 - val_loss: 0.8305 - val_accuracy: 0.8150\n",
      "Epoch 188/1000\n",
      "10000/10000 [==============================] - 3s 338us/sample - loss: 0.1223 - accuracy: 0.9530 - val_loss: 0.9215 - val_accuracy: 0.8250\n",
      "Epoch 189/1000\n",
      "10000/10000 [==============================] - 3s 310us/sample - loss: 0.1295 - accuracy: 0.9520 - val_loss: 0.7891 - val_accuracy: 0.8260\n",
      "Epoch 190/1000\n",
      "10000/10000 [==============================] - 3s 304us/sample - loss: 0.1140 - accuracy: 0.9547 - val_loss: 0.9549 - val_accuracy: 0.8210\n",
      "Epoch 191/1000\n",
      "10000/10000 [==============================] - 3s 304us/sample - loss: 0.1226 - accuracy: 0.9528 - val_loss: 0.9307 - val_accuracy: 0.8260\n",
      "Epoch 192/1000\n",
      "10000/10000 [==============================] - 3s 317us/sample - loss: 0.1208 - accuracy: 0.9546 - val_loss: 0.8231 - val_accuracy: 0.8270\n",
      "Epoch 193/1000\n",
      "10000/10000 [==============================] - 3s 348us/sample - loss: 0.1152 - accuracy: 0.9567 - val_loss: 0.8137 - val_accuracy: 0.8300\n",
      "Epoch 194/1000\n",
      "10000/10000 [==============================] - 3s 329us/sample - loss: 0.1198 - accuracy: 0.9548 - val_loss: 0.9484 - val_accuracy: 0.8280\n",
      "Epoch 195/1000\n",
      "10000/10000 [==============================] - 3s 315us/sample - loss: 0.1184 - accuracy: 0.9541 - val_loss: 0.8971 - val_accuracy: 0.8310\n",
      "Epoch 196/1000\n",
      "10000/10000 [==============================] - 3s 325us/sample - loss: 0.1182 - accuracy: 0.9577 - val_loss: 0.9142 - val_accuracy: 0.8160\n",
      "Epoch 197/1000\n",
      "10000/10000 [==============================] - 4s 362us/sample - loss: 0.1152 - accuracy: 0.9563 - val_loss: 0.8637 - val_accuracy: 0.8200\n",
      "Epoch 198/1000\n",
      "10000/10000 [==============================] - 3s 314us/sample - loss: 0.1147 - accuracy: 0.9610 - val_loss: 0.8644 - val_accuracy: 0.8260\n",
      "Epoch 199/1000\n",
      "10000/10000 [==============================] - 3s 307us/sample - loss: 0.1168 - accuracy: 0.9567 - val_loss: 0.9848 - val_accuracy: 0.8150\n",
      "Epoch 200/1000\n",
      "10000/10000 [==============================] - 3s 304us/sample - loss: 0.1126 - accuracy: 0.9573 - val_loss: 0.8993 - val_accuracy: 0.8240\n",
      "Epoch 201/1000\n",
      "10000/10000 [==============================] - 3s 307us/sample - loss: 0.1130 - accuracy: 0.9604 - val_loss: 0.9010 - val_accuracy: 0.8290\n",
      "Epoch 202/1000\n",
      "10000/10000 [==============================] - 4s 357us/sample - loss: 0.1080 - accuracy: 0.9621 - val_loss: 0.8878 - val_accuracy: 0.8350\n",
      "Epoch 203/1000\n",
      "10000/10000 [==============================] - 3s 312us/sample - loss: 0.1100 - accuracy: 0.9600 - val_loss: 0.9074 - val_accuracy: 0.8270\n",
      "Epoch 204/1000\n",
      "10000/10000 [==============================] - 3s 306us/sample - loss: 0.1101 - accuracy: 0.9592 - val_loss: 0.9444 - val_accuracy: 0.8220\n",
      "Epoch 205/1000\n",
      "10000/10000 [==============================] - 3s 314us/sample - loss: 0.1094 - accuracy: 0.9590 - val_loss: 0.9408 - val_accuracy: 0.8290\n",
      "Epoch 206/1000\n",
      "10000/10000 [==============================] - 3s 312us/sample - loss: 0.1088 - accuracy: 0.9588 - val_loss: 0.9174 - val_accuracy: 0.8240\n",
      "Epoch 207/1000\n",
      "10000/10000 [==============================] - 3s 336us/sample - loss: 0.1111 - accuracy: 0.9603 - val_loss: 0.8653 - val_accuracy: 0.8250\n",
      "Epoch 208/1000\n",
      "10000/10000 [==============================] - 3s 311us/sample - loss: 0.1104 - accuracy: 0.9589 - val_loss: 0.8240 - val_accuracy: 0.8280\n",
      "Epoch 209/1000\n",
      "10000/10000 [==============================] - 3s 306us/sample - loss: 0.1114 - accuracy: 0.9596 - val_loss: 0.8899 - val_accuracy: 0.8360\n",
      "Epoch 210/1000\n",
      "10000/10000 [==============================] - 3s 314us/sample - loss: 0.1053 - accuracy: 0.9618 - val_loss: 0.9514 - val_accuracy: 0.8300\n",
      "Epoch 211/1000\n",
      "10000/10000 [==============================] - 3s 337us/sample - loss: 0.1015 - accuracy: 0.9627 - val_loss: 0.9538 - val_accuracy: 0.8280\n",
      "Epoch 212/1000\n",
      "10000/10000 [==============================] - 3s 310us/sample - loss: 0.1039 - accuracy: 0.9614 - val_loss: 1.0321 - val_accuracy: 0.8270\n",
      "Epoch 213/1000\n",
      "10000/10000 [==============================] - 3s 305us/sample - loss: 0.1022 - accuracy: 0.9627 - val_loss: 0.9758 - val_accuracy: 0.8320\n",
      "Epoch 214/1000\n",
      "10000/10000 [==============================] - 3s 317us/sample - loss: 0.1064 - accuracy: 0.9599 - val_loss: 0.8508 - val_accuracy: 0.8320\n",
      "Epoch 215/1000\n",
      "10000/10000 [==============================] - 3s 318us/sample - loss: 0.1004 - accuracy: 0.9625 - val_loss: 0.9942 - val_accuracy: 0.8260\n",
      "Epoch 216/1000\n",
      "10000/10000 [==============================] - 3s 339us/sample - loss: 0.1049 - accuracy: 0.9593 - val_loss: 0.9508 - val_accuracy: 0.8340\n",
      "Epoch 217/1000\n",
      "10000/10000 [==============================] - 3s 319us/sample - loss: 0.1057 - accuracy: 0.9635 - val_loss: 0.9875 - val_accuracy: 0.8290\n",
      "Epoch 218/1000\n",
      "10000/10000 [==============================] - 3s 318us/sample - loss: 0.0996 - accuracy: 0.9633 - val_loss: 0.9953 - val_accuracy: 0.8300\n",
      "Epoch 219/1000\n",
      "10000/10000 [==============================] - 3s 335us/sample - loss: 0.0936 - accuracy: 0.9625 - val_loss: 0.9598 - val_accuracy: 0.8320\n",
      "Epoch 220/1000\n",
      "10000/10000 [==============================] - 3s 327us/sample - loss: 0.0911 - accuracy: 0.9666 - val_loss: 1.0400 - val_accuracy: 0.8190\n",
      "Epoch 221/1000\n",
      "10000/10000 [==============================] - 3s 344us/sample - loss: 0.0948 - accuracy: 0.9667 - val_loss: 1.1070 - val_accuracy: 0.8150\n",
      "Epoch 222/1000\n",
      "10000/10000 [==============================] - 3s 325us/sample - loss: 0.0982 - accuracy: 0.9695 - val_loss: 0.9815 - val_accuracy: 0.8280\n",
      "Epoch 223/1000\n",
      "10000/10000 [==============================] - 4s 366us/sample - loss: 0.1056 - accuracy: 0.9617 - val_loss: 0.9384 - val_accuracy: 0.8280\n",
      "Epoch 224/1000\n",
      "10000/10000 [==============================] - 3s 319us/sample - loss: 0.0974 - accuracy: 0.9647 - val_loss: 0.9376 - val_accuracy: 0.8290\n",
      "Epoch 225/1000\n",
      "10000/10000 [==============================] - 3s 346us/sample - loss: 0.1025 - accuracy: 0.9640 - val_loss: 0.9753 - val_accuracy: 0.8200\n",
      "Epoch 226/1000\n",
      "10000/10000 [==============================] - 3s 330us/sample - loss: 0.0945 - accuracy: 0.9659 - val_loss: 0.9710 - val_accuracy: 0.8390\n",
      "Epoch 227/1000\n",
      "10000/10000 [==============================] - 4s 355us/sample - loss: 0.0937 - accuracy: 0.9652 - val_loss: 0.9618 - val_accuracy: 0.8310\n",
      "Epoch 228/1000\n",
      "10000/10000 [==============================] - 3s 336us/sample - loss: 0.0945 - accuracy: 0.9651 - val_loss: 0.9803 - val_accuracy: 0.8270\n",
      "Epoch 229/1000\n",
      "10000/10000 [==============================] - 4s 373us/sample - loss: 0.0933 - accuracy: 0.9681 - val_loss: 0.9939 - val_accuracy: 0.8240\n",
      "Epoch 230/1000\n",
      "10000/10000 [==============================] - 3s 328us/sample - loss: 0.0942 - accuracy: 0.9681 - val_loss: 1.0629 - val_accuracy: 0.8380\n",
      "Epoch 231/1000\n",
      "10000/10000 [==============================] - 3s 309us/sample - loss: 0.0894 - accuracy: 0.9683 - val_loss: 0.9852 - val_accuracy: 0.8340\n",
      "Epoch 232/1000\n",
      "10000/10000 [==============================] - 3s 346us/sample - loss: 0.0907 - accuracy: 0.9680 - val_loss: 1.0731 - val_accuracy: 0.8320\n",
      "Epoch 233/1000\n",
      "10000/10000 [==============================] - 3s 273us/sample - loss: 0.0897 - accuracy: 0.9700 - val_loss: 1.0441 - val_accuracy: 0.8280\n",
      "Epoch 234/1000\n",
      "10000/10000 [==============================] - 3s 287us/sample - loss: 0.0863 - accuracy: 0.9696 - val_loss: 1.0466 - val_accuracy: 0.8290\n",
      "Epoch 235/1000\n",
      "10000/10000 [==============================] - 3s 260us/sample - loss: 0.0947 - accuracy: 0.9679 - val_loss: 1.0162 - val_accuracy: 0.8340\n",
      "Epoch 236/1000\n",
      "10000/10000 [==============================] - 2s 243us/sample - loss: 0.0953 - accuracy: 0.9668 - val_loss: 1.0630 - val_accuracy: 0.8330\n",
      "Epoch 237/1000\n",
      "10000/10000 [==============================] - 2s 239us/sample - loss: 0.0901 - accuracy: 0.9670 - val_loss: 0.9723 - val_accuracy: 0.8340\n",
      "Epoch 238/1000\n",
      "10000/10000 [==============================] - 2s 234us/sample - loss: 0.0844 - accuracy: 0.9707 - val_loss: 1.0633 - val_accuracy: 0.8280\n",
      "Epoch 239/1000\n",
      "10000/10000 [==============================] - 2s 235us/sample - loss: 0.0832 - accuracy: 0.9721 - val_loss: 1.1216 - val_accuracy: 0.8210\n",
      "Epoch 240/1000\n",
      "10000/10000 [==============================] - 3s 277us/sample - loss: 0.0880 - accuracy: 0.9691 - val_loss: 1.0544 - val_accuracy: 0.8200\n",
      "Epoch 241/1000\n",
      "10000/10000 [==============================] - 2s 239us/sample - loss: 0.0930 - accuracy: 0.9683 - val_loss: 1.0811 - val_accuracy: 0.8290\n",
      "Epoch 242/1000\n",
      "10000/10000 [==============================] - 2s 240us/sample - loss: 0.0963 - accuracy: 0.9683 - val_loss: 0.9647 - val_accuracy: 0.8230\n",
      "Epoch 243/1000\n",
      "10000/10000 [==============================] - 2s 243us/sample - loss: 0.0843 - accuracy: 0.9694 - val_loss: 0.9873 - val_accuracy: 0.8300\n",
      "Epoch 244/1000\n",
      "10000/10000 [==============================] - 3s 263us/sample - loss: 0.0850 - accuracy: 0.9710 - val_loss: 1.0562 - val_accuracy: 0.8310\n",
      "Epoch 245/1000\n",
      "10000/10000 [==============================] - 3s 255us/sample - loss: 0.0855 - accuracy: 0.9722 - val_loss: 1.0517 - val_accuracy: 0.8310\n",
      "Epoch 246/1000\n",
      "10000/10000 [==============================] - 3s 264us/sample - loss: 0.0817 - accuracy: 0.9720 - val_loss: 1.0985 - val_accuracy: 0.8280\n",
      "Epoch 247/1000\n",
      "10000/10000 [==============================] - 2s 232us/sample - loss: 0.0864 - accuracy: 0.9703 - val_loss: 0.9872 - val_accuracy: 0.8360\n",
      "Epoch 248/1000\n",
      "10000/10000 [==============================] - 2s 244us/sample - loss: 0.0857 - accuracy: 0.9699 - val_loss: 1.0092 - val_accuracy: 0.8380\n",
      "Epoch 249/1000\n",
      "10000/10000 [==============================] - 3s 255us/sample - loss: 0.0796 - accuracy: 0.9724 - val_loss: 1.0506 - val_accuracy: 0.8350\n",
      "Epoch 250/1000\n",
      "10000/10000 [==============================] - 2s 236us/sample - loss: 0.0861 - accuracy: 0.9718 - val_loss: 1.0176 - val_accuracy: 0.8280\n",
      "Epoch 251/1000\n",
      "10000/10000 [==============================] - 2s 224us/sample - loss: 0.0793 - accuracy: 0.9711 - val_loss: 1.0801 - val_accuracy: 0.8220\n",
      "Epoch 252/1000\n",
      "10000/10000 [==============================] - 3s 257us/sample - loss: 0.0884 - accuracy: 0.9691 - val_loss: 0.9448 - val_accuracy: 0.8260\n",
      "Epoch 253/1000\n",
      "10000/10000 [==============================] - 2s 244us/sample - loss: 0.0824 - accuracy: 0.9720 - val_loss: 1.0223 - val_accuracy: 0.8270\n",
      "Epoch 254/1000\n",
      "10000/10000 [==============================] - 2s 237us/sample - loss: 0.0764 - accuracy: 0.9711 - val_loss: 1.1244 - val_accuracy: 0.8250\n",
      "Epoch 255/1000\n",
      "10000/10000 [==============================] - 2s 231us/sample - loss: 0.0826 - accuracy: 0.9714 - val_loss: 1.1097 - val_accuracy: 0.8170\n",
      "Epoch 256/1000\n",
      "10000/10000 [==============================] - 2s 232us/sample - loss: 0.0770 - accuracy: 0.9722 - val_loss: 1.1259 - val_accuracy: 0.8220\n",
      "Epoch 257/1000\n",
      "10000/10000 [==============================] - 2s 239us/sample - loss: 0.0762 - accuracy: 0.9736 - val_loss: 1.1624 - val_accuracy: 0.8230\n",
      "Epoch 258/1000\n",
      "10000/10000 [==============================] - 2s 239us/sample - loss: 0.0787 - accuracy: 0.9743 - val_loss: 1.0391 - val_accuracy: 0.8310\n",
      "Epoch 259/1000\n",
      "10000/10000 [==============================] - 3s 323us/sample - loss: 0.0822 - accuracy: 0.9732 - val_loss: 1.0418 - val_accuracy: 0.8290\n",
      "Epoch 260/1000\n",
      "10000/10000 [==============================] - 3s 268us/sample - loss: 0.0834 - accuracy: 0.9731 - val_loss: 1.1456 - val_accuracy: 0.8180\n",
      "Epoch 261/1000\n",
      "10000/10000 [==============================] - 3s 284us/sample - loss: 0.0841 - accuracy: 0.9717 - val_loss: 1.0421 - val_accuracy: 0.8250\n",
      "Epoch 262/1000\n",
      "10000/10000 [==============================] - 4s 415us/sample - loss: 0.0806 - accuracy: 0.9732 - val_loss: 1.0930 - val_accuracy: 0.8260\n",
      "Epoch 263/1000\n",
      "10000/10000 [==============================] - 4s 357us/sample - loss: 0.0748 - accuracy: 0.9752 - val_loss: 1.0942 - val_accuracy: 0.8240\n",
      "Epoch 264/1000\n",
      "10000/10000 [==============================] - 3s 277us/sample - loss: 0.0801 - accuracy: 0.9723 - val_loss: 1.1575 - val_accuracy: 0.8310\n",
      "Epoch 265/1000\n",
      "10000/10000 [==============================] - 2s 246us/sample - loss: 0.0774 - accuracy: 0.9734 - val_loss: 1.1567 - val_accuracy: 0.8280\n",
      "Epoch 266/1000\n",
      "10000/10000 [==============================] - 3s 257us/sample - loss: 0.0826 - accuracy: 0.9735 - val_loss: 1.0584 - val_accuracy: 0.8330\n",
      "Epoch 267/1000\n",
      "10000/10000 [==============================] - 2s 238us/sample - loss: 0.0754 - accuracy: 0.9716 - val_loss: 1.2093 - val_accuracy: 0.8240\n",
      "Epoch 268/1000\n",
      "10000/10000 [==============================] - 3s 268us/sample - loss: 0.0791 - accuracy: 0.9741 - val_loss: 1.0835 - val_accuracy: 0.8190\n",
      "Epoch 269/1000\n",
      "10000/10000 [==============================] - 3s 283us/sample - loss: 0.0742 - accuracy: 0.9760 - val_loss: 1.1328 - val_accuracy: 0.8320\n",
      "Epoch 270/1000\n",
      "10000/10000 [==============================] - 3s 252us/sample - loss: 0.0767 - accuracy: 0.9758 - val_loss: 1.0472 - val_accuracy: 0.8210\n",
      "Epoch 271/1000\n",
      "10000/10000 [==============================] - 3s 302us/sample - loss: 0.0669 - accuracy: 0.9773 - val_loss: 1.1975 - val_accuracy: 0.8220\n",
      "Epoch 272/1000\n",
      "10000/10000 [==============================] - 3s 338us/sample - loss: 0.0784 - accuracy: 0.9746 - val_loss: 1.1489 - val_accuracy: 0.8150\n",
      "Epoch 273/1000\n",
      "10000/10000 [==============================] - 3s 276us/sample - loss: 0.0711 - accuracy: 0.9751 - val_loss: 1.1925 - val_accuracy: 0.8250\n",
      "Epoch 274/1000\n",
      "10000/10000 [==============================] - 3s 292us/sample - loss: 0.0872 - accuracy: 0.9719 - val_loss: 1.1344 - val_accuracy: 0.8380\n",
      "Epoch 275/1000\n",
      "10000/10000 [==============================] - 3s 270us/sample - loss: 0.0774 - accuracy: 0.9760 - val_loss: 1.0898 - val_accuracy: 0.8220\n",
      "Epoch 276/1000\n",
      "10000/10000 [==============================] - 2s 245us/sample - loss: 0.0736 - accuracy: 0.9776 - val_loss: 1.1636 - val_accuracy: 0.8230\n",
      "Epoch 277/1000\n",
      "10000/10000 [==============================] - 2s 249us/sample - loss: 0.0763 - accuracy: 0.9737 - val_loss: 1.0922 - val_accuracy: 0.8290\n",
      "Epoch 278/1000\n",
      "10000/10000 [==============================] - 2s 247us/sample - loss: 0.0733 - accuracy: 0.9768 - val_loss: 1.1476 - val_accuracy: 0.8280\n",
      "Epoch 279/1000\n",
      "10000/10000 [==============================] - 3s 292us/sample - loss: 0.0675 - accuracy: 0.9766 - val_loss: 1.2092 - val_accuracy: 0.8340\n",
      "Epoch 280/1000\n",
      "10000/10000 [==============================] - 3s 336us/sample - loss: 0.0694 - accuracy: 0.9782 - val_loss: 1.1295 - val_accuracy: 0.8270\n",
      "Epoch 281/1000\n",
      "10000/10000 [==============================] - 3s 277us/sample - loss: 0.0726 - accuracy: 0.9756 - val_loss: 1.1898 - val_accuracy: 0.8230\n",
      "Epoch 282/1000\n",
      "10000/10000 [==============================] - 3s 255us/sample - loss: 0.0732 - accuracy: 0.9754 - val_loss: 1.1369 - val_accuracy: 0.8210\n",
      "Epoch 283/1000\n",
      "10000/10000 [==============================] - 3s 251us/sample - loss: 0.0712 - accuracy: 0.9749 - val_loss: 1.1837 - val_accuracy: 0.8230\n",
      "Epoch 284/1000\n",
      "10000/10000 [==============================] - 3s 250us/sample - loss: 0.0723 - accuracy: 0.9772 - val_loss: 1.2083 - val_accuracy: 0.8260\n",
      "Epoch 285/1000\n",
      "10000/10000 [==============================] - 2s 250us/sample - loss: 0.0737 - accuracy: 0.9771 - val_loss: 1.1570 - val_accuracy: 0.8230\n",
      "Epoch 286/1000\n",
      "10000/10000 [==============================] - 2s 249us/sample - loss: 0.0767 - accuracy: 0.9760 - val_loss: 1.1247 - val_accuracy: 0.8260\n",
      "Epoch 287/1000\n",
      "10000/10000 [==============================] - 3s 257us/sample - loss: 0.0716 - accuracy: 0.9774 - val_loss: 1.2702 - val_accuracy: 0.8060\n",
      "Epoch 288/1000\n",
      "10000/10000 [==============================] - 3s 259us/sample - loss: 0.0620 - accuracy: 0.9784 - val_loss: 1.2698 - val_accuracy: 0.8160\n",
      "Epoch 289/1000\n",
      "10000/10000 [==============================] - 3s 262us/sample - loss: 0.0668 - accuracy: 0.9781 - val_loss: 1.1511 - val_accuracy: 0.8260\n",
      "Epoch 290/1000\n",
      "10000/10000 [==============================] - 3s 298us/sample - loss: 0.0739 - accuracy: 0.9777 - val_loss: 1.1427 - val_accuracy: 0.8220\n",
      "Epoch 291/1000\n",
      "10000/10000 [==============================] - 3s 307us/sample - loss: 0.0642 - accuracy: 0.9778 - val_loss: 1.2437 - val_accuracy: 0.8250\n",
      "Epoch 292/1000\n",
      "10000/10000 [==============================] - 3s 274us/sample - loss: 0.0707 - accuracy: 0.9786 - val_loss: 1.1942 - val_accuracy: 0.8210\n",
      "Epoch 293/1000\n",
      "10000/10000 [==============================] - 3s 269us/sample - loss: 0.0724 - accuracy: 0.9780 - val_loss: 1.1906 - val_accuracy: 0.8160\n",
      "Epoch 294/1000\n",
      "10000/10000 [==============================] - 2s 226us/sample - loss: 0.0676 - accuracy: 0.9778 - val_loss: 1.2523 - val_accuracy: 0.8210\n",
      "Epoch 295/1000\n",
      "10000/10000 [==============================] - 2s 237us/sample - loss: 0.0677 - accuracy: 0.9797 - val_loss: 1.2081 - val_accuracy: 0.8160\n",
      "Epoch 296/1000\n",
      "10000/10000 [==============================] - 2s 233us/sample - loss: 0.0684 - accuracy: 0.9788 - val_loss: 1.2371 - val_accuracy: 0.8230\n",
      "Epoch 297/1000\n",
      "10000/10000 [==============================] - 3s 272us/sample - loss: 0.0643 - accuracy: 0.9805 - val_loss: 1.3584 - val_accuracy: 0.8220\n",
      "Epoch 298/1000\n",
      "10000/10000 [==============================] - 3s 251us/sample - loss: 0.0681 - accuracy: 0.9791 - val_loss: 1.2010 - val_accuracy: 0.8200\n",
      "Epoch 299/1000\n",
      "10000/10000 [==============================] - 3s 257us/sample - loss: 0.0660 - accuracy: 0.9794 - val_loss: 1.1852 - val_accuracy: 0.8280\n",
      "Epoch 300/1000\n",
      "10000/10000 [==============================] - 3s 258us/sample - loss: 0.0619 - accuracy: 0.9800 - val_loss: 1.1843 - val_accuracy: 0.8220\n",
      "Epoch 301/1000\n",
      "10000/10000 [==============================] - 3s 260us/sample - loss: 0.0691 - accuracy: 0.9762 - val_loss: 1.1394 - val_accuracy: 0.8220\n",
      "Epoch 302/1000\n",
      "10000/10000 [==============================] - 3s 320us/sample - loss: 0.0607 - accuracy: 0.9816 - val_loss: 1.2435 - val_accuracy: 0.8140\n",
      "Epoch 303/1000\n",
      "10000/10000 [==============================] - 3s 266us/sample - loss: 0.0655 - accuracy: 0.9783 - val_loss: 1.2299 - val_accuracy: 0.8200\n",
      "Epoch 304/1000\n",
      "10000/10000 [==============================] - 3s 271us/sample - loss: 0.0678 - accuracy: 0.9798 - val_loss: 1.1414 - val_accuracy: 0.8230\n",
      "Epoch 305/1000\n",
      "10000/10000 [==============================] - 3s 260us/sample - loss: 0.0638 - accuracy: 0.9797 - val_loss: 1.2204 - val_accuracy: 0.8240\n",
      "Epoch 306/1000\n",
      "10000/10000 [==============================] - 2s 233us/sample - loss: 0.0623 - accuracy: 0.9814 - val_loss: 1.3321 - val_accuracy: 0.8160\n",
      "Epoch 307/1000\n",
      "10000/10000 [==============================] - 2s 237us/sample - loss: 0.0613 - accuracy: 0.9813 - val_loss: 1.2159 - val_accuracy: 0.8200\n",
      "Epoch 308/1000\n",
      "10000/10000 [==============================] - 3s 274us/sample - loss: 0.0750 - accuracy: 0.9774 - val_loss: 1.1853 - val_accuracy: 0.8180\n",
      "Epoch 309/1000\n",
      "10000/10000 [==============================] - 3s 260us/sample - loss: 0.0665 - accuracy: 0.9789 - val_loss: 1.2000 - val_accuracy: 0.8170\n",
      "Epoch 310/1000\n",
      "10000/10000 [==============================] - 2s 242us/sample - loss: 0.0569 - accuracy: 0.9794 - val_loss: 1.2549 - val_accuracy: 0.8220\n",
      "Epoch 311/1000\n",
      "10000/10000 [==============================] - 2s 245us/sample - loss: 0.0604 - accuracy: 0.9805 - val_loss: 1.2301 - val_accuracy: 0.8230\n",
      "Epoch 312/1000\n",
      "10000/10000 [==============================] - 3s 256us/sample - loss: 0.0662 - accuracy: 0.9785 - val_loss: 1.2552 - val_accuracy: 0.8210\n",
      "Epoch 313/1000\n",
      "10000/10000 [==============================] - 3s 260us/sample - loss: 0.0600 - accuracy: 0.9800 - val_loss: 1.3307 - val_accuracy: 0.8220\n",
      "Epoch 314/1000\n",
      "10000/10000 [==============================] - 3s 292us/sample - loss: 0.0655 - accuracy: 0.9806 - val_loss: 1.2098 - val_accuracy: 0.8260\n",
      "Epoch 315/1000\n",
      "10000/10000 [==============================] - 3s 265us/sample - loss: 0.0623 - accuracy: 0.9803 - val_loss: 1.2945 - val_accuracy: 0.8230\n",
      "Epoch 316/1000\n",
      "10000/10000 [==============================] - 3s 264us/sample - loss: 0.0543 - accuracy: 0.9816 - val_loss: 1.3070 - val_accuracy: 0.8200\n",
      "Epoch 317/1000\n",
      "10000/10000 [==============================] - 3s 268us/sample - loss: 0.0614 - accuracy: 0.9817 - val_loss: 1.3100 - val_accuracy: 0.8120\n",
      "Epoch 318/1000\n",
      "10000/10000 [==============================] - 3s 263us/sample - loss: 0.0622 - accuracy: 0.9803 - val_loss: 1.1674 - val_accuracy: 0.8180\n",
      "Epoch 319/1000\n",
      "10000/10000 [==============================] - 3s 274us/sample - loss: 0.0584 - accuracy: 0.9813 - val_loss: 1.3870 - val_accuracy: 0.8180\n",
      "Epoch 320/1000\n",
      "10000/10000 [==============================] - 3s 289us/sample - loss: 0.0588 - accuracy: 0.9826 - val_loss: 1.2969 - val_accuracy: 0.8140\n",
      "Epoch 321/1000\n",
      "10000/10000 [==============================] - 3s 267us/sample - loss: 0.0689 - accuracy: 0.9782 - val_loss: 1.1922 - val_accuracy: 0.8160\n",
      "Epoch 322/1000\n",
      "10000/10000 [==============================] - 3s 256us/sample - loss: 0.0557 - accuracy: 0.9820 - val_loss: 1.2687 - val_accuracy: 0.8220\n",
      "Epoch 323/1000\n",
      "10000/10000 [==============================] - 3s 269us/sample - loss: 0.0659 - accuracy: 0.9786 - val_loss: 1.2173 - val_accuracy: 0.8160\n",
      "Epoch 324/1000\n",
      "10000/10000 [==============================] - 3s 264us/sample - loss: 0.0564 - accuracy: 0.9814 - val_loss: 1.3450 - val_accuracy: 0.8140\n",
      "Epoch 325/1000\n",
      "10000/10000 [==============================] - 3s 275us/sample - loss: 0.0627 - accuracy: 0.9803 - val_loss: 1.2455 - val_accuracy: 0.8250\n",
      "Epoch 326/1000\n",
      "10000/10000 [==============================] - 3s 254us/sample - loss: 0.0654 - accuracy: 0.9809 - val_loss: 1.2284 - val_accuracy: 0.8160\n",
      "Epoch 327/1000\n",
      "10000/10000 [==============================] - 2s 240us/sample - loss: 0.0619 - accuracy: 0.9806 - val_loss: 1.3476 - val_accuracy: 0.8160\n",
      "Epoch 328/1000\n",
      "10000/10000 [==============================] - 3s 254us/sample - loss: 0.0621 - accuracy: 0.9820 - val_loss: 1.2625 - val_accuracy: 0.8160\n",
      "Epoch 329/1000\n",
      "10000/10000 [==============================] - 3s 269us/sample - loss: 0.0524 - accuracy: 0.9834 - val_loss: 1.3719 - val_accuracy: 0.8150\n",
      "Epoch 330/1000\n",
      "10000/10000 [==============================] - 3s 275us/sample - loss: 0.0642 - accuracy: 0.9822 - val_loss: 1.3832 - val_accuracy: 0.8250\n",
      "Epoch 331/1000\n",
      "10000/10000 [==============================] - 3s 300us/sample - loss: 0.0655 - accuracy: 0.9811 - val_loss: 1.3287 - val_accuracy: 0.8090\n",
      "Epoch 332/1000\n",
      "10000/10000 [==============================] - 3s 321us/sample - loss: 0.0552 - accuracy: 0.9834 - val_loss: 1.3610 - val_accuracy: 0.8220\n",
      "Epoch 333/1000\n",
      "10000/10000 [==============================] - 3s 284us/sample - loss: 0.0659 - accuracy: 0.9810 - val_loss: 1.2785 - val_accuracy: 0.8180\n",
      "Epoch 334/1000\n",
      "10000/10000 [==============================] - 3s 274us/sample - loss: 0.0598 - accuracy: 0.9824 - val_loss: 1.3169 - val_accuracy: 0.8150\n",
      "Epoch 335/1000\n",
      "10000/10000 [==============================] - 3s 262us/sample - loss: 0.0623 - accuracy: 0.9805 - val_loss: 1.2637 - val_accuracy: 0.8130\n",
      "Epoch 336/1000\n",
      "10000/10000 [==============================] - 3s 276us/sample - loss: 0.0652 - accuracy: 0.9796 - val_loss: 1.2537 - val_accuracy: 0.8160\n",
      "Epoch 337/1000\n",
      "10000/10000 [==============================] - 3s 258us/sample - loss: 0.0571 - accuracy: 0.9814 - val_loss: 1.3432 - val_accuracy: 0.8150\n",
      "Epoch 338/1000\n",
      "10000/10000 [==============================] - 2s 246us/sample - loss: 0.0642 - accuracy: 0.9796 - val_loss: 1.4446 - val_accuracy: 0.8160\n",
      "Epoch 339/1000\n",
      "10000/10000 [==============================] - 2s 239us/sample - loss: 0.0650 - accuracy: 0.9797 - val_loss: 1.2415 - val_accuracy: 0.8210\n",
      "Epoch 340/1000\n",
      "10000/10000 [==============================] - 2s 244us/sample - loss: 0.0599 - accuracy: 0.9816 - val_loss: 1.2371 - val_accuracy: 0.8180\n",
      "Epoch 341/1000\n",
      "10000/10000 [==============================] - 2s 242us/sample - loss: 0.0588 - accuracy: 0.9834 - val_loss: 1.2384 - val_accuracy: 0.8220\n",
      "Epoch 342/1000\n",
      "10000/10000 [==============================] - 3s 295us/sample - loss: 0.0544 - accuracy: 0.9845 - val_loss: 1.3161 - val_accuracy: 0.8190\n",
      "Epoch 343/1000\n",
      "10000/10000 [==============================] - 3s 250us/sample - loss: 0.0604 - accuracy: 0.9840 - val_loss: 1.3130 - val_accuracy: 0.8150\n",
      "Epoch 344/1000\n",
      "10000/10000 [==============================] - 3s 254us/sample - loss: 0.0608 - accuracy: 0.9812 - val_loss: 1.3751 - val_accuracy: 0.8230\n",
      "Epoch 345/1000\n",
      "10000/10000 [==============================] - 3s 262us/sample - loss: 0.0613 - accuracy: 0.9814 - val_loss: 1.2885 - val_accuracy: 0.8150\n",
      "Epoch 346/1000\n",
      "10000/10000 [==============================] - 3s 279us/sample - loss: 0.0554 - accuracy: 0.9824 - val_loss: 1.2194 - val_accuracy: 0.8130\n",
      "Epoch 347/1000\n",
      "10000/10000 [==============================] - 3s 296us/sample - loss: 0.0619 - accuracy: 0.9805 - val_loss: 1.2038 - val_accuracy: 0.8200\n",
      "Epoch 348/1000\n",
      "10000/10000 [==============================] - 3s 312us/sample - loss: 0.0640 - accuracy: 0.9833 - val_loss: 1.2431 - val_accuracy: 0.8190\n",
      "Epoch 349/1000\n",
      "10000/10000 [==============================] - 3s 274us/sample - loss: 0.0532 - accuracy: 0.9830 - val_loss: 1.2822 - val_accuracy: 0.8180\n",
      "Epoch 350/1000\n",
      "10000/10000 [==============================] - 3s 332us/sample - loss: 0.0606 - accuracy: 0.9815 - val_loss: 1.2912 - val_accuracy: 0.8190\n",
      "Epoch 351/1000\n",
      "10000/10000 [==============================] - 3s 336us/sample - loss: 0.0489 - accuracy: 0.9850 - val_loss: 1.4460 - val_accuracy: 0.8210\n",
      "Epoch 352/1000\n",
      "10000/10000 [==============================] - 3s 344us/sample - loss: 0.0557 - accuracy: 0.9813 - val_loss: 1.4046 - val_accuracy: 0.8230\n",
      "Epoch 353/1000\n",
      "10000/10000 [==============================] - 3s 344us/sample - loss: 0.0662 - accuracy: 0.9834 - val_loss: 1.1942 - val_accuracy: 0.8170\n",
      "Epoch 354/1000\n",
      "10000/10000 [==============================] - 3s 327us/sample - loss: 0.0520 - accuracy: 0.9828 - val_loss: 1.2820 - val_accuracy: 0.8200\n",
      "Epoch 355/1000\n",
      " 7776/10000 [======================>.......] - ETA: 0s - loss: 0.0607 - accuracy: 0.9816"
     ]
    },
    {
     "ename": "KeyboardInterrupt",
     "evalue": "",
     "output_type": "error",
     "traceback": [
      "\u001b[0;31m---------------------------------------------------------------------------\u001b[0m",
      "\u001b[0;31mKeyboardInterrupt\u001b[0m                         Traceback (most recent call last)",
      "\u001b[0;32m<ipython-input-53-d8db7d056ce4>\u001b[0m in \u001b[0;36m<module>\u001b[0;34m\u001b[0m\n\u001b[0;32m----> 1\u001b[0;31m \u001b[0mhistory\u001b[0m \u001b[0;34m=\u001b[0m \u001b[0mmodel\u001b[0m\u001b[0;34m.\u001b[0m\u001b[0mfit\u001b[0m\u001b[0;34m(\u001b[0m\u001b[0;34m[\u001b[0m\u001b[0minputs_train\u001b[0m\u001b[0;34m,\u001b[0m\u001b[0mquestions_train\u001b[0m\u001b[0;34m]\u001b[0m\u001b[0;34m,\u001b[0m\u001b[0manswers_train\u001b[0m\u001b[0;34m,\u001b[0m \u001b[0mbatch_size\u001b[0m \u001b[0;34m=\u001b[0m \u001b[0;36m32\u001b[0m\u001b[0;34m,\u001b[0m \u001b[0mepochs\u001b[0m \u001b[0;34m=\u001b[0m \u001b[0;36m1000\u001b[0m\u001b[0;34m,\u001b[0m \u001b[0mvalidation_data\u001b[0m \u001b[0;34m=\u001b[0m \u001b[0;34m(\u001b[0m\u001b[0;34m[\u001b[0m\u001b[0minputs_test\u001b[0m\u001b[0;34m,\u001b[0m\u001b[0mquestions_test\u001b[0m\u001b[0;34m]\u001b[0m\u001b[0;34m,\u001b[0m\u001b[0manswers_test\u001b[0m\u001b[0;34m)\u001b[0m\u001b[0;34m)\u001b[0m\u001b[0;34m\u001b[0m\u001b[0;34m\u001b[0m\u001b[0m\n\u001b[0m",
      "\u001b[0;32m~/anaconda3/envs/tf2/lib/python3.7/site-packages/tensorflow_core/python/keras/engine/training.py\u001b[0m in \u001b[0;36mfit\u001b[0;34m(self, x, y, batch_size, epochs, verbose, callbacks, validation_split, validation_data, shuffle, class_weight, sample_weight, initial_epoch, steps_per_epoch, validation_steps, validation_freq, max_queue_size, workers, use_multiprocessing, **kwargs)\u001b[0m\n\u001b[1;32m    726\u001b[0m         \u001b[0mmax_queue_size\u001b[0m\u001b[0;34m=\u001b[0m\u001b[0mmax_queue_size\u001b[0m\u001b[0;34m,\u001b[0m\u001b[0;34m\u001b[0m\u001b[0;34m\u001b[0m\u001b[0m\n\u001b[1;32m    727\u001b[0m         \u001b[0mworkers\u001b[0m\u001b[0;34m=\u001b[0m\u001b[0mworkers\u001b[0m\u001b[0;34m,\u001b[0m\u001b[0;34m\u001b[0m\u001b[0;34m\u001b[0m\u001b[0m\n\u001b[0;32m--> 728\u001b[0;31m         use_multiprocessing=use_multiprocessing)\n\u001b[0m\u001b[1;32m    729\u001b[0m \u001b[0;34m\u001b[0m\u001b[0m\n\u001b[1;32m    730\u001b[0m   def evaluate(self,\n",
      "\u001b[0;32m~/anaconda3/envs/tf2/lib/python3.7/site-packages/tensorflow_core/python/keras/engine/training_v2.py\u001b[0m in \u001b[0;36mfit\u001b[0;34m(self, model, x, y, batch_size, epochs, verbose, callbacks, validation_split, validation_data, shuffle, class_weight, sample_weight, initial_epoch, steps_per_epoch, validation_steps, validation_freq, **kwargs)\u001b[0m\n\u001b[1;32m    322\u001b[0m                 \u001b[0mmode\u001b[0m\u001b[0;34m=\u001b[0m\u001b[0mModeKeys\u001b[0m\u001b[0;34m.\u001b[0m\u001b[0mTRAIN\u001b[0m\u001b[0;34m,\u001b[0m\u001b[0;34m\u001b[0m\u001b[0;34m\u001b[0m\u001b[0m\n\u001b[1;32m    323\u001b[0m                 \u001b[0mtraining_context\u001b[0m\u001b[0;34m=\u001b[0m\u001b[0mtraining_context\u001b[0m\u001b[0;34m,\u001b[0m\u001b[0;34m\u001b[0m\u001b[0;34m\u001b[0m\u001b[0m\n\u001b[0;32m--> 324\u001b[0;31m                 total_epochs=epochs)\n\u001b[0m\u001b[1;32m    325\u001b[0m             \u001b[0mcbks\u001b[0m\u001b[0;34m.\u001b[0m\u001b[0mmake_logs\u001b[0m\u001b[0;34m(\u001b[0m\u001b[0mmodel\u001b[0m\u001b[0;34m,\u001b[0m \u001b[0mepoch_logs\u001b[0m\u001b[0;34m,\u001b[0m \u001b[0mtraining_result\u001b[0m\u001b[0;34m,\u001b[0m \u001b[0mModeKeys\u001b[0m\u001b[0;34m.\u001b[0m\u001b[0mTRAIN\u001b[0m\u001b[0;34m)\u001b[0m\u001b[0;34m\u001b[0m\u001b[0;34m\u001b[0m\u001b[0m\n\u001b[1;32m    326\u001b[0m \u001b[0;34m\u001b[0m\u001b[0m\n",
      "\u001b[0;32m~/anaconda3/envs/tf2/lib/python3.7/site-packages/tensorflow_core/python/keras/engine/training_v2.py\u001b[0m in \u001b[0;36mrun_one_epoch\u001b[0;34m(model, iterator, execution_function, dataset_size, batch_size, strategy, steps_per_epoch, num_samples, mode, training_context, total_epochs)\u001b[0m\n\u001b[1;32m    121\u001b[0m         step=step, mode=mode, size=current_batch_size) as batch_logs:\n\u001b[1;32m    122\u001b[0m       \u001b[0;32mtry\u001b[0m\u001b[0;34m:\u001b[0m\u001b[0;34m\u001b[0m\u001b[0;34m\u001b[0m\u001b[0m\n\u001b[0;32m--> 123\u001b[0;31m         \u001b[0mbatch_outs\u001b[0m \u001b[0;34m=\u001b[0m \u001b[0mexecution_function\u001b[0m\u001b[0;34m(\u001b[0m\u001b[0miterator\u001b[0m\u001b[0;34m)\u001b[0m\u001b[0;34m\u001b[0m\u001b[0;34m\u001b[0m\u001b[0m\n\u001b[0m\u001b[1;32m    124\u001b[0m       \u001b[0;32mexcept\u001b[0m \u001b[0;34m(\u001b[0m\u001b[0mStopIteration\u001b[0m\u001b[0;34m,\u001b[0m \u001b[0merrors\u001b[0m\u001b[0;34m.\u001b[0m\u001b[0mOutOfRangeError\u001b[0m\u001b[0;34m)\u001b[0m\u001b[0;34m:\u001b[0m\u001b[0;34m\u001b[0m\u001b[0;34m\u001b[0m\u001b[0m\n\u001b[1;32m    125\u001b[0m         \u001b[0;31m# TODO(kaftan): File bug about tf function and errors.OutOfRangeError?\u001b[0m\u001b[0;34m\u001b[0m\u001b[0;34m\u001b[0m\u001b[0;34m\u001b[0m\u001b[0m\n",
      "\u001b[0;32m~/anaconda3/envs/tf2/lib/python3.7/site-packages/tensorflow_core/python/keras/engine/training_v2_utils.py\u001b[0m in \u001b[0;36mexecution_function\u001b[0;34m(input_fn)\u001b[0m\n\u001b[1;32m     84\u001b[0m     \u001b[0;31m# `numpy` translates Tensors to values in Eager mode.\u001b[0m\u001b[0;34m\u001b[0m\u001b[0;34m\u001b[0m\u001b[0;34m\u001b[0m\u001b[0m\n\u001b[1;32m     85\u001b[0m     return nest.map_structure(_non_none_constant_value,\n\u001b[0;32m---> 86\u001b[0;31m                               distributed_function(input_fn))\n\u001b[0m\u001b[1;32m     87\u001b[0m \u001b[0;34m\u001b[0m\u001b[0m\n\u001b[1;32m     88\u001b[0m   \u001b[0;32mreturn\u001b[0m \u001b[0mexecution_function\u001b[0m\u001b[0;34m\u001b[0m\u001b[0;34m\u001b[0m\u001b[0m\n",
      "\u001b[0;32m~/anaconda3/envs/tf2/lib/python3.7/site-packages/tensorflow_core/python/eager/def_function.py\u001b[0m in \u001b[0;36m__call__\u001b[0;34m(self, *args, **kwds)\u001b[0m\n\u001b[1;32m    455\u001b[0m \u001b[0;34m\u001b[0m\u001b[0m\n\u001b[1;32m    456\u001b[0m     \u001b[0mtracing_count\u001b[0m \u001b[0;34m=\u001b[0m \u001b[0mself\u001b[0m\u001b[0;34m.\u001b[0m\u001b[0m_get_tracing_count\u001b[0m\u001b[0;34m(\u001b[0m\u001b[0;34m)\u001b[0m\u001b[0;34m\u001b[0m\u001b[0;34m\u001b[0m\u001b[0m\n\u001b[0;32m--> 457\u001b[0;31m     \u001b[0mresult\u001b[0m \u001b[0;34m=\u001b[0m \u001b[0mself\u001b[0m\u001b[0;34m.\u001b[0m\u001b[0m_call\u001b[0m\u001b[0;34m(\u001b[0m\u001b[0;34m*\u001b[0m\u001b[0margs\u001b[0m\u001b[0;34m,\u001b[0m \u001b[0;34m**\u001b[0m\u001b[0mkwds\u001b[0m\u001b[0;34m)\u001b[0m\u001b[0;34m\u001b[0m\u001b[0;34m\u001b[0m\u001b[0m\n\u001b[0m\u001b[1;32m    458\u001b[0m     \u001b[0;32mif\u001b[0m \u001b[0mtracing_count\u001b[0m \u001b[0;34m==\u001b[0m \u001b[0mself\u001b[0m\u001b[0;34m.\u001b[0m\u001b[0m_get_tracing_count\u001b[0m\u001b[0;34m(\u001b[0m\u001b[0;34m)\u001b[0m\u001b[0;34m:\u001b[0m\u001b[0;34m\u001b[0m\u001b[0;34m\u001b[0m\u001b[0m\n\u001b[1;32m    459\u001b[0m       \u001b[0mself\u001b[0m\u001b[0;34m.\u001b[0m\u001b[0m_call_counter\u001b[0m\u001b[0;34m.\u001b[0m\u001b[0mcalled_without_tracing\u001b[0m\u001b[0;34m(\u001b[0m\u001b[0;34m)\u001b[0m\u001b[0;34m\u001b[0m\u001b[0;34m\u001b[0m\u001b[0m\n",
      "\u001b[0;32m~/anaconda3/envs/tf2/lib/python3.7/site-packages/tensorflow_core/python/eager/def_function.py\u001b[0m in \u001b[0;36m_call\u001b[0;34m(self, *args, **kwds)\u001b[0m\n\u001b[1;32m    485\u001b[0m       \u001b[0;31m# In this case we have created variables on the first call, so we run the\u001b[0m\u001b[0;34m\u001b[0m\u001b[0;34m\u001b[0m\u001b[0;34m\u001b[0m\u001b[0m\n\u001b[1;32m    486\u001b[0m       \u001b[0;31m# defunned version which is guaranteed to never create variables.\u001b[0m\u001b[0;34m\u001b[0m\u001b[0;34m\u001b[0m\u001b[0;34m\u001b[0m\u001b[0m\n\u001b[0;32m--> 487\u001b[0;31m       \u001b[0;32mreturn\u001b[0m \u001b[0mself\u001b[0m\u001b[0;34m.\u001b[0m\u001b[0m_stateless_fn\u001b[0m\u001b[0;34m(\u001b[0m\u001b[0;34m*\u001b[0m\u001b[0margs\u001b[0m\u001b[0;34m,\u001b[0m \u001b[0;34m**\u001b[0m\u001b[0mkwds\u001b[0m\u001b[0;34m)\u001b[0m  \u001b[0;31m# pylint: disable=not-callable\u001b[0m\u001b[0;34m\u001b[0m\u001b[0;34m\u001b[0m\u001b[0m\n\u001b[0m\u001b[1;32m    488\u001b[0m     \u001b[0;32melif\u001b[0m \u001b[0mself\u001b[0m\u001b[0;34m.\u001b[0m\u001b[0m_stateful_fn\u001b[0m \u001b[0;32mis\u001b[0m \u001b[0;32mnot\u001b[0m \u001b[0;32mNone\u001b[0m\u001b[0;34m:\u001b[0m\u001b[0;34m\u001b[0m\u001b[0;34m\u001b[0m\u001b[0m\n\u001b[1;32m    489\u001b[0m       \u001b[0;31m# Release the lock early so that multiple threads can perform the call\u001b[0m\u001b[0;34m\u001b[0m\u001b[0;34m\u001b[0m\u001b[0;34m\u001b[0m\u001b[0m\n",
      "\u001b[0;32m~/anaconda3/envs/tf2/lib/python3.7/site-packages/tensorflow_core/python/eager/function.py\u001b[0m in \u001b[0;36m__call__\u001b[0;34m(self, *args, **kwargs)\u001b[0m\n\u001b[1;32m   1821\u001b[0m     \u001b[0;34m\"\"\"Calls a graph function specialized to the inputs.\"\"\"\u001b[0m\u001b[0;34m\u001b[0m\u001b[0;34m\u001b[0m\u001b[0m\n\u001b[1;32m   1822\u001b[0m     \u001b[0mgraph_function\u001b[0m\u001b[0;34m,\u001b[0m \u001b[0margs\u001b[0m\u001b[0;34m,\u001b[0m \u001b[0mkwargs\u001b[0m \u001b[0;34m=\u001b[0m \u001b[0mself\u001b[0m\u001b[0;34m.\u001b[0m\u001b[0m_maybe_define_function\u001b[0m\u001b[0;34m(\u001b[0m\u001b[0margs\u001b[0m\u001b[0;34m,\u001b[0m \u001b[0mkwargs\u001b[0m\u001b[0;34m)\u001b[0m\u001b[0;34m\u001b[0m\u001b[0;34m\u001b[0m\u001b[0m\n\u001b[0;32m-> 1823\u001b[0;31m     \u001b[0;32mreturn\u001b[0m \u001b[0mgraph_function\u001b[0m\u001b[0;34m.\u001b[0m\u001b[0m_filtered_call\u001b[0m\u001b[0;34m(\u001b[0m\u001b[0margs\u001b[0m\u001b[0;34m,\u001b[0m \u001b[0mkwargs\u001b[0m\u001b[0;34m)\u001b[0m  \u001b[0;31m# pylint: disable=protected-access\u001b[0m\u001b[0;34m\u001b[0m\u001b[0;34m\u001b[0m\u001b[0m\n\u001b[0m\u001b[1;32m   1824\u001b[0m \u001b[0;34m\u001b[0m\u001b[0m\n\u001b[1;32m   1825\u001b[0m   \u001b[0;34m@\u001b[0m\u001b[0mproperty\u001b[0m\u001b[0;34m\u001b[0m\u001b[0;34m\u001b[0m\u001b[0m\n",
      "\u001b[0;32m~/anaconda3/envs/tf2/lib/python3.7/site-packages/tensorflow_core/python/eager/function.py\u001b[0m in \u001b[0;36m_filtered_call\u001b[0;34m(self, args, kwargs)\u001b[0m\n\u001b[1;32m   1139\u001b[0m          if isinstance(t, (ops.Tensor,\n\u001b[1;32m   1140\u001b[0m                            resource_variable_ops.BaseResourceVariable))),\n\u001b[0;32m-> 1141\u001b[0;31m         self.captured_inputs)\n\u001b[0m\u001b[1;32m   1142\u001b[0m \u001b[0;34m\u001b[0m\u001b[0m\n\u001b[1;32m   1143\u001b[0m   \u001b[0;32mdef\u001b[0m \u001b[0m_call_flat\u001b[0m\u001b[0;34m(\u001b[0m\u001b[0mself\u001b[0m\u001b[0;34m,\u001b[0m \u001b[0margs\u001b[0m\u001b[0;34m,\u001b[0m \u001b[0mcaptured_inputs\u001b[0m\u001b[0;34m,\u001b[0m \u001b[0mcancellation_manager\u001b[0m\u001b[0;34m=\u001b[0m\u001b[0;32mNone\u001b[0m\u001b[0;34m)\u001b[0m\u001b[0;34m:\u001b[0m\u001b[0;34m\u001b[0m\u001b[0;34m\u001b[0m\u001b[0m\n",
      "\u001b[0;32m~/anaconda3/envs/tf2/lib/python3.7/site-packages/tensorflow_core/python/eager/function.py\u001b[0m in \u001b[0;36m_call_flat\u001b[0;34m(self, args, captured_inputs, cancellation_manager)\u001b[0m\n\u001b[1;32m   1222\u001b[0m     \u001b[0;32mif\u001b[0m \u001b[0mexecuting_eagerly\u001b[0m\u001b[0;34m:\u001b[0m\u001b[0;34m\u001b[0m\u001b[0;34m\u001b[0m\u001b[0m\n\u001b[1;32m   1223\u001b[0m       flat_outputs = forward_function.call(\n\u001b[0;32m-> 1224\u001b[0;31m           ctx, args, cancellation_manager=cancellation_manager)\n\u001b[0m\u001b[1;32m   1225\u001b[0m     \u001b[0;32melse\u001b[0m\u001b[0;34m:\u001b[0m\u001b[0;34m\u001b[0m\u001b[0;34m\u001b[0m\u001b[0m\n\u001b[1;32m   1226\u001b[0m       \u001b[0mgradient_name\u001b[0m \u001b[0;34m=\u001b[0m \u001b[0mself\u001b[0m\u001b[0;34m.\u001b[0m\u001b[0m_delayed_rewrite_functions\u001b[0m\u001b[0;34m.\u001b[0m\u001b[0mregister\u001b[0m\u001b[0;34m(\u001b[0m\u001b[0;34m)\u001b[0m\u001b[0;34m\u001b[0m\u001b[0;34m\u001b[0m\u001b[0m\n",
      "\u001b[0;32m~/anaconda3/envs/tf2/lib/python3.7/site-packages/tensorflow_core/python/eager/function.py\u001b[0m in \u001b[0;36mcall\u001b[0;34m(self, ctx, args, cancellation_manager)\u001b[0m\n\u001b[1;32m    509\u001b[0m               \u001b[0minputs\u001b[0m\u001b[0;34m=\u001b[0m\u001b[0margs\u001b[0m\u001b[0;34m,\u001b[0m\u001b[0;34m\u001b[0m\u001b[0;34m\u001b[0m\u001b[0m\n\u001b[1;32m    510\u001b[0m               \u001b[0mattrs\u001b[0m\u001b[0;34m=\u001b[0m\u001b[0;34m(\u001b[0m\u001b[0;34m\"executor_type\"\u001b[0m\u001b[0;34m,\u001b[0m \u001b[0mexecutor_type\u001b[0m\u001b[0;34m,\u001b[0m \u001b[0;34m\"config_proto\"\u001b[0m\u001b[0;34m,\u001b[0m \u001b[0mconfig\u001b[0m\u001b[0;34m)\u001b[0m\u001b[0;34m,\u001b[0m\u001b[0;34m\u001b[0m\u001b[0;34m\u001b[0m\u001b[0m\n\u001b[0;32m--> 511\u001b[0;31m               ctx=ctx)\n\u001b[0m\u001b[1;32m    512\u001b[0m         \u001b[0;32melse\u001b[0m\u001b[0;34m:\u001b[0m\u001b[0;34m\u001b[0m\u001b[0;34m\u001b[0m\u001b[0m\n\u001b[1;32m    513\u001b[0m           outputs = execute.execute_with_cancellation(\n",
      "\u001b[0;32m~/anaconda3/envs/tf2/lib/python3.7/site-packages/tensorflow_core/python/eager/execute.py\u001b[0m in \u001b[0;36mquick_execute\u001b[0;34m(op_name, num_outputs, inputs, attrs, ctx, name)\u001b[0m\n\u001b[1;32m     59\u001b[0m     tensors = pywrap_tensorflow.TFE_Py_Execute(ctx._handle, device_name,\n\u001b[1;32m     60\u001b[0m                                                \u001b[0mop_name\u001b[0m\u001b[0;34m,\u001b[0m \u001b[0minputs\u001b[0m\u001b[0;34m,\u001b[0m \u001b[0mattrs\u001b[0m\u001b[0;34m,\u001b[0m\u001b[0;34m\u001b[0m\u001b[0;34m\u001b[0m\u001b[0m\n\u001b[0;32m---> 61\u001b[0;31m                                                num_outputs)\n\u001b[0m\u001b[1;32m     62\u001b[0m   \u001b[0;32mexcept\u001b[0m \u001b[0mcore\u001b[0m\u001b[0;34m.\u001b[0m\u001b[0m_NotOkStatusException\u001b[0m \u001b[0;32mas\u001b[0m \u001b[0me\u001b[0m\u001b[0;34m:\u001b[0m\u001b[0;34m\u001b[0m\u001b[0;34m\u001b[0m\u001b[0m\n\u001b[1;32m     63\u001b[0m     \u001b[0;32mif\u001b[0m \u001b[0mname\u001b[0m \u001b[0;32mis\u001b[0m \u001b[0;32mnot\u001b[0m \u001b[0;32mNone\u001b[0m\u001b[0;34m:\u001b[0m\u001b[0;34m\u001b[0m\u001b[0;34m\u001b[0m\u001b[0m\n",
      "\u001b[0;31mKeyboardInterrupt\u001b[0m: "
     ]
    }
   ],
   "source": [
    "history = model.fit([inputs_train,questions_train],answers_train, batch_size = 32, epochs = 1000, validation_data = ([inputs_test,questions_test],answers_test))"
   ]
  },
  {
   "cell_type": "code",
   "execution_count": 72,
   "metadata": {},
   "outputs": [],
   "source": [
    "filename = 'Z_chatbot_100_epochs.h5'\n",
    "model.save(filename)"
   ]
  },
  {
   "cell_type": "code",
   "execution_count": 74,
   "metadata": {},
   "outputs": [
    {
     "name": "stdout",
     "output_type": "stream",
     "text": [
      "dict_keys(['val_loss', 'val_acc', 'loss', 'acc'])\n"
     ]
    },
    {
     "data": {
      "image/png": "[encoded data removed]",
      "text/plain": [
       "<Figure size 864x864 with 1 Axes>"
      ]
     },
     "metadata": {},
     "output_type": "display_data"
    }
   ],
   "source": [
    "#Lets plot the increase of accuracy as we increase the number of training epochs\n",
    "#We can see that without any training the acc is about 50%, random guessing\n",
    "import matplotlib.pyplot as plt\n",
    "%matplotlib inline\n",
    "print(history.history.keys())\n",
    "# summarize history for accuracy\n",
    "plt.figure(figsize=(12,12))\n",
    "plt.plot(history.history['acc'])\n",
    "plt.plot(history.history['val_acc'])\n",
    "plt.title('model accuracy')\n",
    "plt.ylabel('accuracy')\n",
    "plt.xlabel('epoch')\n",
    "plt.legend(['train', 'test'], loc='upper left')\n",
    "plt.show()"
   ]
  },
  {
   "cell_type": "code",
   "execution_count": 75,
   "metadata": {},
   "outputs": [],
   "source": [
    "#To load a model that we have already trained and saved:\n",
    "model.load_weights('Z_chatbot_100_epochs.h5')"
   ]
  },
  {
   "cell_type": "code",
   "execution_count": 76,
   "metadata": {},
   "outputs": [],
   "source": [
    "#Lets check out the predictions on the test set:\n",
    "#These are just probabilities for every single word on the vocab\n",
    "pred_results = model.predict(([inputs_test,questions_test]))"
   ]
  },
  {
   "cell_type": "code",
   "execution_count": 79,
   "metadata": {},
   "outputs": [
    {
     "data": {
      "text/plain": [
       "(['Mary',\n",
       "  'got',\n",
       "  'the',\n",
       "  'milk',\n",
       "  'there',\n",
       "  '.',\n",
       "  'John',\n",
       "  'moved',\n",
       "  'to',\n",
       "  'the',\n",
       "  'bedroom',\n",
       "  '.'],\n",
       " ['Is', 'John', 'in', 'the', 'kitchen', '?'],\n",
       " 'no')"
      ]
     },
     "execution_count": 79,
     "metadata": {},
     "output_type": "execute_result"
    }
   ],
   "source": [
    "#First test data point\n",
    "test_data[0]"
   ]
  },
  {
   "cell_type": "code",
   "execution_count": 77,
   "metadata": {},
   "outputs": [
    {
     "data": {
      "text/plain": [
       "array([2.4758190e-21, 2.1397022e-21, 2.2722944e-21, 1.9776182e-21,\n",
       "       1.7983421e-21, 1.9400778e-21, 1.6792089e-21, 2.0177312e-21,\n",
       "       2.2013671e-21, 2.1278508e-21, 1.8952951e-21, 1.9446645e-21,\n",
       "       2.1805394e-21, 2.1526293e-21, 2.1304580e-21, 2.4526099e-21,\n",
       "       1.9765925e-21, 1.8287746e-21, 2.2381072e-21, 1.0000000e+00,\n",
       "       2.3029066e-21, 2.1592005e-21, 2.5348889e-21, 1.8851353e-21,\n",
       "       1.8703010e-21, 2.3107912e-21, 2.3018439e-21, 2.2044449e-19,\n",
       "       2.0388772e-21, 2.3365857e-21, 2.1607000e-21, 1.9910922e-21,\n",
       "       2.3918412e-21, 2.1491505e-21, 1.7650330e-21, 2.4313060e-21,\n",
       "       2.0611253e-21, 2.2488391e-21], dtype=float32)"
      ]
     },
     "execution_count": 77,
     "metadata": {},
     "output_type": "execute_result"
    }
   ],
   "source": [
    "#These are the probabilities for the vocab words using the 1st sentence\n",
    "pred_results[0]"
   ]
  },
  {
   "cell_type": "code",
   "execution_count": 78,
   "metadata": {},
   "outputs": [],
   "source": [
    "val_max = np.argmax(pred_results[0])"
   ]
  },
  {
   "cell_type": "code",
   "execution_count": 81,
   "metadata": {},
   "outputs": [
    {
     "name": "stdout",
     "output_type": "stream",
     "text": [
      "no\n"
     ]
    }
   ],
   "source": [
    "for key,val in tokenizer.word_index.items():\n",
    "    if val == val_max:\n",
    "        k = key\n",
    "print(k)"
   ]
  },
  {
   "cell_type": "code",
   "execution_count": 82,
   "metadata": {},
   "outputs": [
    {
     "data": {
      "text/plain": [
       "1.0"
      ]
     },
     "execution_count": 82,
     "metadata": {},
     "output_type": "execute_result"
    }
   ],
   "source": [
    "#See probability:\n",
    "pred_results[0][val_max]"
   ]
  },
  {
   "cell_type": "code",
   "execution_count": 83,
   "metadata": {},
   "outputs": [
    {
     "data": {
      "text/plain": [
       "{'.',\n",
       " '?',\n",
       " 'Daniel',\n",
       " 'Is',\n",
       " 'John',\n",
       " 'Mary',\n",
       " 'Sandra',\n",
       " 'apple',\n",
       " 'back',\n",
       " 'bathroom',\n",
       " 'bedroom',\n",
       " 'discarded',\n",
       " 'down',\n",
       " 'dropped',\n",
       " 'football',\n",
       " 'garden',\n",
       " 'got',\n",
       " 'grabbed',\n",
       " 'hallway',\n",
       " 'in',\n",
       " 'journeyed',\n",
       " 'kitchen',\n",
       " 'left',\n",
       " 'milk',\n",
       " 'moved',\n",
       " 'no',\n",
       " 'office',\n",
       " 'picked',\n",
       " 'put',\n",
       " 'the',\n",
       " 'there',\n",
       " 'to',\n",
       " 'took',\n",
       " 'travelled',\n",
       " 'up',\n",
       " 'went',\n",
       " 'yes'}"
      ]
     },
     "execution_count": 83,
     "metadata": {},
     "output_type": "execute_result"
    }
   ],
   "source": [
    "#Now, we can make our own questions using the vocabulary we have\n",
    "vocab"
   ]
  },
  {
   "cell_type": "code",
   "execution_count": 84,
   "metadata": {},
   "outputs": [],
   "source": [
    "my_story = 'Sandra picked up the milk . Mary travelled left . '"
   ]
  },
  {
   "cell_type": "code",
   "execution_count": 85,
   "metadata": {},
   "outputs": [
    {
     "data": {
      "text/plain": [
       "['Sandra', 'picked', 'up', 'the', 'milk', '.', 'Mary', 'travelled', 'left']"
      ]
     },
     "execution_count": 85,
     "metadata": {},
     "output_type": "execute_result"
    }
   ],
   "source": [
    "my_story.split()"
   ]
  },
  {
   "cell_type": "code",
   "execution_count": 86,
   "metadata": {},
   "outputs": [],
   "source": [
    "my_question = 'Sandra got the milk ?'"
   ]
  },
  {
   "cell_type": "code",
   "execution_count": 87,
   "metadata": {},
   "outputs": [
    {
     "data": {
      "text/plain": [
       "['Sandra', 'got', 'the', 'milk', '?']"
      ]
     },
     "execution_count": 87,
     "metadata": {},
     "output_type": "execute_result"
    }
   ],
   "source": [
    "my_question.split()"
   ]
  },
  {
   "cell_type": "code",
   "execution_count": 88,
   "metadata": {},
   "outputs": [],
   "source": [
    "#Put the data in the same format as before\n",
    "my_data = [(my_story.split(), my_question.split(),'yes')]"
   ]
  },
  {
   "cell_type": "code",
   "execution_count": 89,
   "metadata": {},
   "outputs": [],
   "source": [
    "#Vectorize this data\n",
    "my_story, my_ques, my_ans = vectorize_stories(my_data)"
   ]
  },
  {
   "cell_type": "code",
   "execution_count": 90,
   "metadata": {},
   "outputs": [],
   "source": [
    "#Make the prediction\n",
    "pred_results = model.predict(([my_story,my_ques]))"
   ]
  },
  {
   "cell_type": "code",
   "execution_count": 92,
   "metadata": {},
   "outputs": [],
   "source": [
    "val_max = np.argmax(pred_results[0])"
   ]
  },
  {
   "cell_type": "code",
   "execution_count": 93,
   "metadata": {},
   "outputs": [
    {
     "name": "stdout",
     "output_type": "stream",
     "text": [
      "yes\n"
     ]
    }
   ],
   "source": [
    "#Correct prediction!\n",
    "for key,val in tokenizer.word_index.items():\n",
    "    if val == val_max:\n",
    "        k = key\n",
    "print(k)"
   ]
  },
  {
   "cell_type": "code",
   "execution_count": 94,
   "metadata": {},
   "outputs": [
    {
     "data": {
      "text/plain": [
       "0.9867547"
      ]
     },
     "execution_count": 94,
     "metadata": {},
     "output_type": "execute_result"
    }
   ],
   "source": [
    "#Confidence\n",
    "pred_results[0][val_max]"
   ]
  },
  {
   "cell_type": "code",
   "execution_count": null,
   "metadata": {},
   "outputs": [],
   "source": []
  }
 ],
 "metadata": {
  "kernelspec": {
   "display_name": "Python 3",
   "language": "python",
   "name": "python3"
  },
  "language_info": {
   "codemirror_mode": {
    "name": "ipython",
    "version": 3
   },
   "file_extension": ".py",
   "mimetype": "text/x-python",
   "name": "python",
   "nbconvert_exporter": "python",
   "pygments_lexer": "ipython3",
   "version": "3.7.4"
  }
 },
 "nbformat": 4,
 "nbformat_minor": 4
}
