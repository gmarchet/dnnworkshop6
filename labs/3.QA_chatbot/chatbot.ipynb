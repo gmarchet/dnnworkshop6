{
 "cells": [
  {
   "cell_type": "markdown",
   "metadata": {},
   "source": [
    "# Creating a Chatbot with a Memory Network\n",
    "Adapted from https://towardsdatascience.com/deep-learning-for-nlp-creating-a-chatbot-with-keras-da5ca051e051"
   ]
  },
  {
   "cell_type": "code",
   "execution_count": 5,
   "metadata": {
    "scrolled": true
   },
   "outputs": [
    {
     "name": "stdout",
     "output_type": "stream",
     "text": [
      "2.0.0\n"
     ]
    }
   ],
   "source": [
    "#Library Imports\n",
    "import pickle\n",
    "import numpy as np\n",
    "np.random.seed(42)\n",
    "import tensorflow as tf\n",
    "print(tf.__version__)"
   ]
  },
  {
   "cell_type": "code",
   "execution_count": 6,
   "metadata": {
    "scrolled": true
   },
   "outputs": [],
   "source": [
    "#retrieve training data\n",
    "with open('train_qa.txt', 'rb') as f:\n",
    "    train_data = pickle.load(f)"
   ]
  },
  {
   "cell_type": "code",
   "execution_count": 7,
   "metadata": {
    "scrolled": true
   },
   "outputs": [],
   "source": [
    "#retrieve test data\n",
    "with open('test_qa.txt', 'rb') as f:\n",
    "    test_data = pickle.load(f)"
   ]
  },
  {
   "cell_type": "code",
   "execution_count": 8,
   "metadata": {
    "scrolled": true
   },
   "outputs": [
    {
     "data": {
      "text/plain": [
       "10000"
      ]
     },
     "execution_count": 8,
     "metadata": {},
     "output_type": "execute_result"
    }
   ],
   "source": [
    "#Number of training instances\n",
    "len(train_data)"
   ]
  },
  {
   "cell_type": "code",
   "execution_count": 9,
   "metadata": {
    "scrolled": true
   },
   "outputs": [
    {
     "data": {
      "text/plain": [
       "1000"
      ]
     },
     "execution_count": 9,
     "metadata": {},
     "output_type": "execute_result"
    }
   ],
   "source": [
    "#Number of test instances\n",
    "len(test_data)"
   ]
  },
  {
   "cell_type": "code",
   "execution_count": 10,
   "metadata": {
    "scrolled": true
   },
   "outputs": [
    {
     "data": {
      "text/plain": [
       "(['Sandra',\n",
       "  'went',\n",
       "  'back',\n",
       "  'to',\n",
       "  'the',\n",
       "  'hallway',\n",
       "  '.',\n",
       "  'Sandra',\n",
       "  'moved',\n",
       "  'to',\n",
       "  'the',\n",
       "  'office',\n",
       "  '.'],\n",
       " ['Is', 'Sandra', 'in', 'the', 'office', '?'],\n",
       " 'yes')"
      ]
     },
     "execution_count": 10,
     "metadata": {},
     "output_type": "execute_result"
    }
   ],
   "source": [
    "#Example of one of the instances\n",
    "train_data[10]"
   ]
  },
  {
   "cell_type": "code",
   "execution_count": 11,
   "metadata": {
    "scrolled": true
   },
   "outputs": [
    {
     "data": {
      "text/plain": [
       "'Sandra went back to the hallway . Sandra moved to the office .'"
      ]
     },
     "execution_count": 11,
     "metadata": {},
     "output_type": "execute_result"
    }
   ],
   "source": [
    "' '.join(train_data[10][0])"
   ]
  },
  {
   "cell_type": "code",
   "execution_count": 12,
   "metadata": {
    "scrolled": true
   },
   "outputs": [
    {
     "data": {
      "text/plain": [
       "'Is Sandra in the office ?'"
      ]
     },
     "execution_count": 12,
     "metadata": {},
     "output_type": "execute_result"
    }
   ],
   "source": [
    "' '.join(train_data[10][1])"
   ]
  },
  {
   "cell_type": "code",
   "execution_count": 13,
   "metadata": {
    "scrolled": true
   },
   "outputs": [
    {
     "data": {
      "text/plain": [
       "'yes'"
      ]
     },
     "execution_count": 13,
     "metadata": {},
     "output_type": "execute_result"
    }
   ],
   "source": [
    "train_data[10][2]"
   ]
  },
  {
   "cell_type": "code",
   "execution_count": 14,
   "metadata": {
    "scrolled": true
   },
   "outputs": [],
   "source": [
    "#First we need to create a vocabulary with our data\n",
    "#For this we will use the training data only to - On the video it uses both\n",
    "#train and test \n",
    "#Might have to use training and test later, as the dataset has very\n",
    "#few words"
   ]
  },
  {
   "cell_type": "code",
   "execution_count": 15,
   "metadata": {
    "scrolled": true
   },
   "outputs": [],
   "source": [
    "#First we will build a set of all the words in the dataset:\n",
    "vocab = set()\n",
    "for story, question, answer in train_data:\n",
    "    vocab = vocab.union(set(story)) #Set returns unique words in the sentence\n",
    "                                    #Union returns the unique common elements from a two sets\n",
    "    vocab = vocab.union(set(question))"
   ]
  },
  {
   "cell_type": "code",
   "execution_count": 16,
   "metadata": {
    "scrolled": true
   },
   "outputs": [],
   "source": [
    "vocab.add('no')\n",
    "vocab.add('yes')"
   ]
  },
  {
   "cell_type": "code",
   "execution_count": 17,
   "metadata": {
    "scrolled": false
   },
   "outputs": [
    {
     "data": {
      "text/plain": [
       "{'.',\n",
       " '?',\n",
       " 'Daniel',\n",
       " 'Is',\n",
       " 'John',\n",
       " 'Mary',\n",
       " 'Sandra',\n",
       " 'apple',\n",
       " 'back',\n",
       " 'bathroom',\n",
       " 'bedroom',\n",
       " 'discarded',\n",
       " 'down',\n",
       " 'dropped',\n",
       " 'football',\n",
       " 'garden',\n",
       " 'got',\n",
       " 'grabbed',\n",
       " 'hallway',\n",
       " 'in',\n",
       " 'journeyed',\n",
       " 'kitchen',\n",
       " 'left',\n",
       " 'milk',\n",
       " 'moved',\n",
       " 'no',\n",
       " 'office',\n",
       " 'picked',\n",
       " 'put',\n",
       " 'the',\n",
       " 'there',\n",
       " 'to',\n",
       " 'took',\n",
       " 'travelled',\n",
       " 'up',\n",
       " 'went',\n",
       " 'yes'}"
      ]
     },
     "execution_count": 17,
     "metadata": {},
     "output_type": "execute_result"
    }
   ],
   "source": [
    "vocab"
   ]
  },
  {
   "cell_type": "code",
   "execution_count": 18,
   "metadata": {
    "scrolled": true
   },
   "outputs": [],
   "source": [
    "#Calculate len and add 1 for Keras placeholder - Placeholders are used to feed in the data to the network. \n",
    "#They need a data type, and have optional shape arguements.\n",
    "#They will be empty at first, and then the data will get fed into the placeholder\n",
    "vocab_len = len(vocab) + 1"
   ]
  },
  {
   "cell_type": "code",
   "execution_count": 19,
   "metadata": {
    "scrolled": true
   },
   "outputs": [
    {
     "data": {
      "text/plain": [
       "38"
      ]
     },
     "execution_count": 19,
     "metadata": {},
     "output_type": "execute_result"
    }
   ],
   "source": [
    "vocab_len"
   ]
  },
  {
   "cell_type": "code",
   "execution_count": 20,
   "metadata": {
    "scrolled": true
   },
   "outputs": [],
   "source": [
    "#Now we are going to calculate the longest story and the longest question\n",
    "#We need this for the Keras pad sequences. \n",
    "#Keras training layers expect all of the input to have the same length, so \n",
    "#we need to pad \n",
    "all_data = test_data + train_data"
   ]
  },
  {
   "cell_type": "code",
   "execution_count": 21,
   "metadata": {
    "scrolled": true
   },
   "outputs": [],
   "source": [
    "all_story_lens = [len(data[0]) for data in all_data]"
   ]
  },
  {
   "cell_type": "code",
   "execution_count": 22,
   "metadata": {
    "scrolled": true
   },
   "outputs": [],
   "source": [
    "max_story_len = (max(all_story_lens))"
   ]
  },
  {
   "cell_type": "code",
   "execution_count": 23,
   "metadata": {
    "scrolled": true
   },
   "outputs": [],
   "source": [
    "max_question_len = max([len(data[1]) for data in all_data])"
   ]
  },
  {
   "cell_type": "markdown",
   "metadata": {},
   "source": [
    "## Vectorizing the data"
   ]
  },
  {
   "cell_type": "markdown",
   "metadata": {},
   "source": [
    "First, we will go through a manual process of how to vectorize the data, and then we will create a function that does this automatically for us. "
   ]
  },
  {
   "cell_type": "code",
   "execution_count": 24,
   "metadata": {
    "scrolled": true
   },
   "outputs": [],
   "source": [
    "from tensorflow.keras.preprocessing.sequence import pad_sequences\n",
    "from tensorflow.keras.preprocessing.text import Tokenizer"
   ]
  },
  {
   "cell_type": "code",
   "execution_count": 25,
   "metadata": {
    "scrolled": true
   },
   "outputs": [],
   "source": [
    "#Create an instance of the tokenizer object:\n",
    "tokenizer = Tokenizer(filters = [])\n",
    "tokenizer.fit_on_texts(vocab)"
   ]
  },
  {
   "cell_type": "code",
   "execution_count": 26,
   "metadata": {
    "scrolled": true
   },
   "outputs": [
    {
     "data": {
      "text/plain": [
       "{'journeyed': 1,\n",
       " 'there': 2,\n",
       " 'apple': 3,\n",
       " 'back': 4,\n",
       " '?': 5,\n",
       " 'is': 6,\n",
       " 'bedroom': 7,\n",
       " 'travelled': 8,\n",
       " 'up': 9,\n",
       " 'in': 10,\n",
       " 'got': 11,\n",
       " 'garden': 12,\n",
       " 'john': 13,\n",
       " 'grabbed': 14,\n",
       " 'no': 15,\n",
       " 'down': 16,\n",
       " 'left': 17,\n",
       " 'daniel': 18,\n",
       " 'office': 19,\n",
       " 'hallway': 20,\n",
       " 'kitchen': 21,\n",
       " 'bathroom': 22,\n",
       " 'football': 23,\n",
       " 'dropped': 24,\n",
       " 'put': 25,\n",
       " 'discarded': 26,\n",
       " '.': 27,\n",
       " 'took': 28,\n",
       " 'picked': 29,\n",
       " 'yes': 30,\n",
       " 'moved': 31,\n",
       " 'to': 32,\n",
       " 'milk': 33,\n",
       " 'the': 34,\n",
       " 'mary': 35,\n",
       " 'went': 36,\n",
       " 'sandra': 37}"
      ]
     },
     "execution_count": 26,
     "metadata": {},
     "output_type": "execute_result"
    }
   ],
   "source": [
    "#Dictionary that maps every word in our vocab to an index\n",
    "# It has been automatically lowercased\n",
    "#This tokenizer can give different indexes for different words depending on when we run it\n",
    "tokenizer.word_index"
   ]
  },
  {
   "cell_type": "code",
   "execution_count": 27,
   "metadata": {
    "scrolled": true
   },
   "outputs": [],
   "source": [
    "#Tokenize the stories, questions and answers:\n",
    "train_story_text = []\n",
    "train_question_text = []\n",
    "train_answers = []"
   ]
  },
  {
   "cell_type": "code",
   "execution_count": 28,
   "metadata": {
    "scrolled": true
   },
   "outputs": [],
   "source": [
    "#Separating each of the elements\n",
    "for story,question,answer in train_data:\n",
    "    train_story_text.append(story)\n",
    "    train_question_text.append(question) \n",
    "    train_answers.append(answer)\n",
    "    "
   ]
  },
  {
   "cell_type": "code",
   "execution_count": 29,
   "metadata": {
    "scrolled": true
   },
   "outputs": [],
   "source": [
    "#Coverting the text into the indexes \n",
    "train_story_seq = tokenizer.texts_to_sequences(train_story_text)"
   ]
  },
  {
   "cell_type": "code",
   "execution_count": 30,
   "metadata": {
    "scrolled": true
   },
   "outputs": [],
   "source": [
    "#Create a function for vectorizing the stories, questions and answers:\n",
    "def vectorize_stories(data,word_index = tokenizer.word_index, max_story_len = max_story_len, max_question_len = max_question_len):\n",
    "    #vectorized stories:\n",
    "    X = []\n",
    "    #vectorized questions:\n",
    "    Xq = []\n",
    "    #vectorized answers:\n",
    "    Y = []\n",
    "    \n",
    "    for story, question, answer in data:\n",
    "        #Getting indexes for each word in the story\n",
    "        x = [word_index[word.lower()] for word in story]\n",
    "        #Getting indexes for each word in the story\n",
    "        xq = [word_index[word.lower()] for word in question]\n",
    "        #For the answers\n",
    "        y = np.zeros(len(word_index) + 1) #Index 0 Reserved when padding the sequences\n",
    "        y[word_index[answer]] = 1\n",
    "        \n",
    "        X.append(x)\n",
    "        Xq.append(xq)\n",
    "        Y.append(y)\n",
    "        \n",
    "    #Now we have to pad these sequences:\n",
    "    return(pad_sequences(X,maxlen=max_story_len), pad_sequences(Xq, maxlen=max_question_len), np.array(Y))\n",
    "        "
   ]
  },
  {
   "cell_type": "code",
   "execution_count": 31,
   "metadata": {
    "scrolled": true
   },
   "outputs": [],
   "source": [
    "inputs_train, questions_train, answers_train = vectorize_stories(train_data)"
   ]
  },
  {
   "cell_type": "code",
   "execution_count": 32,
   "metadata": {
    "scrolled": true
   },
   "outputs": [],
   "source": [
    "inputs_test, questions_test, answers_test = vectorize_stories(test_data)"
   ]
  },
  {
   "cell_type": "code",
   "execution_count": 33,
   "metadata": {
    "scrolled": true
   },
   "outputs": [
    {
     "data": {
      "text/plain": [
       "array([ 0,  0,  0,  0,  0,  0,  0,  0,  0,  0,  0,  0,  0,  0,  0,  0,  0,\n",
       "        0,  0,  0,  0,  0,  0,  0,  0,  0,  0,  0,  0,  0,  0,  0,  0,  0,\n",
       "        0,  0,  0,  0,  0,  0,  0,  0,  0,  0,  0,  0,  0,  0,  0,  0,  0,\n",
       "        0,  0,  0,  0,  0,  0,  0,  0,  0,  0,  0,  0,  0,  0,  0,  0,  0,\n",
       "        0,  0,  0,  0,  0,  0,  0,  0,  0,  0,  0,  0,  0,  0,  0,  0,  0,\n",
       "        0,  0,  0,  0,  0,  0,  0,  0,  0,  0,  0,  0,  0,  0,  0,  0,  0,\n",
       "        0,  0,  0,  0,  0,  0,  0,  0,  0,  0,  0,  0,  0,  0,  0,  0,  0,\n",
       "        0,  0,  0,  0,  0,  0,  0,  0,  0,  0,  0,  0,  0,  0,  0,  0,  0,\n",
       "        0,  0,  0,  0,  0,  0,  0,  0, 35, 31, 32, 34, 22, 27, 37,  1, 32,\n",
       "       34,  7, 27], dtype=int32)"
      ]
     },
     "execution_count": 33,
     "metadata": {},
     "output_type": "execute_result"
    }
   ],
   "source": [
    "inputs_train[0]"
   ]
  },
  {
   "cell_type": "code",
   "execution_count": 34,
   "metadata": {
    "scrolled": true
   },
   "outputs": [
    {
     "data": {
      "text/plain": [
       "['Mary',\n",
       " 'moved',\n",
       " 'to',\n",
       " 'the',\n",
       " 'bathroom',\n",
       " '.',\n",
       " 'Sandra',\n",
       " 'journeyed',\n",
       " 'to',\n",
       " 'the',\n",
       " 'bedroom',\n",
       " '.']"
      ]
     },
     "execution_count": 34,
     "metadata": {},
     "output_type": "execute_result"
    }
   ],
   "source": [
    "train_story_text[0]"
   ]
  },
  {
   "cell_type": "code",
   "execution_count": 35,
   "metadata": {
    "scrolled": true
   },
   "outputs": [
    {
     "data": {
      "text/plain": [
       "[35, 31, 32, 34, 22, 27, 37, 1, 32, 34, 7, 27]"
      ]
     },
     "execution_count": 35,
     "metadata": {},
     "output_type": "execute_result"
    }
   ],
   "source": [
    "train_story_seq[0]"
   ]
  },
  {
   "cell_type": "markdown",
   "metadata": {},
   "source": [
    "## Building the Network"
   ]
  },
  {
   "cell_type": "code",
   "execution_count": 36,
   "metadata": {
    "scrolled": true
   },
   "outputs": [],
   "source": [
    "#Imports\n",
    "from tensorflow.keras.models import Sequential, Model\n",
    "from tensorflow.keras.layers import Embedding\n",
    "from tensorflow.keras.layers import Input, Activation, Dense, Permute, Dropout, add, dot, concatenate, LSTM"
   ]
  },
  {
   "cell_type": "code",
   "execution_count": 37,
   "metadata": {
    "scrolled": true
   },
   "outputs": [],
   "source": [
    "# We need to create the placeholders \n",
    "#The Input function is used to create a keras tensor\n",
    "#PLACEHOLDER shape = (max_story_len,batch_size)\n",
    "#These are our placeholder for the inputs, ready to recieve batches of the stories and the questions\n",
    "input_sequence = Input((max_story_len,)) #As we dont know batch size yet\n",
    "question = Input((max_question_len,))"
   ]
  },
  {
   "cell_type": "code",
   "execution_count": 38,
   "metadata": {
    "scrolled": true
   },
   "outputs": [],
   "source": [
    "#Create input encoder M:\n",
    "input_encoder_m = Sequential()\n",
    "input_encoder_m.add(Embedding(input_dim=vocab_len,output_dim = 64)) #From paper\n",
    "input_encoder_m.add(Dropout(0.3))\n",
    "\n",
    "#Outputs: (Samples, story_maxlen,embedding_dim) -- Gives a list of the lenght of the samples where each item has the\n",
    "#lenght of the max story lenght and every word is embedded in the embbeding dimension"
   ]
  },
  {
   "cell_type": "code",
   "execution_count": 39,
   "metadata": {
    "scrolled": true
   },
   "outputs": [],
   "source": [
    "#Create input encoder C:\n",
    "input_encoder_c = Sequential()\n",
    "input_encoder_c.add(Embedding(input_dim=vocab_len,output_dim = max_question_len)) #From paper\n",
    "input_encoder_c.add(Dropout(0.3))\n",
    "\n",
    "#Outputs: (samples, story_maxlen, max_question_len)"
   ]
  },
  {
   "cell_type": "code",
   "execution_count": 40,
   "metadata": {
    "scrolled": true
   },
   "outputs": [],
   "source": [
    "#Create question encoder:\n",
    "question_encoder = Sequential()\n",
    "question_encoder.add(Embedding(input_dim=vocab_len,output_dim = 64,input_length=max_question_len)) #From paper\n",
    "question_encoder.add(Dropout(0.3))\n",
    "\n",
    "#Outputs: (samples, question_maxlen, embedding_dim)"
   ]
  },
  {
   "cell_type": "code",
   "execution_count": 41,
   "metadata": {
    "scrolled": true
   },
   "outputs": [],
   "source": [
    "#Now lets encode the sequences, passing the placeholders into our encoders:\n",
    "input_encoded_m = input_encoder_m(input_sequence)\n",
    "input_encoded_c = input_encoder_c(input_sequence)\n",
    "question_encoded = question_encoder(question)"
   ]
  },
  {
   "cell_type": "code",
   "execution_count": 42,
   "metadata": {
    "scrolled": true
   },
   "outputs": [],
   "source": [
    "#Use dot product to compute similarity between input encoded m and question \n",
    "#Like in the paper:\n",
    "match = dot([input_encoded_m,question_encoded], axes = (2,2))\n",
    "match = Activation('softmax')(match)"
   ]
  },
  {
   "cell_type": "code",
   "execution_count": 43,
   "metadata": {
    "scrolled": true
   },
   "outputs": [],
   "source": [
    "#For the response we want to add this match with the ouput of input_encoded_c\n",
    "response = add([match,input_encoded_c])\n",
    "response = Permute((2,1))(response) #Permute Layer: permutes dimensions of input"
   ]
  },
  {
   "cell_type": "code",
   "execution_count": 44,
   "metadata": {
    "scrolled": true
   },
   "outputs": [],
   "source": [
    "#Once we have the response we can concatenate it with the question encoded:\n",
    "answer = concatenate([response, question_encoded])"
   ]
  },
  {
   "cell_type": "code",
   "execution_count": 45,
   "metadata": {
    "scrolled": true
   },
   "outputs": [
    {
     "data": {
      "text/plain": [
       "<tf.Tensor 'concatenate/Identity:0' shape=(None, 6, 220) dtype=float32>"
      ]
     },
     "execution_count": 45,
     "metadata": {},
     "output_type": "execute_result"
    }
   ],
   "source": [
    "answer"
   ]
  },
  {
   "cell_type": "code",
   "execution_count": 46,
   "metadata": {
    "scrolled": true
   },
   "outputs": [],
   "source": [
    "# Reduce the answer tensor with a RNN (LSTM)\n",
    "answer = LSTM(32)(answer)"
   ]
  },
  {
   "cell_type": "code",
   "execution_count": 47,
   "metadata": {
    "scrolled": true
   },
   "outputs": [],
   "source": [
    "#Regularization with dropout:\n",
    "answer = Dropout(0.5)(answer)\n",
    "#Output layer:\n",
    "answer = Dense(vocab_len)(answer) #Output shape: (Samples, Vocab_size) #Yes or no and all 0s"
   ]
  },
  {
   "cell_type": "code",
   "execution_count": 48,
   "metadata": {
    "scrolled": true
   },
   "outputs": [],
   "source": [
    "#Now we need to output a probability distribution for the vocab, using softmax:\n",
    "answer = Activation('softmax')(answer)"
   ]
  },
  {
   "cell_type": "code",
   "execution_count": 49,
   "metadata": {
    "scrolled": true
   },
   "outputs": [],
   "source": [
    "#Now we build the final model:\n",
    "model = Model([input_sequence,question], answer)"
   ]
  },
  {
   "cell_type": "code",
   "execution_count": 50,
   "metadata": {
    "scrolled": true
   },
   "outputs": [],
   "source": [
    "model.compile(optimizer='rmsprop', loss = 'categorical_crossentropy', metrics = ['accuracy'])\n",
    "#Categorical instead of binary cross entropy as because of the way we are training\n",
    "#we could actually see any of the words from the vocab as output\n",
    "#however, we should only see yes or no"
   ]
  },
  {
   "cell_type": "code",
   "execution_count": 51,
   "metadata": {
    "scrolled": true
   },
   "outputs": [
    {
     "name": "stdout",
     "output_type": "stream",
     "text": [
      "Model: \"model\"\n",
      "__________________________________________________________________________________________________\n",
      "Layer (type)                    Output Shape         Param #     Connected to                     \n",
      "==================================================================================================\n",
      "input_1 (InputLayer)            [(None, 156)]        0                                            \n",
      "__________________________________________________________________________________________________\n",
      "input_2 (InputLayer)            [(None, 6)]          0                                            \n",
      "__________________________________________________________________________________________________\n",
      "sequential (Sequential)         multiple             2432        input_1[0][0]                    \n",
      "__________________________________________________________________________________________________\n",
      "sequential_2 (Sequential)       (None, 6, 64)        2432        input_2[0][0]                    \n",
      "__________________________________________________________________________________________________\n",
      "dot (Dot)                       (None, 156, 6)       0           sequential[1][0]                 \n",
      "                                                                 sequential_2[1][0]               \n",
      "__________________________________________________________________________________________________\n",
      "activation (Activation)         (None, 156, 6)       0           dot[0][0]                        \n",
      "__________________________________________________________________________________________________\n",
      "sequential_1 (Sequential)       multiple             228         input_1[0][0]                    \n",
      "__________________________________________________________________________________________________\n",
      "add (Add)                       (None, 156, 6)       0           activation[0][0]                 \n",
      "                                                                 sequential_1[1][0]               \n",
      "__________________________________________________________________________________________________\n",
      "permute (Permute)               (None, 6, 156)       0           add[0][0]                        \n",
      "__________________________________________________________________________________________________\n",
      "concatenate (Concatenate)       (None, 6, 220)       0           permute[0][0]                    \n",
      "                                                                 sequential_2[1][0]               \n",
      "__________________________________________________________________________________________________\n",
      "lstm (LSTM)                     (None, 32)           32384       concatenate[0][0]                \n",
      "__________________________________________________________________________________________________\n",
      "dropout_3 (Dropout)             (None, 32)           0           lstm[0][0]                       \n",
      "__________________________________________________________________________________________________\n",
      "dense (Dense)                   (None, 38)           1254        dropout_3[0][0]                  \n",
      "__________________________________________________________________________________________________\n",
      "activation_1 (Activation)       (None, 38)           0           dense[0][0]                      \n",
      "==================================================================================================\n",
      "Total params: 38,730\n",
      "Trainable params: 38,730\n",
      "Non-trainable params: 0\n",
      "__________________________________________________________________________________________________\n"
     ]
    }
   ],
   "source": [
    "model.summary()"
   ]
  },
  {
   "cell_type": "markdown",
   "metadata": {},
   "source": [
    "## Training and testing the model"
   ]
  },
  {
   "cell_type": "code",
   "execution_count": 52,
   "metadata": {
    "scrolled": true
   },
   "outputs": [
    {
     "name": "stdout",
     "output_type": "stream",
     "text": [
      "Train on 10000 samples, validate on 1000 samples\n",
      "Epoch 1/100\n",
      "10000/10000 [==============================] - 6s 621us/sample - loss: 0.8897 - accuracy: 0.4972 - val_loss: 0.6988 - val_accuracy: 0.4970\n",
      "Epoch 2/100\n",
      "10000/10000 [==============================] - 2s 228us/sample - loss: 0.7007 - accuracy: 0.5047 - val_loss: 0.6937 - val_accuracy: 0.4970\n",
      "Epoch 3/100\n",
      "10000/10000 [==============================] - 2s 225us/sample - loss: 0.6963 - accuracy: 0.4910 - val_loss: 0.6932 - val_accuracy: 0.5030\n",
      "Epoch 4/100\n",
      "10000/10000 [==============================] - 2s 230us/sample - loss: 0.6951 - accuracy: 0.4942 - val_loss: 0.6936 - val_accuracy: 0.4970\n",
      "Epoch 5/100\n",
      "10000/10000 [==============================] - 2s 227us/sample - loss: 0.6943 - accuracy: 0.5067 - val_loss: 0.6938 - val_accuracy: 0.5030\n",
      "Epoch 6/100\n",
      "10000/10000 [==============================] - 2s 226us/sample - loss: 0.6949 - accuracy: 0.4954 - val_loss: 0.6932 - val_accuracy: 0.4970\n",
      "Epoch 7/100\n",
      "10000/10000 [==============================] - 2s 226us/sample - loss: 0.6948 - accuracy: 0.4972 - val_loss: 0.6932 - val_accuracy: 0.5030\n",
      "Epoch 8/100\n",
      "10000/10000 [==============================] - 2s 225us/sample - loss: 0.6943 - accuracy: 0.5041 - val_loss: 0.6939 - val_accuracy: 0.5030\n",
      "Epoch 9/100\n",
      "10000/10000 [==============================] - 2s 226us/sample - loss: 0.6940 - accuracy: 0.5014 - val_loss: 0.6936 - val_accuracy: 0.4870\n",
      "Epoch 10/100\n",
      "10000/10000 [==============================] - 2s 223us/sample - loss: 0.6938 - accuracy: 0.5044 - val_loss: 0.6956 - val_accuracy: 0.4970\n",
      "Epoch 11/100\n",
      "10000/10000 [==============================] - 2s 229us/sample - loss: 0.6931 - accuracy: 0.5146 - val_loss: 0.6928 - val_accuracy: 0.5000\n",
      "Epoch 12/100\n",
      "10000/10000 [==============================] - 2s 224us/sample - loss: 0.6809 - accuracy: 0.5371 - val_loss: 0.6854 - val_accuracy: 0.5130\n",
      "Epoch 13/100\n",
      "10000/10000 [==============================] - 2s 224us/sample - loss: 0.6601 - accuracy: 0.5853 - val_loss: 0.6457 - val_accuracy: 0.6500\n",
      "Epoch 14/100\n",
      "10000/10000 [==============================] - 2s 225us/sample - loss: 0.6388 - accuracy: 0.6411 - val_loss: 0.6314 - val_accuracy: 0.6320\n",
      "Epoch 15/100\n",
      "10000/10000 [==============================] - 2s 229us/sample - loss: 0.6247 - accuracy: 0.6645 - val_loss: 0.6109 - val_accuracy: 0.6790\n",
      "Epoch 16/100\n",
      "10000/10000 [==============================] - 2s 224us/sample - loss: 0.6123 - accuracy: 0.6836 - val_loss: 0.6062 - val_accuracy: 0.6840\n",
      "Epoch 17/100\n",
      "10000/10000 [==============================] - 2s 222us/sample - loss: 0.6073 - accuracy: 0.6823 - val_loss: 0.5989 - val_accuracy: 0.7000\n",
      "Epoch 18/100\n",
      "10000/10000 [==============================] - 2s 225us/sample - loss: 0.6021 - accuracy: 0.6901 - val_loss: 0.5933 - val_accuracy: 0.6960\n",
      "Epoch 19/100\n",
      "10000/10000 [==============================] - 2s 222us/sample - loss: 0.6004 - accuracy: 0.6931 - val_loss: 0.5966 - val_accuracy: 0.6890\n",
      "Epoch 20/100\n",
      "10000/10000 [==============================] - 2s 225us/sample - loss: 0.5882 - accuracy: 0.7012 - val_loss: 0.5838 - val_accuracy: 0.7040\n",
      "Epoch 21/100\n",
      "10000/10000 [==============================] - 2s 224us/sample - loss: 0.5852 - accuracy: 0.7064 - val_loss: 0.5792 - val_accuracy: 0.7060\n",
      "Epoch 22/100\n",
      "10000/10000 [==============================] - 2s 224us/sample - loss: 0.5752 - accuracy: 0.7061 - val_loss: 0.5759 - val_accuracy: 0.7070\n",
      "Epoch 23/100\n",
      "10000/10000 [==============================] - 2s 224us/sample - loss: 0.5665 - accuracy: 0.7163 - val_loss: 0.5597 - val_accuracy: 0.7170\n",
      "Epoch 24/100\n",
      "10000/10000 [==============================] - 2s 225us/sample - loss: 0.5513 - accuracy: 0.7289 - val_loss: 0.5442 - val_accuracy: 0.7230\n",
      "Epoch 25/100\n",
      "10000/10000 [==============================] - 2s 227us/sample - loss: 0.5405 - accuracy: 0.7389 - val_loss: 0.5247 - val_accuracy: 0.7360\n",
      "Epoch 26/100\n",
      "10000/10000 [==============================] - 2s 224us/sample - loss: 0.5220 - accuracy: 0.7513 - val_loss: 0.5153 - val_accuracy: 0.7450\n",
      "Epoch 27/100\n",
      "10000/10000 [==============================] - 2s 226us/sample - loss: 0.5059 - accuracy: 0.7558 - val_loss: 0.4913 - val_accuracy: 0.7590\n",
      "Epoch 28/100\n",
      "10000/10000 [==============================] - 2s 222us/sample - loss: 0.4858 - accuracy: 0.7714 - val_loss: 0.4799 - val_accuracy: 0.7720\n",
      "Epoch 29/100\n",
      "10000/10000 [==============================] - 2s 226us/sample - loss: 0.4747 - accuracy: 0.7790 - val_loss: 0.4712 - val_accuracy: 0.7700\n",
      "Epoch 30/100\n",
      "10000/10000 [==============================] - 2s 225us/sample - loss: 0.4617 - accuracy: 0.7866 - val_loss: 0.4676 - val_accuracy: 0.7800\n",
      "Epoch 31/100\n",
      "10000/10000 [==============================] - 2s 228us/sample - loss: 0.4549 - accuracy: 0.7939 - val_loss: 0.4593 - val_accuracy: 0.7990\n",
      "Epoch 32/100\n",
      "10000/10000 [==============================] - 2s 231us/sample - loss: 0.4391 - accuracy: 0.8027 - val_loss: 0.4812 - val_accuracy: 0.7840\n",
      "Epoch 33/100\n",
      "10000/10000 [==============================] - 2s 225us/sample - loss: 0.4367 - accuracy: 0.8015 - val_loss: 0.4479 - val_accuracy: 0.7950\n",
      "Epoch 34/100\n",
      "10000/10000 [==============================] - 2s 227us/sample - loss: 0.4265 - accuracy: 0.8090 - val_loss: 0.4441 - val_accuracy: 0.7950\n",
      "Epoch 35/100\n",
      "10000/10000 [==============================] - 2s 227us/sample - loss: 0.4171 - accuracy: 0.8131 - val_loss: 0.4417 - val_accuracy: 0.7890\n",
      "Epoch 36/100\n",
      "10000/10000 [==============================] - 2s 230us/sample - loss: 0.4098 - accuracy: 0.8236 - val_loss: 0.4489 - val_accuracy: 0.7920\n",
      "Epoch 37/100\n",
      "10000/10000 [==============================] - 2s 227us/sample - loss: 0.4054 - accuracy: 0.8209 - val_loss: 0.4278 - val_accuracy: 0.8070\n",
      "Epoch 38/100\n",
      "10000/10000 [==============================] - 2s 226us/sample - loss: 0.3959 - accuracy: 0.8236 - val_loss: 0.4386 - val_accuracy: 0.7950\n",
      "Epoch 39/100\n",
      "10000/10000 [==============================] - 2s 222us/sample - loss: 0.3973 - accuracy: 0.8241 - val_loss: 0.4187 - val_accuracy: 0.8080\n",
      "Epoch 40/100\n",
      "10000/10000 [==============================] - 2s 225us/sample - loss: 0.3869 - accuracy: 0.8339 - val_loss: 0.4450 - val_accuracy: 0.8050\n",
      "Epoch 41/100\n",
      "10000/10000 [==============================] - 2s 226us/sample - loss: 0.3796 - accuracy: 0.8335 - val_loss: 0.4141 - val_accuracy: 0.8110\n",
      "Epoch 42/100\n",
      "10000/10000 [==============================] - 2s 224us/sample - loss: 0.3781 - accuracy: 0.8380 - val_loss: 0.4181 - val_accuracy: 0.8060\n",
      "Epoch 43/100\n",
      "10000/10000 [==============================] - 2s 225us/sample - loss: 0.3679 - accuracy: 0.8400 - val_loss: 0.4153 - val_accuracy: 0.8130\n",
      "Epoch 44/100\n",
      "10000/10000 [==============================] - 2s 223us/sample - loss: 0.3713 - accuracy: 0.8339 - val_loss: 0.4035 - val_accuracy: 0.8170\n",
      "Epoch 45/100\n",
      "10000/10000 [==============================] - 2s 233us/sample - loss: 0.3641 - accuracy: 0.8395 - val_loss: 0.4069 - val_accuracy: 0.8180\n",
      "Epoch 46/100\n",
      "10000/10000 [==============================] - 2s 223us/sample - loss: 0.3608 - accuracy: 0.8443 - val_loss: 0.4391 - val_accuracy: 0.8110\n",
      "Epoch 47/100\n",
      "10000/10000 [==============================] - 2s 226us/sample - loss: 0.3550 - accuracy: 0.8464 - val_loss: 0.3986 - val_accuracy: 0.8180\n",
      "Epoch 48/100\n",
      "10000/10000 [==============================] - 2s 221us/sample - loss: 0.3508 - accuracy: 0.8498 - val_loss: 0.4366 - val_accuracy: 0.7990\n",
      "Epoch 49/100\n",
      "10000/10000 [==============================] - 2s 222us/sample - loss: 0.3426 - accuracy: 0.8487 - val_loss: 0.3922 - val_accuracy: 0.8310\n",
      "Epoch 50/100\n",
      "10000/10000 [==============================] - 2s 228us/sample - loss: 0.3357 - accuracy: 0.8546 - val_loss: 0.3924 - val_accuracy: 0.8230\n",
      "Epoch 51/100\n",
      "10000/10000 [==============================] - 2s 226us/sample - loss: 0.3345 - accuracy: 0.8567 - val_loss: 0.4162 - val_accuracy: 0.8210\n",
      "Epoch 52/100\n",
      "10000/10000 [==============================] - 2s 225us/sample - loss: 0.3307 - accuracy: 0.8585 - val_loss: 0.3828 - val_accuracy: 0.8330\n",
      "Epoch 53/100\n",
      "10000/10000 [==============================] - 2s 222us/sample - loss: 0.3250 - accuracy: 0.8597 - val_loss: 0.3772 - val_accuracy: 0.8300\n",
      "Epoch 54/100\n"
     ]
    },
    {
     "name": "stdout",
     "output_type": "stream",
     "text": [
      "10000/10000 [==============================] - 2s 221us/sample - loss: 0.3233 - accuracy: 0.8605 - val_loss: 0.3801 - val_accuracy: 0.8290\n",
      "Epoch 55/100\n",
      "10000/10000 [==============================] - 2s 222us/sample - loss: 0.3187 - accuracy: 0.8650 - val_loss: 0.4007 - val_accuracy: 0.8250\n",
      "Epoch 56/100\n",
      "10000/10000 [==============================] - 2s 221us/sample - loss: 0.3172 - accuracy: 0.8650 - val_loss: 0.3883 - val_accuracy: 0.8230\n",
      "Epoch 57/100\n",
      "10000/10000 [==============================] - 2s 221us/sample - loss: 0.3174 - accuracy: 0.8635 - val_loss: 0.3919 - val_accuracy: 0.8350\n",
      "Epoch 58/100\n",
      "10000/10000 [==============================] - 2s 220us/sample - loss: 0.3092 - accuracy: 0.8687 - val_loss: 0.4195 - val_accuracy: 0.8170\n",
      "Epoch 59/100\n",
      "10000/10000 [==============================] - 2s 224us/sample - loss: 0.3147 - accuracy: 0.8669 - val_loss: 0.3755 - val_accuracy: 0.8350\n",
      "Epoch 60/100\n",
      "10000/10000 [==============================] - 2s 225us/sample - loss: 0.3069 - accuracy: 0.8679 - val_loss: 0.3827 - val_accuracy: 0.8350\n",
      "Epoch 61/100\n",
      "10000/10000 [==============================] - 2s 225us/sample - loss: 0.2985 - accuracy: 0.8711 - val_loss: 0.3937 - val_accuracy: 0.8400\n",
      "Epoch 62/100\n",
      "10000/10000 [==============================] - 2s 222us/sample - loss: 0.3013 - accuracy: 0.8713 - val_loss: 0.3922 - val_accuracy: 0.8350\n",
      "Epoch 63/100\n",
      "10000/10000 [==============================] - 2s 227us/sample - loss: 0.2980 - accuracy: 0.8710 - val_loss: 0.3862 - val_accuracy: 0.8420\n",
      "Epoch 64/100\n",
      "10000/10000 [==============================] - 2s 224us/sample - loss: 0.2893 - accuracy: 0.8769 - val_loss: 0.3857 - val_accuracy: 0.8360\n",
      "Epoch 65/100\n",
      "10000/10000 [==============================] - 2s 226us/sample - loss: 0.2905 - accuracy: 0.8763 - val_loss: 0.3902 - val_accuracy: 0.8390\n",
      "Epoch 66/100\n",
      "10000/10000 [==============================] - 2s 227us/sample - loss: 0.2889 - accuracy: 0.8752 - val_loss: 0.3786 - val_accuracy: 0.8420\n",
      "Epoch 67/100\n",
      "10000/10000 [==============================] - 2s 226us/sample - loss: 0.2879 - accuracy: 0.8786 - val_loss: 0.3967 - val_accuracy: 0.8420\n",
      "Epoch 68/100\n",
      "10000/10000 [==============================] - 2s 225us/sample - loss: 0.2889 - accuracy: 0.8744 - val_loss: 0.4016 - val_accuracy: 0.8370\n",
      "Epoch 69/100\n",
      "10000/10000 [==============================] - 2s 224us/sample - loss: 0.2851 - accuracy: 0.8777 - val_loss: 0.3911 - val_accuracy: 0.8270\n",
      "Epoch 70/100\n",
      "10000/10000 [==============================] - 2s 224us/sample - loss: 0.2812 - accuracy: 0.8806 - val_loss: 0.4133 - val_accuracy: 0.8340\n",
      "Epoch 71/100\n",
      "10000/10000 [==============================] - 2s 220us/sample - loss: 0.2806 - accuracy: 0.8799 - val_loss: 0.3862 - val_accuracy: 0.8390\n",
      "Epoch 72/100\n",
      "10000/10000 [==============================] - 2s 225us/sample - loss: 0.2791 - accuracy: 0.8790 - val_loss: 0.3982 - val_accuracy: 0.8340\n",
      "Epoch 73/100\n",
      "10000/10000 [==============================] - 2s 226us/sample - loss: 0.2762 - accuracy: 0.8809 - val_loss: 0.3933 - val_accuracy: 0.8400\n",
      "Epoch 74/100\n",
      "10000/10000 [==============================] - 2s 223us/sample - loss: 0.2699 - accuracy: 0.8863 - val_loss: 0.3936 - val_accuracy: 0.8320\n",
      "Epoch 75/100\n",
      "10000/10000 [==============================] - 2s 229us/sample - loss: 0.2740 - accuracy: 0.8836 - val_loss: 0.4076 - val_accuracy: 0.8340\n",
      "Epoch 76/100\n",
      "10000/10000 [==============================] - 2s 221us/sample - loss: 0.2722 - accuracy: 0.8857 - val_loss: 0.4020 - val_accuracy: 0.8410\n",
      "Epoch 77/100\n",
      "10000/10000 [==============================] - 2s 223us/sample - loss: 0.2730 - accuracy: 0.8846 - val_loss: 0.3978 - val_accuracy: 0.8360\n",
      "Epoch 78/100\n",
      "10000/10000 [==============================] - 2s 223us/sample - loss: 0.2697 - accuracy: 0.8829 - val_loss: 0.3948 - val_accuracy: 0.8290\n",
      "Epoch 79/100\n",
      "10000/10000 [==============================] - 2s 226us/sample - loss: 0.2611 - accuracy: 0.8874 - val_loss: 0.4181 - val_accuracy: 0.8350\n",
      "Epoch 80/100\n",
      "10000/10000 [==============================] - 2s 222us/sample - loss: 0.2615 - accuracy: 0.8866 - val_loss: 0.4045 - val_accuracy: 0.8320\n",
      "Epoch 81/100\n",
      "10000/10000 [==============================] - 2s 224us/sample - loss: 0.2650 - accuracy: 0.8856 - val_loss: 0.4173 - val_accuracy: 0.8310\n",
      "Epoch 82/100\n",
      "10000/10000 [==============================] - 2s 227us/sample - loss: 0.2633 - accuracy: 0.8870 - val_loss: 0.4077 - val_accuracy: 0.8360\n",
      "Epoch 83/100\n",
      "10000/10000 [==============================] - 2s 224us/sample - loss: 0.2657 - accuracy: 0.8867 - val_loss: 0.4025 - val_accuracy: 0.8350\n",
      "Epoch 84/100\n",
      "10000/10000 [==============================] - 2s 224us/sample - loss: 0.2577 - accuracy: 0.8927 - val_loss: 0.4094 - val_accuracy: 0.8340\n",
      "Epoch 85/100\n",
      "10000/10000 [==============================] - 2s 225us/sample - loss: 0.2569 - accuracy: 0.8903 - val_loss: 0.4245 - val_accuracy: 0.8330\n",
      "Epoch 86/100\n",
      "10000/10000 [==============================] - 2s 229us/sample - loss: 0.2579 - accuracy: 0.8880 - val_loss: 0.4084 - val_accuracy: 0.8310\n",
      "Epoch 87/100\n",
      "10000/10000 [==============================] - 2s 227us/sample - loss: 0.2560 - accuracy: 0.8880 - val_loss: 0.4147 - val_accuracy: 0.8360\n",
      "Epoch 88/100\n",
      "10000/10000 [==============================] - 2s 223us/sample - loss: 0.2541 - accuracy: 0.8897 - val_loss: 0.4050 - val_accuracy: 0.8300\n",
      "Epoch 89/100\n",
      "10000/10000 [==============================] - 2s 224us/sample - loss: 0.2500 - accuracy: 0.8933 - val_loss: 0.4427 - val_accuracy: 0.8340\n",
      "Epoch 90/100\n",
      "10000/10000 [==============================] - 2s 227us/sample - loss: 0.2489 - accuracy: 0.8950 - val_loss: 0.4136 - val_accuracy: 0.8280\n",
      "Epoch 91/100\n",
      "10000/10000 [==============================] - 2s 231us/sample - loss: 0.2466 - accuracy: 0.8950 - val_loss: 0.4266 - val_accuracy: 0.8310\n",
      "Epoch 92/100\n",
      "10000/10000 [==============================] - 2s 225us/sample - loss: 0.2524 - accuracy: 0.8941 - val_loss: 0.4230 - val_accuracy: 0.8420\n",
      "Epoch 93/100\n",
      "10000/10000 [==============================] - 2s 226us/sample - loss: 0.2394 - accuracy: 0.8962 - val_loss: 0.4216 - val_accuracy: 0.8340\n",
      "Epoch 94/100\n",
      "10000/10000 [==============================] - 2s 223us/sample - loss: 0.2404 - accuracy: 0.8977 - val_loss: 0.4153 - val_accuracy: 0.8380\n",
      "Epoch 95/100\n",
      "10000/10000 [==============================] - 2s 226us/sample - loss: 0.2421 - accuracy: 0.8989 - val_loss: 0.4086 - val_accuracy: 0.8320\n",
      "Epoch 96/100\n",
      "10000/10000 [==============================] - 2s 229us/sample - loss: 0.2403 - accuracy: 0.8995 - val_loss: 0.4073 - val_accuracy: 0.8340\n",
      "Epoch 97/100\n",
      "10000/10000 [==============================] - 2s 222us/sample - loss: 0.2393 - accuracy: 0.9006 - val_loss: 0.4094 - val_accuracy: 0.8350\n",
      "Epoch 98/100\n",
      "10000/10000 [==============================] - 2s 226us/sample - loss: 0.2413 - accuracy: 0.8966 - val_loss: 0.4174 - val_accuracy: 0.8350\n",
      "Epoch 99/100\n",
      "10000/10000 [==============================] - 2s 226us/sample - loss: 0.2415 - accuracy: 0.8969 - val_loss: 0.4214 - val_accuracy: 0.8310\n",
      "Epoch 100/100\n",
      "10000/10000 [==============================] - 2s 224us/sample - loss: 0.2309 - accuracy: 0.9039 - val_loss: 0.4419 - val_accuracy: 0.8380\n"
     ]
    }
   ],
   "source": [
    "history = model.fit([inputs_train,questions_train],answers_train, batch_size = 32, epochs = 100, validation_data = ([inputs_test,questions_test],answers_test))"
   ]
  },
  {
   "cell_type": "code",
   "execution_count": 73,
   "metadata": {
    "scrolled": true
   },
   "outputs": [],
   "source": [
    "filename = 'Z_chatbot_100_epochs.h5'\n",
    "model.save(filename)"
   ]
  },
  {
   "cell_type": "code",
   "execution_count": 74,
   "metadata": {
    "scrolled": true
   },
   "outputs": [
    {
     "name": "stdout",
     "output_type": "stream",
     "text": [
      "dict_keys(['loss', 'accuracy', 'val_loss', 'val_accuracy'])\n"
     ]
    },
    {
     "data": {
      "image/png": "[encoded data removed]",
      "text/plain": [
       "<Figure size 864x864 with 1 Axes>"
      ]
     },
     "metadata": {
      "needs_background": "light"
     },
     "output_type": "display_data"
    }
   ],
   "source": [
    "#Lets plot the increase of accuracy as we increase the number of training epochs\n",
    "#We can see that without any training the acc is about 50%, random guessing\n",
    "import matplotlib.pyplot as plt\n",
    "%matplotlib inline\n",
    "print(history.history.keys())\n",
    "# summarize history for accuracy\n",
    "plt.figure(figsize=(12,12))\n",
    "plt.plot(history.history['accuracy'])\n",
    "plt.plot(history.history['val_accuracy'])\n",
    "plt.title('model accuracy')\n",
    "plt.ylabel('accuracy')\n",
    "plt.xlabel('epoch')\n",
    "plt.legend(['train', 'test'], loc='upper left')\n",
    "plt.show()"
   ]
  },
  {
   "cell_type": "code",
   "execution_count": 75,
   "metadata": {
    "scrolled": true
   },
   "outputs": [],
   "source": [
    "#To load a model that we have already trained and saved:\n",
    "model.load_weights('Z_chatbot_100_epochs.h5')"
   ]
  },
  {
   "cell_type": "code",
   "execution_count": 76,
   "metadata": {
    "scrolled": true
   },
   "outputs": [],
   "source": [
    "#Lets check out the predictions on the test set:\n",
    "#These are just probabilities for every single word on the vocab\n",
    "pred_results = model.predict(([inputs_test,questions_test]))"
   ]
  },
  {
   "cell_type": "code",
   "execution_count": 77,
   "metadata": {
    "scrolled": true
   },
   "outputs": [
    {
     "data": {
      "text/plain": [
       "(['Mary',\n",
       "  'got',\n",
       "  'the',\n",
       "  'milk',\n",
       "  'there',\n",
       "  '.',\n",
       "  'John',\n",
       "  'moved',\n",
       "  'to',\n",
       "  'the',\n",
       "  'bedroom',\n",
       "  '.'],\n",
       " ['Is', 'John', 'in', 'the', 'kitchen', '?'],\n",
       " 'no')"
      ]
     },
     "execution_count": 77,
     "metadata": {},
     "output_type": "execute_result"
    }
   ],
   "source": [
    "#First test data point\n",
    "test_data[0]"
   ]
  },
  {
   "cell_type": "code",
   "execution_count": 78,
   "metadata": {
    "scrolled": true
   },
   "outputs": [
    {
     "data": {
      "text/plain": [
       "array([5.7176723e-14, 5.9152383e-14, 6.8879161e-14, 5.8159491e-14,\n",
       "       5.2794564e-14, 5.3696786e-14, 6.1959240e-14, 5.8195114e-14,\n",
       "       5.5931537e-14, 6.3508945e-14, 6.6105013e-14, 5.3538069e-14,\n",
       "       5.9268020e-14, 5.8243747e-14, 5.6458879e-14, 9.9846625e-01,\n",
       "       5.7262944e-14, 6.2589711e-14, 5.8123672e-14, 4.8789010e-14,\n",
       "       5.1363268e-14, 6.5260765e-14, 6.1549114e-14, 5.9568344e-14,\n",
       "       6.8524308e-14, 5.7324357e-14, 5.9268467e-14, 5.6360756e-14,\n",
       "       5.8350487e-14, 6.5733362e-14, 1.5337740e-03, 5.5934312e-14,\n",
       "       4.7001618e-14, 4.8715918e-14, 6.4414884e-14, 5.0105827e-14,\n",
       "       6.2818152e-14, 5.6763161e-14], dtype=float32)"
      ]
     },
     "execution_count": 78,
     "metadata": {},
     "output_type": "execute_result"
    }
   ],
   "source": [
    "#These are the probabilities for the vocab words using the 1st sentence\n",
    "pred_results[0]"
   ]
  },
  {
   "cell_type": "code",
   "execution_count": 79,
   "metadata": {
    "scrolled": true
   },
   "outputs": [],
   "source": [
    "val_max = np.argmax(pred_results[0])"
   ]
  },
  {
   "cell_type": "code",
   "execution_count": 80,
   "metadata": {
    "scrolled": true
   },
   "outputs": [
    {
     "name": "stdout",
     "output_type": "stream",
     "text": [
      "no\n"
     ]
    }
   ],
   "source": [
    "for key,val in tokenizer.word_index.items():\n",
    "    if val == val_max:\n",
    "        k = key\n",
    "print(k)"
   ]
  },
  {
   "cell_type": "code",
   "execution_count": 81,
   "metadata": {
    "scrolled": true
   },
   "outputs": [
    {
     "data": {
      "text/plain": [
       "0.99846625"
      ]
     },
     "execution_count": 81,
     "metadata": {},
     "output_type": "execute_result"
    }
   ],
   "source": [
    "#See probability:\n",
    "pred_results[0][val_max]"
   ]
  },
  {
   "cell_type": "code",
   "execution_count": 82,
   "metadata": {
    "scrolled": true
   },
   "outputs": [
    {
     "data": {
      "text/plain": [
       "{'.',\n",
       " '?',\n",
       " 'Daniel',\n",
       " 'Is',\n",
       " 'John',\n",
       " 'Mary',\n",
       " 'Sandra',\n",
       " 'apple',\n",
       " 'back',\n",
       " 'bathroom',\n",
       " 'bedroom',\n",
       " 'discarded',\n",
       " 'down',\n",
       " 'dropped',\n",
       " 'football',\n",
       " 'garden',\n",
       " 'got',\n",
       " 'grabbed',\n",
       " 'hallway',\n",
       " 'in',\n",
       " 'journeyed',\n",
       " 'kitchen',\n",
       " 'left',\n",
       " 'milk',\n",
       " 'moved',\n",
       " 'no',\n",
       " 'office',\n",
       " 'picked',\n",
       " 'put',\n",
       " 'the',\n",
       " 'there',\n",
       " 'to',\n",
       " 'took',\n",
       " 'travelled',\n",
       " 'up',\n",
       " 'went',\n",
       " 'yes'}"
      ]
     },
     "execution_count": 82,
     "metadata": {},
     "output_type": "execute_result"
    }
   ],
   "source": [
    "#Now, we can make our own questions using the vocabulary we have\n",
    "vocab"
   ]
  },
  {
   "cell_type": "code",
   "execution_count": 126,
   "metadata": {
    "scrolled": true
   },
   "outputs": [],
   "source": [
    "my_story = 'Sandra picked the apple . Mary went up . '"
   ]
  },
  {
   "cell_type": "code",
   "execution_count": 127,
   "metadata": {
    "scrolled": true
   },
   "outputs": [
    {
     "data": {
      "text/plain": [
       "['Sandra', 'picked', 'the', 'apple', '.', 'Mary', 'went', 'up', '.']"
      ]
     },
     "execution_count": 127,
     "metadata": {},
     "output_type": "execute_result"
    }
   ],
   "source": [
    "my_story.split()"
   ]
  },
  {
   "cell_type": "code",
   "execution_count": 128,
   "metadata": {
    "scrolled": true
   },
   "outputs": [],
   "source": [
    "my_question = 'Mary got the apple ?'"
   ]
  },
  {
   "cell_type": "code",
   "execution_count": 129,
   "metadata": {
    "scrolled": true
   },
   "outputs": [
    {
     "data": {
      "text/plain": [
       "['Mary', 'got', 'the', 'apple', '?']"
      ]
     },
     "execution_count": 129,
     "metadata": {},
     "output_type": "execute_result"
    }
   ],
   "source": [
    "my_question.split()"
   ]
  },
  {
   "cell_type": "code",
   "execution_count": 130,
   "metadata": {
    "scrolled": true
   },
   "outputs": [],
   "source": [
    "#Put the data in the same format as before\n",
    "my_data = [(my_story.split(), my_question.split(),'yes')]"
   ]
  },
  {
   "cell_type": "code",
   "execution_count": 131,
   "metadata": {
    "scrolled": true
   },
   "outputs": [],
   "source": [
    "#Vectorize this data\n",
    "my_story, my_ques, my_ans = vectorize_stories(my_data)"
   ]
  },
  {
   "cell_type": "code",
   "execution_count": 132,
   "metadata": {
    "scrolled": true
   },
   "outputs": [],
   "source": [
    "#Make the prediction\n",
    "pred_results = model.predict(([my_story,my_ques]))"
   ]
  },
  {
   "cell_type": "code",
   "execution_count": 133,
   "metadata": {
    "scrolled": true
   },
   "outputs": [],
   "source": [
    "val_max = np.argmax(pred_results[0])"
   ]
  },
  {
   "cell_type": "code",
   "execution_count": 134,
   "metadata": {
    "scrolled": true
   },
   "outputs": [
    {
     "name": "stdout",
     "output_type": "stream",
     "text": [
      "no\n"
     ]
    }
   ],
   "source": [
    "#Correct prediction!\n",
    "for key,val in tokenizer.word_index.items():\n",
    "    if val == val_max:\n",
    "        k = key\n",
    "print(k)"
   ]
  },
  {
   "cell_type": "code",
   "execution_count": 135,
   "metadata": {
    "scrolled": true
   },
   "outputs": [
    {
     "data": {
      "text/plain": [
       "0.755569"
      ]
     },
     "execution_count": 135,
     "metadata": {},
     "output_type": "execute_result"
    }
   ],
   "source": [
    "#Confidence\n",
    "pred_results[0][val_max]"
   ]
  },
  {
   "cell_type": "code",
   "execution_count": 136,
   "metadata": {
    "scrolled": true
   },
   "outputs": [
    {
     "data": {
      "text/plain": [
       "15"
      ]
     },
     "execution_count": 136,
     "metadata": {},
     "output_type": "execute_result"
    }
   ],
   "source": [
    "val_max"
   ]
  },
  {
   "cell_type": "code",
   "execution_count": 137,
   "metadata": {},
   "outputs": [
    {
     "data": {
      "text/plain": [
       "37"
      ]
     },
     "execution_count": 137,
     "metadata": {},
     "output_type": "execute_result"
    }
   ],
   "source": [
    "val"
   ]
  },
  {
   "cell_type": "code",
   "execution_count": 138,
   "metadata": {},
   "outputs": [
    {
     "name": "stdout",
     "output_type": "stream",
     "text": [
      "no sandra\n"
     ]
    }
   ],
   "source": [
    "print(k, key)"
   ]
  },
  {
   "cell_type": "code",
   "execution_count": null,
   "metadata": {},
   "outputs": [],
   "source": []
  }
 ],
 "metadata": {
  "kernelspec": {
   "display_name": "Python 3",
   "language": "python",
   "name": "python3"
  },
  "language_info": {
   "codemirror_mode": {
    "name": "ipython",
    "version": 3
   },
   "file_extension": ".py",
   "mimetype": "text/x-python",
   "name": "python",
   "nbconvert_exporter": "python",
   "pygments_lexer": "ipython3",
   "version": "3.6.9"
  }
 },
 "nbformat": 4,
 "nbformat_minor": 4
}
