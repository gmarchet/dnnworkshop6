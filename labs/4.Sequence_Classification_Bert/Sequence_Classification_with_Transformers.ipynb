{
 "cells": [
  {
   "cell_type": "markdown",
   "metadata": {
    "colab_type": "text",
    "id": "ipMamgbw6bjL"
   },
   "source": [
    "# Sequence Classification with Transformers\n",
    "\n",
    "Adapted from [Hugging Face Transformer Tutorial](https://medium.com/@lysandrejik/using-tensorflow-2-for-state-of-the-art-natural-language-processing-102445cda54a).\n",
    "\n",
    "We will be using two different models as a means of comparison: Google's BERT and Facebook's RoBERTa. Both have the same architecture but have had different pre-training approached."
   ]
  },
  {
   "cell_type": "markdown",
   "metadata": {
    "colab_type": "text",
    "id": "6KAjNG_J7K-w"
   },
   "source": [
    "## Installing required dependencies\n",
    "In order to import the TensorFlow modules, we must make sure that TF2 is installed in the environment."
   ]
  },
  {
   "cell_type": "code",
   "execution_count": 1,
   "metadata": {
    "colab": {
     "base_uri": "https://localhost:8080/",
     "height": 52
    },
    "colab_type": "code",
    "id": "BMvKYmV48aHi",
    "outputId": "5fde8b3a-c567-4847-835f-0edbf6a724dc"
   },
   "outputs": [
    {
     "name": "stdout",
     "output_type": "stream",
     "text": [
      "2.0.0\n"
     ]
    }
   ],
   "source": [
    "import tensorflow as tf\n",
    "print(tf.__version__)"
   ]
  },
  {
   "cell_type": "code",
   "execution_count": 2,
   "metadata": {
    "colab": {
     "base_uri": "https://localhost:8080/",
     "height": 750
    },
    "colab_type": "code",
    "id": "oH6P00pLYbXH",
    "outputId": "9a261b3e-fcfb-48b6-bd1f-f88de1556f2d"
   },
   "outputs": [
    {
     "name": "stdout",
     "output_type": "stream",
     "text": [
      "Requirement already satisfied: transformers in /anaconda/envs/azureml_py36/lib/python3.6/site-packages (2.1.1)\n",
      "Requirement already satisfied: regex in /anaconda/envs/azureml_py36/lib/python3.6/site-packages (from transformers) (2019.11.1)\n",
      "Requirement already satisfied: sacremoses in /anaconda/envs/azureml_py36/lib/python3.6/site-packages (from transformers) (0.0.35)\n",
      "Requirement already satisfied: numpy in /anaconda/envs/azureml_py36/lib/python3.6/site-packages (from transformers) (1.16.2)\n",
      "Requirement already satisfied: boto3 in /anaconda/envs/azureml_py36/lib/python3.6/site-packages (from transformers) (1.10.16)\n",
      "Requirement already satisfied: tqdm in /anaconda/envs/azureml_py36/lib/python3.6/site-packages (from transformers) (4.36.1)\n",
      "Requirement already satisfied: requests in /anaconda/envs/azureml_py36/lib/python3.6/site-packages (from transformers) (2.22.0)\n",
      "Requirement already satisfied: sentencepiece in /anaconda/envs/azureml_py36/lib/python3.6/site-packages (from transformers) (0.1.83)\n",
      "Requirement already satisfied: joblib in /anaconda/envs/azureml_py36/lib/python3.6/site-packages (from sacremoses->transformers) (0.14.0)\n",
      "Requirement already satisfied: click in /anaconda/envs/azureml_py36/lib/python3.6/site-packages (from sacremoses->transformers) (7.0)\n",
      "Requirement already satisfied: six in /anaconda/envs/azureml_py36/lib/python3.6/site-packages (from sacremoses->transformers) (1.13.0)\n",
      "Requirement already satisfied: jmespath<1.0.0,>=0.7.1 in /anaconda/envs/azureml_py36/lib/python3.6/site-packages (from boto3->transformers) (0.9.4)\n",
      "Requirement already satisfied: s3transfer<0.3.0,>=0.2.0 in /anaconda/envs/azureml_py36/lib/python3.6/site-packages (from boto3->transformers) (0.2.1)\n",
      "Requirement already satisfied: botocore<1.14.0,>=1.13.16 in /anaconda/envs/azureml_py36/lib/python3.6/site-packages (from boto3->transformers) (1.13.16)\n",
      "Requirement already satisfied: idna<2.9,>=2.5 in /anaconda/envs/azureml_py36/lib/python3.6/site-packages (from requests->transformers) (2.8)\n",
      "Requirement already satisfied: chardet<3.1.0,>=3.0.2 in /anaconda/envs/azureml_py36/lib/python3.6/site-packages (from requests->transformers) (3.0.4)\n",
      "Requirement already satisfied: certifi>=2017.4.17 in /anaconda/envs/azureml_py36/lib/python3.6/site-packages (from requests->transformers) (2019.9.11)\n",
      "Requirement already satisfied: urllib3!=1.25.0,!=1.25.1,<1.26,>=1.21.1 in /anaconda/envs/azureml_py36/lib/python3.6/site-packages (from requests->transformers) (1.24.2)\n",
      "Requirement already satisfied: python-dateutil<2.8.1,>=2.1; python_version >= \"2.7\" in /anaconda/envs/azureml_py36/lib/python3.6/site-packages (from botocore<1.14.0,>=1.13.16->boto3->transformers) (2.8.0)\n",
      "Requirement already satisfied: docutils<0.16,>=0.10 in /anaconda/envs/azureml_py36/lib/python3.6/site-packages (from botocore<1.14.0,>=1.13.16->boto3->transformers) (0.15.2)\n"
     ]
    }
   ],
   "source": [
    "# install Hugging Face's transformer library\n",
    "!pip install transformers"
   ]
  },
  {
   "cell_type": "markdown",
   "metadata": {
    "colab_type": "text",
    "id": "CTIzE-Nj5yvf"
   },
   "source": [
    "## Initializing the pre-trained models\n",
    "\n",
    "Let's initialize the models with pre-trained weights. The list of pre-trained weights is available in [the official documentation](https://huggingface.co/transformers/pretrained_models.html). Downloading the weights may take a bit of time, but it only needs to be done once!"
   ]
  },
  {
   "cell_type": "code",
   "execution_count": 3,
   "metadata": {
    "colab": {
     "base_uri": "https://localhost:8080/",
     "height": 142
    },
    "colab_type": "code",
    "id": "8aihC2QV6IXk",
    "outputId": "be06c622-fcec-4c25-8b27-b7915f04f47f"
   },
   "outputs": [
    {
     "name": "stdout",
     "output_type": "stream",
     "text": [
      "A sequence with no special tokens has been passed to the RoBERTa model. This model requires special tokens in order to work. Please specify add_special_tokens=True in your encoding.\n",
      "A sequence with no special tokens has been passed to the RoBERTa model. This model requires special tokens in order to work. Please specify add_special_tokens=True in your encoding.\n"
     ]
    }
   ],
   "source": [
    "from transformers import (TFBertForSequenceClassification, \n",
    "                          BertTokenizer,\n",
    "                          TFRobertaForSequenceClassification, \n",
    "                          RobertaTokenizer)\n",
    "\n",
    "bert_model = TFBertForSequenceClassification.from_pretrained(\"bert-base-cased\")\n",
    "bert_tokenizer = BertTokenizer.from_pretrained(\"bert-base-cased\")\n",
    "\n",
    "roberta_model = TFRobertaForSequenceClassification.from_pretrained(\"roberta-base\")\n",
    "roberta_tokenizer = RobertaTokenizer.from_pretrained(\"roberta-base\")"
   ]
  },
  {
   "cell_type": "markdown",
   "metadata": {
    "colab_type": "text",
    "id": "0zXIt_LK9TWt"
   },
   "source": [
    "### Tokenization\n",
    "\n",
    "BERT and RoBERTa are both Transformer models that have the same architecture. As such, they accept only a certain kind of inputs: vectors of integers, each value representing a token. Each string of text must first be converted to a list of indices to be fed to the model. The tokenizer takes care of that for us.\n",
    "\n",
    "BERT and RoBERTa may have the same architecture, but they differ in tokenization. BERT uses a sub-word tokenization, whereas RoBERTa uses the same tokenization than GPT-2: byte-level byte-pair-encoding. Let's see what this means:"
   ]
  },
  {
   "cell_type": "code",
   "execution_count": 4,
   "metadata": {
    "colab": {
     "base_uri": "https://localhost:8080/",
     "height": 52
    },
    "colab_type": "code",
    "id": "EZRFEqLc8DV2",
    "outputId": "df993838-bf69-4a8a-cd9f-209658340eb8"
   },
   "outputs": [
    {
     "name": "stdout",
     "output_type": "stream",
     "text": [
      "BERT: ['S', '##ys', '##to', '##lic', 'array', '##s', 'are', 'cool', '.', 'This', '[UNK]', 'is', 'cool', 'too', '.']\n",
      "RoBERTa: ['Sy', 'st', 'olic', 'Ġarrays', 'Ġare', 'Ġcool', '.', 'ĠThis', 'ĠðŁ', 'Ĳ', '³', 'Ġis', 'Ġcool', 'Ġtoo', '.']\n"
     ]
    }
   ],
   "source": [
    "sequence = \"Systolic arrays are cool. This 🐳 is cool too.\"\n",
    "\n",
    "bert_tokenized_sequence = bert_tokenizer.tokenize(sequence)\n",
    "roberta_tokenized_sequence = roberta_tokenizer.tokenize(sequence)\n",
    "\n",
    "print(\"BERT:\", bert_tokenized_sequence)\n",
    "print(\"RoBERTa:\", roberta_tokenized_sequence)"
   ]
  },
  {
   "cell_type": "markdown",
   "metadata": {
    "colab_type": "text",
    "id": "W19ze-Fd_RqD"
   },
   "source": [
    "**BERT Tokenizer**\n",
    "\n",
    "Here, the BERT tokenizer splits the string into multiple substrings. If the substrings are in its vocabulary, they will stay as is: this is the case for `array`,  `are` and  `cool`. However, if a resulting string is not in its vocabulary, it will be split again until every string is represented by its vocabulary. For example,  `Systolic` is split multiple times until every token is represented in the BERT vocabulary: it is split into four tokens.\n",
    "The BERT tokenizer is lacking when it comes to complex characters spread over multiple bytes, as can be seen with emojis. In the sequence used, an emoji of a whale was added. As the BERT tokenizer cannot interpret this emoji on a byte-level, it replaces it by the unknown token [UNK].\n",
    "\n",
    "**RoBERTa Tokenizer**\n",
    "\n",
    "On the other hand, the RoBERTa tokenizer has a slightly different approach. Here too, the string is split into multiple substrings, which are themselves split into multiple substrings until every substring can be represented by the vocabulary. However, the RoBERTa tokenizer has a **byte-level approach**. This tokenizer can represent every sequence as a combination of bytes, which makes it shine in the case of complex characters spread over multiple bytes, as with the whale emoji. Instead of using the unknown token, this tokenizer can correctly encode the whale emoji as the combination of multiple bytes. This tokenizer therefore does not require an unknown token, as it can handle every byte separately."
   ]
  },
  {
   "cell_type": "markdown",
   "metadata": {
    "colab_type": "text",
    "id": "V5TVSZtxEl32"
   },
   "source": [
    "## Getting State-of-the-Art results on sequence classification\n",
    "\n",
    "In order to get State-of-the-Art results on this task, we will fine-tune our models on a given dataset. Fine-tuning a model means that we will slightly train it on top of an already trained checkpoint. The learning rate will be very low, as having it to high would result in catastrophic forgetting -> the model would forget what it had learned until now semantically and syntaxically.\n",
    "\n",
    "We will follow the procedure detailed below:\n",
    "\n",
    "    1) Get the dataset from `tensorflow_datasets`\n",
    "\n",
    "    2) Pre-process this dataset so that it can be used by the model\n",
    "\n",
    "    3) Set-up a training loop using Keras' fit API; train the model on the training data\n",
    "\n",
    "    4) Evaluate the model on the testing data and compare to the actual results"
   ]
  },
  {
   "cell_type": "markdown",
   "metadata": {
    "colab_type": "text",
    "id": "8ImFqNidSIk9"
   },
   "source": [
    "### Getting the dataset\n",
    "\n",
    "We will be using the Microsoft Research Paraphrase Corpus (MRPC) dataset, which is a sequence classification dataset. We get the train and validation data from the `tensorflow_datasets` package. These values are in the form of `tf.data.Dataset`, which is perfect for our use-case."
   ]
  },
  {
   "cell_type": "code",
   "execution_count": 5,
   "metadata": {},
   "outputs": [
    {
     "name": "stdout",
     "output_type": "stream",
     "text": [
      "Requirement already satisfied: tensorflow_datasets in /anaconda/envs/azureml_py36/lib/python3.6/site-packages (1.3.0)\n",
      "Requirement already satisfied: wrapt in /anaconda/envs/azureml_py36/lib/python3.6/site-packages (from tensorflow_datasets) (1.11.2)\n",
      "Requirement already satisfied: protobuf>=3.6.1 in /anaconda/envs/azureml_py36/lib/python3.6/site-packages (from tensorflow_datasets) (3.10.0)\n",
      "Requirement already satisfied: dill in /anaconda/envs/azureml_py36/lib/python3.6/site-packages (from tensorflow_datasets) (0.3.1.1)\n",
      "Requirement already satisfied: promise in /anaconda/envs/azureml_py36/lib/python3.6/site-packages (from tensorflow_datasets) (2.2.1)\n",
      "Requirement already satisfied: tensorflow-metadata in /anaconda/envs/azureml_py36/lib/python3.6/site-packages (from tensorflow_datasets) (0.15.1)\n",
      "Requirement already satisfied: requests>=2.19.0 in /anaconda/envs/azureml_py36/lib/python3.6/site-packages (from tensorflow_datasets) (2.22.0)\n",
      "Requirement already satisfied: numpy in /anaconda/envs/azureml_py36/lib/python3.6/site-packages (from tensorflow_datasets) (1.16.2)\n",
      "Requirement already satisfied: attrs in /anaconda/envs/azureml_py36/lib/python3.6/site-packages (from tensorflow_datasets) (19.2.0)\n",
      "Requirement already satisfied: six in /anaconda/envs/azureml_py36/lib/python3.6/site-packages (from tensorflow_datasets) (1.13.0)\n",
      "Requirement already satisfied: termcolor in /anaconda/envs/azureml_py36/lib/python3.6/site-packages (from tensorflow_datasets) (1.1.0)\n",
      "Requirement already satisfied: future in /anaconda/envs/azureml_py36/lib/python3.6/site-packages (from tensorflow_datasets) (0.18.2)\n",
      "Requirement already satisfied: absl-py in /anaconda/envs/azureml_py36/lib/python3.6/site-packages (from tensorflow_datasets) (0.8.1)\n",
      "Requirement already satisfied: tqdm in /anaconda/envs/azureml_py36/lib/python3.6/site-packages (from tensorflow_datasets) (4.36.1)\n",
      "Requirement already satisfied: setuptools in /anaconda/envs/azureml_py36/lib/python3.6/site-packages (from protobuf>=3.6.1->tensorflow_datasets) (41.4.0)\n",
      "Requirement already satisfied: googleapis-common-protos in /anaconda/envs/azureml_py36/lib/python3.6/site-packages (from tensorflow-metadata->tensorflow_datasets) (1.6.0)\n",
      "Requirement already satisfied: chardet<3.1.0,>=3.0.2 in /anaconda/envs/azureml_py36/lib/python3.6/site-packages (from requests>=2.19.0->tensorflow_datasets) (3.0.4)\n",
      "Requirement already satisfied: idna<2.9,>=2.5 in /anaconda/envs/azureml_py36/lib/python3.6/site-packages (from requests>=2.19.0->tensorflow_datasets) (2.8)\n",
      "Requirement already satisfied: urllib3!=1.25.0,!=1.25.1,<1.26,>=1.21.1 in /anaconda/envs/azureml_py36/lib/python3.6/site-packages (from requests>=2.19.0->tensorflow_datasets) (1.24.2)\n",
      "Requirement already satisfied: certifi>=2017.4.17 in /anaconda/envs/azureml_py36/lib/python3.6/site-packages (from requests>=2.19.0->tensorflow_datasets) (2019.9.11)\n"
     ]
    }
   ],
   "source": [
    "!pip install tensorflow_datasets"
   ]
  },
  {
   "cell_type": "code",
   "execution_count": 6,
   "metadata": {
    "colab": {},
    "colab_type": "code",
    "id": "Ro-ROZtP-GoB"
   },
   "outputs": [
    {
     "name": "stderr",
     "output_type": "stream",
     "text": [
      "INFO - Overwrite dataset info from restored data version.\n",
      "INFO - Reusing dataset glue (/home/azureuser/tensorflow_datasets/glue/mrpc/0.0.2)\n",
      "INFO - Constructing tf.data.Dataset for split None, from /home/azureuser/tensorflow_datasets/glue/mrpc/0.0.2\n"
     ]
    }
   ],
   "source": [
    "import tensorflow_datasets\n",
    "data = tensorflow_datasets.load(\"glue/mrpc\")\n",
    "\n",
    "train_dataset = data[\"train\"]\n",
    "validation_dataset = data[\"validation\"]"
   ]
  },
  {
   "cell_type": "markdown",
   "metadata": {
    "colab_type": "text",
    "id": "Fr07j8B2TiEF"
   },
   "source": [
    "Let's output the value of the first item of the dataset to get an idea of the data we're dealing with."
   ]
  },
  {
   "cell_type": "code",
   "execution_count": 7,
   "metadata": {
    "colab": {
     "base_uri": "https://localhost:8080/",
     "height": 88
    },
    "colab_type": "code",
    "id": "UDHPqzQuQm9G",
    "outputId": "a08f88f4-9445-46e0-c79f-ba86d213ecd4"
   },
   "outputs": [
    {
     "name": "stdout",
     "output_type": "stream",
     "text": [
      " idx:       tf.Tensor(201, shape=(), dtype=int32) \n",
      " label:     tf.Tensor(1, shape=(), dtype=int64) \n",
      " sentence1: tf.Tensor(b'Tibco has used the Rendezvous name since 1994 for several of its technology products , according to the Palo Alto , California company .', shape=(), dtype=string) \n",
      " sentence2: tf.Tensor(b'Tibco has used the Rendezvous name since 1994 for several of its technology products , it said .', shape=(), dtype=string)\n"
     ]
    }
   ],
   "source": [
    "example = list(train_dataset.__iter__())[0]\n",
    "print('',\n",
    "    'idx:      ', example['idx'],       '\\n',\n",
    "    'label:    ', example['label'],     '\\n',\n",
    "    'sentence1:', example['sentence1'], '\\n',\n",
    "    'sentence2:', example['sentence2'],\n",
    ")"
   ]
  },
  {
   "cell_type": "markdown",
   "metadata": {
    "colab_type": "text",
    "id": "8cfNc0YyT6fj"
   },
   "source": [
    "The values are in the form of dictionaries that are done as follow:\n",
    "\n",
    "```py\n",
    "example = {\n",
    "    idx: number,\n",
    "    label: number,\n",
    "    sentence1: string,\n",
    "    sentence2: string\n",
    "}\n",
    "```\n",
    "The three fields that are of interest to us are the `label`, the `sentence1` and the `sentence2`. The label is equal to `1` when the two sentences are paraphrases of each other, and is equal to `0` otherwise.\n",
    "\n",
    "We cannot pass this directly to the models as they cannot interpret the meaning of strings (list of characters), so we will see how to convert that example to features that our models can understand. Firstly, we must obtain the token ids that will be fed to the model from the two sequences. The two models (BERT, RoBERTa) have different encoding mechanisms concerning pair sequence encoding, using `sep` and `cls` tokens to specify the end of a sequence or the end of the two sequences. With `A` as the first sequence and `B` as the second, BERT encodes the sequence pair as follows:\n",
    "\n",
    "`[CLS] A [SEP] B [SEP]`\n",
    "\n",
    "while RoBERTa encodes the sequence pair differently:\n",
    "\n",
    "`[CLS] A [SEP][SEP] B [SEP]`\n",
    "\n",
    "Thankfully, our encode method can handle that on its own. Here are the two sentences we are currently dealing with:"
   ]
  },
  {
   "cell_type": "code",
   "execution_count": 8,
   "metadata": {
    "colab": {
     "base_uri": "https://localhost:8080/",
     "height": 52
    },
    "colab_type": "code",
    "id": "EUW95hbHVuGn",
    "outputId": "951d14f8-7daa-4d61-d296-4a1eeed98b90"
   },
   "outputs": [
    {
     "name": "stdout",
     "output_type": "stream",
     "text": [
      "First sequence: Tibco has used the Rendezvous name since 1994 for several of its technology products , according to the Palo Alto , California company .\n",
      "Second sequence: Tibco has used the Rendezvous name since 1994 for several of its technology products , it said .\n"
     ]
    }
   ],
   "source": [
    "seq0 = example['sentence1'].numpy().decode('utf-8')  # Obtain bytes from tensor and convert it to a string\n",
    "seq1 = example['sentence2'].numpy().decode('utf-8')  # Obtain bytes from tensor and convert it to a string\n",
    "\n",
    "print(\"First sequence:\", seq0)\n",
    "print(\"Second sequence:\", seq1)"
   ]
  },
  {
   "cell_type": "markdown",
   "metadata": {
    "colab_type": "text",
    "id": "QMip2J9Iuqoq"
   },
   "source": [
    "## Encoding sequences\n",
    "\n",
    "In order to encode the sequence to be understandable by the model, two different methods can come in handy.\n",
    "\n",
    "### encode()\n",
    "\n",
    "`encode` is a high-level method that returns the encoded sequence with the special tokens and truncated to a maximum length if need be. Here we identify the special CLS and SEP tokens of RoBERTa and BERT, and explicit them in the encoded sequence as to understand the difference in tokenization."
   ]
  },
  {
   "cell_type": "code",
   "execution_count": 9,
   "metadata": {
    "colab": {
     "base_uri": "https://localhost:8080/",
     "height": 180
    },
    "colab_type": "code",
    "id": "gR9yka31ul3V",
    "outputId": "c7403ec3-e3e6-4700-c31f-57edebe219de"
   },
   "outputs": [
    {
     "name": "stdout",
     "output_type": "stream",
     "text": [
      "BERT tokenizer separator, cls token id:    102 101\n",
      "RoBERTa tokenizer separator, cls token id: 2 0\n",
      "\n",
      "BERT tokenized sequence\n",
      "\u001b[91m101\u001b[0m 157 13292 2528 1144 1215 1103 16513 15125 11944 1271 1290 1898 1111 1317 1104 1157 2815 2982 117 2452 1106 1103 19585 2858 17762 117 1756 1419 119 \u001b[91m102\u001b[0m 157 13292 2528 1144 1215 1103 16513 15125 11944 1271 1290 1898 1111 1317 1104 1157 2815 2982 117 1122 1163 119 \u001b[91m102\u001b[0m \n",
      "\n",
      "RoBERTa tokenized sequence\n",
      "\u001b[91m0\u001b[0m 565 1452 876 34 341 5 29110 42057 766 187 8148 13 484 9 63 806 785 2156 309 7 5 21065 18402 2156 886 138 479 \u001b[91m2\u001b[0m \u001b[91m2\u001b[0m 565 1452 876 34 341 5 29110 42057 766 187 8148 13 484 9 63 806 785 2156 24 26 479 \u001b[91m2\u001b[0m "
     ]
    }
   ],
   "source": [
    "encoded_bert_sequence = bert_tokenizer.encode(seq0, seq1, add_special_tokens=True, max_length=128)\n",
    "encoded_roberta_sequence = roberta_tokenizer.encode(seq0, seq1, add_special_tokens=True, max_length=128)\n",
    "\n",
    "print(\"BERT tokenizer separator, cls token id:   \", bert_tokenizer.sep_token_id, bert_tokenizer.cls_token_id)\n",
    "print(\"RoBERTa tokenizer separator, cls token id:\", roberta_tokenizer.sep_token_id, roberta_tokenizer.cls_token_id)\n",
    "\n",
    "bert_special_tokens = [bert_tokenizer.sep_token_id, bert_tokenizer.cls_token_id]\n",
    "roberta_special_tokens = [roberta_tokenizer.sep_token_id, roberta_tokenizer.cls_token_id]\n",
    "\n",
    "def print_in_red(string):\n",
    "    print(\"\\033[91m\" + str(string) + \"\\033[0m\", end=' ')\n",
    "\n",
    "print(\"\\nBERT tokenized sequence\")\n",
    "output = [print_in_red(tok) if tok in bert_special_tokens else print(tok, end=' ') for tok in encoded_bert_sequence]\n",
    "\n",
    "print(\"\\n\\nRoBERTa tokenized sequence\")\n",
    "output = [print_in_red(tok) if tok in roberta_special_tokens else print(tok, end=' ') for tok in encoded_roberta_sequence]"
   ]
  },
  {
   "cell_type": "markdown",
   "metadata": {
    "colab_type": "text",
    "id": "L_apacxCvZZ7"
   },
   "source": [
    "### encode_plus()\n",
    "\n",
    "`encode_plus` is similar to `encode` but it returns additional information: the token type ids as well as several other features that we don't need to manage right now.\n",
    "\n",
    "The token type ids are used by some models in the case of sequence classification. It is a mask indicating to the model which sequence a token is from. \n",
    "\n",
    "For example, let's say we have two sequences A and B with tokens `[a0, a1, a2, a3]` and `[b0, b1, b2, b3, b4]` respectively.\n",
    "\n",
    "The BERT tokenizer would create a single sequence from those two lists of tokens that would look like the following:\n",
    "\n",
    "<pre>\n",
    "[tokens]         `[CLS] a0 a1 a2 a3 [SEP] b0 b1 b2 b3 b4 [SEP]`. \n",
    "[token type ids] `  0    0  0  0  0   0    1  1  1  1  1   1`\n",
    "</pre>\n",
    "\n",
    "Thanks to the token type ids, the model is aware of which token belongs to which sequence\n",
    "\n",
    "\n",
    "\n"
   ]
  },
  {
   "cell_type": "markdown",
   "metadata": {
    "colab_type": "text",
    "id": "73XQoKaBb1GG"
   },
   "source": [
    "We won't need to use encode_plus in this experiment as directly in the `Transformers` library exists a method to directly convert a dataset to features, and is agnostic to both the GLUE task and the specified tokenizer. This method makes use of `encode_plus` under the hood and is called `glue_convert_examples_to_features`:"
   ]
  },
  {
   "cell_type": "code",
   "execution_count": 10,
   "metadata": {
    "colab": {},
    "colab_type": "code",
    "id": "OTi1PqEoX-Sq"
   },
   "outputs": [],
   "source": [
    "from transformers import glue_convert_examples_to_features\n",
    "\n",
    "bert_train_dataset = glue_convert_examples_to_features(train_dataset, bert_tokenizer, 128, 'mrpc')\n",
    "bert_train_dataset = bert_train_dataset.shuffle(100).batch(32).repeat(2)\n",
    "\n",
    "bert_validation_dataset = glue_convert_examples_to_features(validation_dataset, bert_tokenizer, 128, 'mrpc')\n",
    "bert_validation_dataset = bert_validation_dataset.batch(64)"
   ]
  },
  {
   "cell_type": "markdown",
   "metadata": {
    "colab_type": "text",
    "id": "6AERtOk6LfUT"
   },
   "source": [
    "The two BERT datasets are now ready to be used: the training dataset is shuffled and batch, while the validation dataset is only batched.\n",
    "\n",
    "RoBERTa requires a bit more of work as it does not use the `token_type_ids`, which we need to remove. We use the `tf.data.Dataset.map()` method for this."
   ]
  },
  {
   "cell_type": "code",
   "execution_count": 11,
   "metadata": {
    "colab": {},
    "colab_type": "code",
    "id": "jbdrVn7BuFSJ"
   },
   "outputs": [],
   "source": [
    "def token_type_ids_removal(example, label):\n",
    "    del example[\"token_type_ids\"]\n",
    "    return example, label\n",
    "\n",
    "roberta_train_dataset = glue_convert_examples_to_features(train_dataset, roberta_tokenizer, 128, 'mrpc')\n",
    "roberta_train_dataset = roberta_train_dataset.map(token_type_ids_removal)\n",
    "roberta_train_dataset = roberta_train_dataset.shuffle(100).batch(32).repeat(2)\n",
    "\n",
    "roberta_validation_dataset = glue_convert_examples_to_features(validation_dataset, roberta_tokenizer, 128, 'mrpc')\n",
    "roberta_validation_dataset = roberta_validation_dataset.map(token_type_ids_removal)\n",
    "roberta_validation_dataset = roberta_validation_dataset.batch(64)"
   ]
  },
  {
   "cell_type": "markdown",
   "metadata": {
    "colab_type": "text",
    "id": "BOFkCP7seqHw"
   },
   "source": [
    "### Defining the hyper-parameters\n",
    "\n",
    "Before fine-tuning the model, we must define a few hyperparameters that will be used during the training such as the optimizer, the loss and the evaluation metric.\n",
    "\n",
    "As an optimizer we'll be using Adam, which was the optimizer used during those models' pre-training. As a loss we'll be using the sparse categorical cross-entropy, and the sparse categorical accuracy as the evaluation metric."
   ]
  },
  {
   "cell_type": "code",
   "execution_count": 12,
   "metadata": {
    "colab": {},
    "colab_type": "code",
    "id": "nQup8yJ2eDHq"
   },
   "outputs": [],
   "source": [
    "optimizer = tf.keras.optimizers.Adam(learning_rate=3e-5, epsilon=1e-08, clipnorm=1.0)\n",
    "loss = tf.keras.losses.SparseCategoricalCrossentropy(from_logits=True)\n",
    "metric = tf.keras.metrics.SparseCategoricalAccuracy('accuracy')\n",
    "\n",
    "bert_model.compile(optimizer=optimizer, loss=loss, metrics=[metric])\n",
    "roberta_model.compile(optimizer=optimizer, loss=loss, metrics=[metric])"
   ]
  },
  {
   "cell_type": "markdown",
   "metadata": {
    "colab_type": "text",
    "id": "2reI1c2HqfIt"
   },
   "source": [
    "### Training the model\n",
    "\n",
    "The beauty of tensorflow/keras lies here: using keras' fit method to fine-tune the model with a single line of code"
   ]
  },
  {
   "cell_type": "code",
   "execution_count": 14,
   "metadata": {
    "colab": {
     "base_uri": "https://localhost:8080/",
     "height": 357
    },
    "colab_type": "code",
    "id": "Soy6ZW-mqp0r",
    "outputId": "4516e1c5-6fda-49a6-8184-1005c442cfbe"
   },
   "outputs": [
    {
     "name": "stdout",
     "output_type": "stream",
     "text": [
      "Fine-tuning BERT on MRPC\n",
      "Epoch 1/3\n",
      "230/230 [==============================] - 358s 2s/step - loss: 0.4302 - accuracy: 0.8130 - val_loss: 0.0000e+00 - val_accuracy: 0.0000e+00\n",
      "Epoch 2/3\n",
      "230/230 [==============================] - 333s 1s/step - loss: 0.1123 - accuracy: 0.9669 - val_loss: 0.5181 - val_accuracy: 0.8358\n",
      "Epoch 3/3\n",
      "230/230 [==============================] - 333s 1s/step - loss: 0.0517 - accuracy: 0.9860 - val_loss: 0.5210 - val_accuracy: 0.8652\n"
     ]
    }
   ],
   "source": [
    "print(\"Fine-tuning BERT on MRPC\")\n",
    "bert_history = bert_model.fit(bert_train_dataset, epochs=3, validation_data=bert_validation_dataset)"
   ]
  },
  {
   "cell_type": "code",
   "execution_count": 15,
   "metadata": {
    "colab": {
     "base_uri": "https://localhost:8080/",
     "height": 357
    },
    "colab_type": "code",
    "id": "Soy6ZW-mqp0r",
    "outputId": "4516e1c5-6fda-49a6-8184-1005c442cfbe"
   },
   "outputs": [
    {
     "name": "stdout",
     "output_type": "stream",
     "text": [
      "\n",
      "Fine-tuning RoBERTa on MRPC\n"
     ]
    }
   ],
   "source": [
    "print(\"\\nFine-tuning RoBERTa on MRPC\")\n",
    "# this does not work - known bug in Hugging Face's Roberta implementation for TF2\n",
    "#roberta_history = roberta_model.fit(roberta_train_dataset, epochs=3, validation_data=roberta_validation_dataset)"
   ]
  },
  {
   "cell_type": "markdown",
   "metadata": {
    "colab_type": "text",
    "id": "YljeshET-_7U"
   },
   "source": [
    "### Keras's simplicity doesn't end here\n",
    "\n",
    "Evaluating a model is as simple as it is to train it - using the evaluate method"
   ]
  },
  {
   "cell_type": "code",
   "execution_count": 16,
   "metadata": {
    "colab": {},
    "colab_type": "code",
    "id": "scT82c9arCRv"
   },
   "outputs": [
    {
     "name": "stdout",
     "output_type": "stream",
     "text": [
      "Evaluating the BERT model\n",
      "7/7 [==============================] - 6s 862ms/step - loss: 0.5210 - accuracy: 0.8652\n",
      "Evaluating the RoBERTa model\n"
     ]
    }
   ],
   "source": [
    "print(\"Evaluating the BERT model\")\n",
    "bert_model.evaluate(bert_validation_dataset)\n",
    "\n",
    "print(\"Evaluating the RoBERTa model\")\n",
    "#roberta_model.evaluate(roberta_validation_dataset)"
   ]
  },
  {
   "cell_type": "markdown",
   "metadata": {
    "colab_type": "text",
    "id": "fj55Uq77tQ6J"
   },
   "source": [
    "## Results\n",
    "\n",
    "The results we obtain for BERT are similar to the paper's original results, which were computed using the official GLUE evaluation server. The accuracy obtained for RoBERTa is slightly less than in the paper, which is probably due to the initialisation done: in the paper, the fine-tuning on the MRPC task was done from the MNLI checkpoint rather than from the base checkpoint."
   ]
  }
 ],
 "metadata": {
  "accelerator": "GPU",
  "colab": {
   "collapsed_sections": [],
   "name": "Sequence Classification with Transformers",
   "provenance": []
  },
  "kernelspec": {
   "display_name": "Python 3",
   "language": "python",
   "name": "python3"
  },
  "language_info": {
   "codemirror_mode": {
    "name": "ipython",
    "version": 3
   },
   "file_extension": ".py",
   "mimetype": "text/x-python",
   "name": "python",
   "nbconvert_exporter": "python",
   "pygments_lexer": "ipython3",
   "version": "3.6.9"
  }
 },
 "nbformat": 4,
 "nbformat_minor": 1
}
